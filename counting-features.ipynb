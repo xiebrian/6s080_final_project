{
 "cells": [
  {
   "cell_type": "code",
   "execution_count": 6,
   "metadata": {},
   "outputs": [],
   "source": [
    "import dask\n",
    "import dask.dataframe as dd\n",
    "import pandas as pd\n",
    "import csv\n",
    "pd.set_option('display.max_rows', 500)\n",
    "pd.set_option('display.max_columns', 500)\n",
    "pd.set_option('display.width', 2000)\n",
    "pd.set_option('display.max_colwidth', 2000)"
   ]
  },
  {
   "cell_type": "code",
   "execution_count": 301,
   "metadata": {},
   "outputs": [],
   "source": [
    "df_0110 = pd.read_csv('twitter-data/0601.csv', lineterminator='\\n')"
   ]
  },
  {
   "cell_type": "code",
   "execution_count": 302,
   "metadata": {},
   "outputs": [],
   "source": [
    "df_0110.columns = ['created_at', 'id', 'text', 'lang', 'in_reply_to_screen_name', 'retweeted_status']"
   ]
  },
  {
   "cell_type": "code",
   "execution_count": 303,
   "metadata": {},
   "outputs": [
    {
     "data": {
      "text/html": [
       "<div>\n",
       "<style scoped>\n",
       "    .dataframe tbody tr th:only-of-type {\n",
       "        vertical-align: middle;\n",
       "    }\n",
       "\n",
       "    .dataframe tbody tr th {\n",
       "        vertical-align: top;\n",
       "    }\n",
       "\n",
       "    .dataframe thead th {\n",
       "        text-align: right;\n",
       "    }\n",
       "</style>\n",
       "<table border=\"1\" class=\"dataframe\">\n",
       "  <thead>\n",
       "    <tr style=\"text-align: right;\">\n",
       "      <th></th>\n",
       "      <th>created_at</th>\n",
       "      <th>id</th>\n",
       "      <th>text</th>\n",
       "      <th>lang</th>\n",
       "      <th>in_reply_to_screen_name</th>\n",
       "      <th>retweeted_status</th>\n",
       "    </tr>\n",
       "  </thead>\n",
       "  <tbody>\n",
       "    <tr>\n",
       "      <td>0</td>\n",
       "      <td>Sat Jun 01 06:29:00 +0000 2019</td>\n",
       "      <td>1.134708e+18</td>\n",
       "      <td>RT @askmenfess: [askmf] pls kenapa kakak kelas gue gini banget sih???😭😭😭 https://t.co/WqlIuCeAwj</td>\n",
       "      <td>in</td>\n",
       "      <td>NaN</td>\n",
       "      <td>True</td>\n",
       "    </tr>\n",
       "    <tr>\n",
       "      <td>1</td>\n",
       "      <td>Sat Jun 01 06:29:00 +0000 2019</td>\n",
       "      <td>1.134708e+18</td>\n",
       "      <td>@tm3305 一度は行ってみたいなあ</td>\n",
       "      <td>ja</td>\n",
       "      <td>tm3305</td>\n",
       "      <td>False</td>\n",
       "    </tr>\n",
       "    <tr>\n",
       "      <td>2</td>\n",
       "      <td>Sat Jun 01 06:29:00 +0000 2019</td>\n",
       "      <td>1.134708e+18</td>\n",
       "      <td>RT @Stone_nayouung: ทำไมอีเอ็มเปรตไม่ให้เด็กเลือกเพลงคอนเสปเองวะ เอาจริงแฟนๆก็เดาใจมันไม่ได้ ลุคมันอาจจะออกสาว แต่อยากได้เพลงแร๊ปดุดัน คน…</td>\n",
       "      <td>th</td>\n",
       "      <td>NaN</td>\n",
       "      <td>True</td>\n",
       "    </tr>\n",
       "    <tr>\n",
       "      <td>3</td>\n",
       "      <td>Sat Jun 01 06:29:00 +0000 2019</td>\n",
       "      <td>1.134708e+18</td>\n",
       "      <td>RT @imyoloist: มึง กุติ่งเป็นงานอดิเรก กุไม่ควรเครียด</td>\n",
       "      <td>th</td>\n",
       "      <td>NaN</td>\n",
       "      <td>True</td>\n",
       "    </tr>\n",
       "    <tr>\n",
       "      <td>4</td>\n",
       "      <td>Sat Jun 01 06:29:00 +0000 2019</td>\n",
       "      <td>1.134708e+18</td>\n",
       "      <td>@anakpaud_ wkwk bayangan kli ah😂</td>\n",
       "      <td>in</td>\n",
       "      <td>anakpaud_</td>\n",
       "      <td>False</td>\n",
       "    </tr>\n",
       "    <tr>\n",
       "      <td>...</td>\n",
       "      <td>...</td>\n",
       "      <td>...</td>\n",
       "      <td>...</td>\n",
       "      <td>...</td>\n",
       "      <td>...</td>\n",
       "      <td>...</td>\n",
       "    </tr>\n",
       "    <tr>\n",
       "      <td>4577534</td>\n",
       "      <td>NaN</td>\n",
       "      <td>NaN</td>\n",
       "      <td>NaN</td>\n",
       "      <td>NaN</td>\n",
       "      <td>NaN</td>\n",
       "      <td>False</td>\n",
       "    </tr>\n",
       "    <tr>\n",
       "      <td>4577535</td>\n",
       "      <td>NaN</td>\n",
       "      <td>NaN</td>\n",
       "      <td>NaN</td>\n",
       "      <td>NaN</td>\n",
       "      <td>NaN</td>\n",
       "      <td>False</td>\n",
       "    </tr>\n",
       "    <tr>\n",
       "      <td>4577536</td>\n",
       "      <td>Sun Jun 02 05:59:56 +0000 2019</td>\n",
       "      <td>1.135063e+18</td>\n",
       "      <td>RT @nielwink_kookie: #박지훈\\n박지훈 팬카페 \\n박지훈 고화질 \\n박지훈 움짤 \\n박지훈 gif \\n박지훈 팬미팅 \\n박지훈 인스타 \\n박지훈 메이 \\n박지훈 공카 \\n박지훈 팬클럽 \\n박지훈 배우 \\n박지훈 솔로 \\n박지훈 맥스 \\n박지훈 생일\\n박지훈…</td>\n",
       "      <td>ko</td>\n",
       "      <td>NaN</td>\n",
       "      <td>True</td>\n",
       "    </tr>\n",
       "    <tr>\n",
       "      <td>4577537</td>\n",
       "      <td>Sun Jun 02 05:59:56 +0000 2019</td>\n",
       "      <td>1.135063e+18</td>\n",
       "      <td>military homecomings make me CRY</td>\n",
       "      <td>en</td>\n",
       "      <td>NaN</td>\n",
       "      <td>False</td>\n",
       "    </tr>\n",
       "    <tr>\n",
       "      <td>4577538</td>\n",
       "      <td>Sun Jun 02 05:59:58 +0000 2019</td>\n",
       "      <td>1.135063e+18</td>\n",
       "      <td>@ooopppp4213_ ありがちょ🤣</td>\n",
       "      <td>ja</td>\n",
       "      <td>ooopppp4213_</td>\n",
       "      <td>False</td>\n",
       "    </tr>\n",
       "  </tbody>\n",
       "</table>\n",
       "<p>4577539 rows × 6 columns</p>\n",
       "</div>"
      ],
      "text/plain": [
       "                             created_at            id                                                                                                                                                       text lang in_reply_to_screen_name retweeted_status\n",
       "0        Sat Jun 01 06:29:00 +0000 2019  1.134708e+18                                                           RT @askmenfess: [askmf] pls kenapa kakak kelas gue gini banget sih???😭😭😭 https://t.co/WqlIuCeAwj   in                     NaN             True\n",
       "1        Sat Jun 01 06:29:00 +0000 2019  1.134708e+18                                                                                                                                        @tm3305 一度は行ってみたいなあ   ja                  tm3305            False\n",
       "2        Sat Jun 01 06:29:00 +0000 2019  1.134708e+18                 RT @Stone_nayouung: ทำไมอีเอ็มเปรตไม่ให้เด็กเลือกเพลงคอนเสปเองวะ เอาจริงแฟนๆก็เดาใจมันไม่ได้ ลุคมันอาจจะออกสาว แต่อยากได้เพลงแร๊ปดุดัน คน…   th                     NaN             True\n",
       "3        Sat Jun 01 06:29:00 +0000 2019  1.134708e+18                                                                                                      RT @imyoloist: มึง กุติ่งเป็นงานอดิเรก กุไม่ควรเครียด   th                     NaN             True\n",
       "4        Sat Jun 01 06:29:00 +0000 2019  1.134708e+18                                                                                                                           @anakpaud_ wkwk bayangan kli ah😂   in               anakpaud_            False\n",
       "...                                 ...           ...                                                                                                                                                        ...  ...                     ...              ...\n",
       "4577534                             NaN           NaN                                                                                                                                                        NaN  NaN                     NaN            False\n",
       "4577535                             NaN           NaN                                                                                                                                                        NaN  NaN                     NaN            False\n",
       "4577536  Sun Jun 02 05:59:56 +0000 2019  1.135063e+18  RT @nielwink_kookie: #박지훈\\n박지훈 팬카페 \\n박지훈 고화질 \\n박지훈 움짤 \\n박지훈 gif \\n박지훈 팬미팅 \\n박지훈 인스타 \\n박지훈 메이 \\n박지훈 공카 \\n박지훈 팬클럽 \\n박지훈 배우 \\n박지훈 솔로 \\n박지훈 맥스 \\n박지훈 생일\\n박지훈…   ko                     NaN             True\n",
       "4577537  Sun Jun 02 05:59:56 +0000 2019  1.135063e+18                                                                                                                           military homecomings make me CRY   en                     NaN            False\n",
       "4577538  Sun Jun 02 05:59:58 +0000 2019  1.135063e+18                                                                                                                                       @ooopppp4213_ ありがちょ🤣   ja            ooopppp4213_            False\n",
       "\n",
       "[4577539 rows x 6 columns]"
      ]
     },
     "execution_count": 303,
     "metadata": {},
     "output_type": "execute_result"
    }
   ],
   "source": [
    "df_0110"
   ]
  },
  {
   "cell_type": "code",
   "execution_count": 304,
   "metadata": {},
   "outputs": [],
   "source": [
    "df_0110_english = df_0110[df_0110.lang == 'en']"
   ]
  },
  {
   "cell_type": "code",
   "execution_count": 305,
   "metadata": {},
   "outputs": [
    {
     "name": "stdout",
     "output_type": "stream",
     "text": [
      " flu | flu\\.| flu\\,|influenza\n"
     ]
    }
   ],
   "source": [
    "search_for = \"|\".join([' flu ', ' flu\\.', ' flu\\,', 'influenza'])\n",
    "print(search_for)\n",
    "df_flu = df_0110_english[df_0110_english[\"text\"].str.contains(search_for, case=False)]"
   ]
  },
  {
   "cell_type": "code",
   "execution_count": 306,
   "metadata": {},
   "outputs": [],
   "source": [
    "# df_flu_text = df_flu[['text']]"
   ]
  },
  {
   "cell_type": "code",
   "execution_count": 307,
   "metadata": {},
   "outputs": [
    {
     "data": {
      "text/plain": [
       "35"
      ]
     },
     "execution_count": 307,
     "metadata": {},
     "output_type": "execute_result"
    }
   ],
   "source": [
    "len(df_flu)"
   ]
  },
  {
   "cell_type": "code",
   "execution_count": null,
   "metadata": {},
   "outputs": [],
   "source": []
  },
  {
   "cell_type": "code",
   "execution_count": null,
   "metadata": {},
   "outputs": [],
   "source": []
  }
 ],
 "metadata": {
  "kernelspec": {
   "display_name": "Python 3",
   "language": "python",
   "name": "python3"
  },
  "language_info": {
   "codemirror_mode": {
    "name": "ipython",
    "version": 3
   },
   "file_extension": ".py",
   "mimetype": "text/x-python",
   "name": "python",
   "nbconvert_exporter": "python",
   "pygments_lexer": "ipython3",
   "version": "3.7.4"
  }
 },
 "nbformat": 4,
 "nbformat_minor": 2
}
