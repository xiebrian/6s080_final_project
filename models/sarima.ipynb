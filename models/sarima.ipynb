{
 "cells": [
  {
   "cell_type": "code",
   "execution_count": 1,
   "metadata": {},
   "outputs": [],
   "source": [
    "from dateutil.parser import parse \n",
    "import matplotlib as mpl\n",
    "import matplotlib.pyplot as plt\n",
    "import seaborn as sns\n",
    "import numpy as np\n",
    "import pandas as pd\n",
    "\n",
    "from statsmodels.tsa.statespace.sarimax import SARIMAX\n",
    "from random import random"
   ]
  },
  {
   "cell_type": "code",
   "execution_count": 2,
   "metadata": {},
   "outputs": [],
   "source": [
    "df_hospital = pd.read_csv('../data/hospital_visits.csv')\n",
    "df_hospital['Week'] = df_hospital.Week.map(str) + \"-\" + df_hospital.Year.map(str)\n",
    "df_hospital = df_hospital[['Total ILI']]\n",
    "list_data = list(df_hospital['Total ILI'])"
   ]
  },
  {
   "cell_type": "code",
   "execution_count": 3,
   "metadata": {},
   "outputs": [],
   "source": [
    "list_data = list(df_hospital['Total ILI'])"
   ]
  },
  {
   "cell_type": "code",
   "execution_count": 4,
   "metadata": {},
   "outputs": [],
   "source": [
    "model = SARIMAX(list_data, order=(1, 1, 0), seasonal_order=(1, 1, 0, 52))\n",
    "model_fit = model.fit(disp=False)"
   ]
  },
  {
   "cell_type": "code",
   "execution_count": 5,
   "metadata": {},
   "outputs": [
    {
     "name": "stdout",
     "output_type": "stream",
     "text": [
      "[34795.29544933 34402.81630074 39001.42562464 39674.93920835\n",
      " 45632.84761505 54460.85876341 58359.28470959 58791.21720141\n",
      " 62974.34966382 67643.93140469 78093.93480148 86909.49459414\n",
      " 94007.46486288 87362.51026901 72330.61848033 59241.14575841\n",
      " 53791.98884429 50988.82457942 46618.87418141 41589.44900466\n",
      " 38560.66332759 35036.72232479 32029.97719163 30789.18465545\n",
      " 29326.37024352 27619.00417451 27026.47491291 26441.10905995\n",
      " 25453.8424043  24374.81418272 23154.5211204  22430.10566935\n",
      " 21918.38976656 20972.32234143 20999.34515375 20443.79020607\n",
      " 20140.65476299 20245.9967166  20463.94835971 21239.24828909\n",
      " 22102.67076884 23302.97365433 24603.51889958 25516.15726924\n",
      " 26569.21208995 27007.54090459 33331.67679864 34193.85406371\n",
      " 35719.97322677 37704.3374942  39016.29251887 41012.56258606]\n"
     ]
    }
   ],
   "source": [
    "# make prediction\n",
    "future = 52\n",
    "# predictions = model_fit.predict(len(list_data), len(list_data) + future)\n",
    "predictions = model_fit.forecast(future)\n",
    "print(predictions)\n",
    "# future_weeks = list(range(len(list_data) - 1, len(list_data) + future))\n",
    "future_weeks = list(range(len(list_data) - 1, len(list_data) + future))\n",
    "# future_weeks"
   ]
  },
  {
   "cell_type": "code",
   "execution_count": 6,
   "metadata": {},
   "outputs": [],
   "source": [
    "predictions_df = pd.DataFrame([future_weeks, predictions]).transpose()\n",
    "predictions_df.columns = ['Week', 'Total ILI']\n",
    "predictions_df = predictions_df.set_index('Week')"
   ]
  },
  {
   "cell_type": "code",
   "execution_count": 7,
   "metadata": {},
   "outputs": [
    {
     "data": {
      "text/plain": [
       "Text(0.5, 1.0, 'Total ILI: 2014 - 2019 + predictions')"
      ]
     },
     "execution_count": 7,
     "metadata": {},
     "output_type": "execute_result"
    },
    {
     "data": {
      "image/png": "[encoded data removed]",
      "text/plain": [
       "<Figure size 432x288 with 1 Axes>"
      ]
     },
     "metadata": {
      "needs_background": "light"
     },
     "output_type": "display_data"
    }
   ],
   "source": [
    "plt.plot(df_hospital['Total ILI'])\n",
    "plt.plot(predictions_df, '--')\n",
    "plt.xlabel(\"Week\", labelpad=10)\n",
    "plt.ylabel(\"Total ILI\", labelpad=10)\n",
    "plt.title(\"Total ILI: 2014 - 2019 + predictions\", pad=15)"
   ]
  },
  {
   "cell_type": "code",
   "execution_count": 71,
   "metadata": {},
   "outputs": [
    {
     "data": {
      "text/html": [
       "<table class=\"simpletable\">\n",
       "<caption>Statespace Model Results</caption>\n",
       "<tr>\n",
       "  <th>Dep. Variable:</th>                  <td>y</td>               <th>  No. Observations:  </th>    <td>267</td>   \n",
       "</tr>\n",
       "<tr>\n",
       "  <th>Model:</th>           <td>SARIMAX(1, 1, 0)x(1, 1, 0, 52)</td> <th>  Log Likelihood     </th> <td>-1991.122</td>\n",
       "</tr>\n",
       "<tr>\n",
       "  <th>Date:</th>                   <td>Mon, 09 Dec 2019</td>        <th>  AIC                </th> <td>3988.244</td> \n",
       "</tr>\n",
       "<tr>\n",
       "  <th>Time:</th>                       <td>14:14:38</td>            <th>  BIC                </th> <td>3998.342</td> \n",
       "</tr>\n",
       "<tr>\n",
       "  <th>Sample:</th>                         <td>0</td>               <th>  HQIC               </th> <td>3992.325</td> \n",
       "</tr>\n",
       "<tr>\n",
       "  <th></th>                             <td> - 267</td>             <th>                     </th>     <td> </td>    \n",
       "</tr>\n",
       "<tr>\n",
       "  <th>Covariance Type:</th>               <td>opg</td>              <th>                     </th>     <td> </td>    \n",
       "</tr>\n",
       "</table>\n",
       "<table class=\"simpletable\">\n",
       "<tr>\n",
       "      <td></td>        <th>coef</th>     <th>std err</th>      <th>z</th>      <th>P>|z|</th>  <th>[0.025</th>    <th>0.975]</th>  \n",
       "</tr>\n",
       "<tr>\n",
       "  <th>ar.L1</th>    <td>    0.6086</td> <td>    0.039</td> <td>   15.590</td> <td> 0.000</td> <td>    0.532</td> <td>    0.685</td>\n",
       "</tr>\n",
       "<tr>\n",
       "  <th>ar.S.L52</th> <td>   -0.5839</td> <td>    0.044</td> <td>  -13.349</td> <td> 0.000</td> <td>   -0.670</td> <td>   -0.498</td>\n",
       "</tr>\n",
       "<tr>\n",
       "  <th>sigma2</th>   <td> 6.959e+06</td> <td> 3.91e+05</td> <td>   17.821</td> <td> 0.000</td> <td> 6.19e+06</td> <td> 7.72e+06</td>\n",
       "</tr>\n",
       "</table>\n",
       "<table class=\"simpletable\">\n",
       "<tr>\n",
       "  <th>Ljung-Box (Q):</th>          <td>39.14</td> <th>  Jarque-Bera (JB):  </th> <td>855.52</td>\n",
       "</tr>\n",
       "<tr>\n",
       "  <th>Prob(Q):</th>                <td>0.51</td>  <th>  Prob(JB):          </th>  <td>0.00</td> \n",
       "</tr>\n",
       "<tr>\n",
       "  <th>Heteroskedasticity (H):</th> <td>1.00</td>  <th>  Skew:              </th>  <td>-1.30</td>\n",
       "</tr>\n",
       "<tr>\n",
       "  <th>Prob(H) (two-sided):</th>    <td>0.99</td>  <th>  Kurtosis:          </th>  <td>12.44</td>\n",
       "</tr>\n",
       "</table><br/><br/>Warnings:<br/>[1] Covariance matrix calculated using the outer product of gradients (complex-step)."
      ],
      "text/plain": [
       "<class 'statsmodels.iolib.summary.Summary'>\n",
       "\"\"\"\n",
       "                                 Statespace Model Results                                 \n",
       "==========================================================================================\n",
       "Dep. Variable:                                  y   No. Observations:                  267\n",
       "Model:             SARIMAX(1, 1, 0)x(1, 1, 0, 52)   Log Likelihood               -1991.122\n",
       "Date:                            Mon, 09 Dec 2019   AIC                           3988.244\n",
       "Time:                                    14:14:38   BIC                           3998.342\n",
       "Sample:                                         0   HQIC                          3992.325\n",
       "                                            - 267                                         \n",
       "Covariance Type:                              opg                                         \n",
       "==============================================================================\n",
       "                 coef    std err          z      P>|z|      [0.025      0.975]\n",
       "------------------------------------------------------------------------------\n",
       "ar.L1          0.6086      0.039     15.590      0.000       0.532       0.685\n",
       "ar.S.L52      -0.5839      0.044    -13.349      0.000      -0.670      -0.498\n",
       "sigma2      6.959e+06   3.91e+05     17.821      0.000    6.19e+06    7.72e+06\n",
       "===================================================================================\n",
       "Ljung-Box (Q):                       39.14   Jarque-Bera (JB):               855.52\n",
       "Prob(Q):                              0.51   Prob(JB):                         0.00\n",
       "Heteroskedasticity (H):               1.00   Skew:                            -1.30\n",
       "Prob(H) (two-sided):                  0.99   Kurtosis:                        12.44\n",
       "===================================================================================\n",
       "\n",
       "Warnings:\n",
       "[1] Covariance matrix calculated using the outer product of gradients (complex-step).\n",
       "\"\"\""
      ]
     },
     "execution_count": 71,
     "metadata": {},
     "output_type": "execute_result"
    }
   ],
   "source": [
    "model_fit.summary()"
   ]
  },
  {
   "cell_type": "code",
   "execution_count": null,
   "metadata": {},
   "outputs": [],
   "source": []
  }
 ],
 "metadata": {
  "kernelspec": {
   "display_name": "Python 3",
   "language": "python",
   "name": "python3"
  },
  "language_info": {
   "codemirror_mode": {
    "name": "ipython",
    "version": 3
   },
   "file_extension": ".py",
   "mimetype": "text/x-python",
   "name": "python",
   "nbconvert_exporter": "python",
   "pygments_lexer": "ipython3",
   "version": "3.7.5"
  }
 },
 "nbformat": 4,
 "nbformat_minor": 2
}
