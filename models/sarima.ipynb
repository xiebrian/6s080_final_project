{
 "cells": [
  {
   "cell_type": "code",
   "execution_count": 1,
   "metadata": {},
   "outputs": [],
   "source": [
    "from dateutil.parser import parse \n",
    "import matplotlib as mpl\n",
    "import matplotlib.pyplot as plt\n",
    "import seaborn as sns\n",
    "import numpy as np\n",
    "import pandas as pd\n",
    "\n",
    "from statsmodels.tsa.statespace.sarimax import SARIMAX\n",
    "from random import random"
   ]
  },
  {
   "cell_type": "code",
   "execution_count": 2,
   "metadata": {},
   "outputs": [],
   "source": [
    "df_hospital = pd.read_csv('../data/hospital_visits.csv')\n",
    "df_hospital['Week'] = df_hospital.Week.map(str) + \"-\" + df_hospital.Year.map(str)\n",
    "df_hospital = df_hospital[['Total ILI']]\n",
    "list_data = list(df_hospital['Total ILI'])"
   ]
  },
  {
   "cell_type": "code",
   "execution_count": 3,
   "metadata": {},
   "outputs": [],
   "source": [
    "list_data = list(df_hospital['Total ILI'])"
   ]
  },
  {
   "cell_type": "code",
   "execution_count": 4,
   "metadata": {},
   "outputs": [],
   "source": [
    "model = SARIMAX(list_data[:-52], order=(1, 1, 0), seasonal_order=(1, 1, 0, 52))\n",
    "model_fit = model.fit(disp=False)"
   ]
  },
  {
   "cell_type": "code",
   "execution_count": 5,
   "metadata": {},
   "outputs": [
    {
     "name": "stdout",
     "output_type": "stream",
     "text": [
      "[25908.21457064 24062.99635026 27326.88688193 28173.7152793\n",
      " 32849.3860609  41136.45077238 43909.80471958 44919.3737014\n",
      " 51215.4055427  56600.58981251 66577.07685977 73999.58601421\n",
      " 77491.81676897 69437.25157929 54325.11569591 39940.68800449\n",
      " 34771.79128464 31813.22125477 31136.41679329 28070.2440747\n",
      " 25335.16201543 22299.45751577 20236.713748   19648.33291172\n",
      " 18413.16071199 17141.31831864 16652.70717702 15890.68784888\n",
      " 14960.26109423 14309.45347813 13260.11968531 12993.18732202\n",
      " 12482.33366863 11954.02832202 11972.66901311 11438.47238234\n",
      " 11304.25679947 11376.60478507 11537.93539757 12080.33365916\n",
      " 13066.34024141 13733.74640005 14593.53318241 15330.35234689\n",
      " 15953.55502907 16045.0667421  22150.60451045 22737.02330427\n",
      " 23944.2609978  25567.3270674  26993.92064393 28299.89274446]\n"
     ]
    }
   ],
   "source": [
    "# make prediction\n",
    "future = 52\n",
    "# predictions = model_fit.predict(len(list_data), len(list_data) + future)\n",
    "predictions = model_fit.forecast(future)\n",
    "print(predictions)\n",
    "# future_weeks = list(range(len(list_data) - 1, len(list_data) + future))\n",
    "future_weeks = list(range(len(list_data) - 53, len(list_data) + future - 1))\n",
    "# future_weeks"
   ]
  },
  {
   "cell_type": "code",
   "execution_count": 6,
   "metadata": {},
   "outputs": [],
   "source": [
    "predictions_df = pd.DataFrame([future_weeks, predictions]).transpose()\n",
    "predictions_df.columns = ['Week', 'Total ILI']\n",
    "predictions_df = predictions_df.set_index('Week')"
   ]
  },
  {
   "cell_type": "code",
   "execution_count": 7,
   "metadata": {},
   "outputs": [
    {
     "data": {
      "text/plain": [
       "Text(0.5, 1.0, 'Total ILI: 2014 - 2019 + predictions')"
      ]
     },
     "execution_count": 7,
     "metadata": {},
     "output_type": "execute_result"
    },
    {
     "data": {
      "image/png": "[encoded data removed]",
      "text/plain": [
       "<Figure size 432x288 with 1 Axes>"
      ]
     },
     "metadata": {
      "needs_background": "light"
     },
     "output_type": "display_data"
    }
   ],
   "source": [
    "plt.plot(df_hospital['Total ILI'])\n",
    "plt.plot(predictions_df, '--')\n",
    "plt.xlabel(\"Week\", labelpad=10)\n",
    "plt.ylabel(\"Total ILI\", labelpad=10)\n",
    "plt.title(\"Total ILI: 2014 - 2019 + predictions\", pad=15)"
   ]
  },
  {
   "cell_type": "code",
   "execution_count": 8,
   "metadata": {},
   "outputs": [
    {
     "data": {
      "text/html": [
       "<table class=\"simpletable\">\n",
       "<caption>Statespace Model Results</caption>\n",
       "<tr>\n",
       "  <th>Dep. Variable:</th>                  <td>y</td>               <th>  No. Observations:  </th>    <td>215</td>   \n",
       "</tr>\n",
       "<tr>\n",
       "  <th>Model:</th>           <td>SARIMAX(1, 1, 0)x(1, 1, 0, 52)</td> <th>  Log Likelihood     </th> <td>-1510.943</td>\n",
       "</tr>\n",
       "<tr>\n",
       "  <th>Date:</th>                   <td>Mon, 09 Dec 2019</td>        <th>  AIC                </th> <td>3027.885</td> \n",
       "</tr>\n",
       "<tr>\n",
       "  <th>Time:</th>                       <td>17:36:35</td>            <th>  BIC                </th> <td>3037.148</td> \n",
       "</tr>\n",
       "<tr>\n",
       "  <th>Sample:</th>                         <td>0</td>               <th>  HQIC               </th> <td>3031.646</td> \n",
       "</tr>\n",
       "<tr>\n",
       "  <th></th>                             <td> - 215</td>             <th>                     </th>     <td> </td>    \n",
       "</tr>\n",
       "<tr>\n",
       "  <th>Covariance Type:</th>               <td>opg</td>              <th>                     </th>     <td> </td>    \n",
       "</tr>\n",
       "</table>\n",
       "<table class=\"simpletable\">\n",
       "<tr>\n",
       "      <td></td>        <th>coef</th>     <th>std err</th>      <th>z</th>      <th>P>|z|</th>  <th>[0.025</th>    <th>0.975]</th>  \n",
       "</tr>\n",
       "<tr>\n",
       "  <th>ar.L1</th>    <td>    0.5771</td> <td>    0.050</td> <td>   11.445</td> <td> 0.000</td> <td>    0.478</td> <td>    0.676</td>\n",
       "</tr>\n",
       "<tr>\n",
       "  <th>ar.S.L52</th> <td>   -0.3638</td> <td>    0.074</td> <td>   -4.886</td> <td> 0.000</td> <td>   -0.510</td> <td>   -0.218</td>\n",
       "</tr>\n",
       "<tr>\n",
       "  <th>sigma2</th>   <td>  7.75e+06</td> <td> 5.38e+05</td> <td>   14.397</td> <td> 0.000</td> <td> 6.69e+06</td> <td>  8.8e+06</td>\n",
       "</tr>\n",
       "</table>\n",
       "<table class=\"simpletable\">\n",
       "<tr>\n",
       "  <th>Ljung-Box (Q):</th>          <td>29.72</td> <th>  Jarque-Bera (JB):  </th> <td>817.15</td>\n",
       "</tr>\n",
       "<tr>\n",
       "  <th>Prob(Q):</th>                <td>0.88</td>  <th>  Prob(JB):          </th>  <td>0.00</td> \n",
       "</tr>\n",
       "<tr>\n",
       "  <th>Heteroskedasticity (H):</th> <td>3.33</td>  <th>  Skew:              </th>  <td>-1.50</td>\n",
       "</tr>\n",
       "<tr>\n",
       "  <th>Prob(H) (two-sided):</th>    <td>0.00</td>  <th>  Kurtosis:          </th>  <td>13.58</td>\n",
       "</tr>\n",
       "</table><br/><br/>Warnings:<br/>[1] Covariance matrix calculated using the outer product of gradients (complex-step)."
      ],
      "text/plain": [
       "<class 'statsmodels.iolib.summary.Summary'>\n",
       "\"\"\"\n",
       "                                 Statespace Model Results                                 \n",
       "==========================================================================================\n",
       "Dep. Variable:                                  y   No. Observations:                  215\n",
       "Model:             SARIMAX(1, 1, 0)x(1, 1, 0, 52)   Log Likelihood               -1510.943\n",
       "Date:                            Mon, 09 Dec 2019   AIC                           3027.885\n",
       "Time:                                    17:36:35   BIC                           3037.148\n",
       "Sample:                                         0   HQIC                          3031.646\n",
       "                                            - 215                                         \n",
       "Covariance Type:                              opg                                         \n",
       "==============================================================================\n",
       "                 coef    std err          z      P>|z|      [0.025      0.975]\n",
       "------------------------------------------------------------------------------\n",
       "ar.L1          0.5771      0.050     11.445      0.000       0.478       0.676\n",
       "ar.S.L52      -0.3638      0.074     -4.886      0.000      -0.510      -0.218\n",
       "sigma2       7.75e+06   5.38e+05     14.397      0.000    6.69e+06     8.8e+06\n",
       "===================================================================================\n",
       "Ljung-Box (Q):                       29.72   Jarque-Bera (JB):               817.15\n",
       "Prob(Q):                              0.88   Prob(JB):                         0.00\n",
       "Heteroskedasticity (H):               3.33   Skew:                            -1.50\n",
       "Prob(H) (two-sided):                  0.00   Kurtosis:                        13.58\n",
       "===================================================================================\n",
       "\n",
       "Warnings:\n",
       "[1] Covariance matrix calculated using the outer product of gradients (complex-step).\n",
       "\"\"\""
      ]
     },
     "execution_count": 8,
     "metadata": {},
     "output_type": "execute_result"
    }
   ],
   "source": [
    "model_fit.summary()"
   ]
  },
  {
   "cell_type": "code",
   "execution_count": null,
   "metadata": {},
   "outputs": [],
   "source": []
  }
 ],
 "metadata": {
  "kernelspec": {
   "display_name": "Python 3",
   "language": "python",
   "name": "python3"
  },
  "language_info": {
   "codemirror_mode": {
    "name": "ipython",
    "version": 3
   },
   "file_extension": ".py",
   "mimetype": "text/x-python",
   "name": "python",
   "nbconvert_exporter": "python",
   "pygments_lexer": "ipython3",
   "version": "3.7.4"
  }
 },
 "nbformat": 4,
 "nbformat_minor": 2
}
