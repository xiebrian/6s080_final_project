{
 "cells": [
  {
   "cell_type": "markdown",
   "metadata": {},
   "source": [
    "# Seasonal Autoregressive Integrated Moving Average\n",
    "### Model for time series forecasting with data containing trends and/or seasonality"
   ]
  },
  {
   "cell_type": "code",
   "execution_count": 32,
   "metadata": {},
   "outputs": [],
   "source": [
    "import matplotlib.pyplot as plt\n",
    "import pandas as pd\n",
    "from statsmodels.tsa.statespace.sarimax import SARIMAX"
   ]
  },
  {
   "cell_type": "markdown",
   "metadata": {},
   "source": [
    "Reading in CDC hospitalization data"
   ]
  },
  {
   "cell_type": "code",
   "execution_count": 33,
   "metadata": {},
   "outputs": [],
   "source": [
    "df_hospital = pd.read_csv('../data/hospital_visits.csv')\n",
    "df_hospital['Week'] = df_hospital.Week.map(str) + \"-\" + df_hospital.Year.map(str)\n",
    "df_hospital = df_hospital[['Total ILI']]\n",
    "list_data = list(df_hospital['Total ILI'])"
   ]
  },
  {
   "cell_type": "code",
   "execution_count": 34,
   "metadata": {},
   "outputs": [],
   "source": [
    "list_data = list(df_hospital['Total ILI'])"
   ]
  },
  {
   "cell_type": "markdown",
   "metadata": {},
   "source": [
    "#### Defining the SARIMA model - forecasting the last 52 weeks\n",
    "Optimal order and seasonal_order (found via hyperparameter tuning in sarima-script.py)"
   ]
  },
  {
   "cell_type": "code",
   "execution_count": 35,
   "metadata": {},
   "outputs": [],
   "source": [
    "model = SARIMAX(list_data[:-52], order=(0, 1, 1), seasonal_order=(2, 1, 0, 52))\n",
    "model_fit = model.fit(disp=False)"
   ]
  },
  {
   "cell_type": "code",
   "execution_count": 36,
   "metadata": {},
   "outputs": [],
   "source": [
    "future = 52\n",
    "predictions = model_fit.forecast(future)\n",
    "future_weeks = list(range(len(list_data) - future - 1, len(list_data) + future - 1))"
   ]
  },
  {
   "cell_type": "code",
   "execution_count": 37,
   "metadata": {},
   "outputs": [],
   "source": [
    "predictions_df = pd.DataFrame([future_weeks, predictions]).transpose()\n",
    "predictions_df.columns = ['Week', 'Total ILI']\n",
    "predictions_df = predictions_df.set_index('Week')"
   ]
  },
  {
   "cell_type": "code",
   "execution_count": 38,
   "metadata": {},
   "outputs": [
    {
     "data": {
      "text/plain": [
       "Text(0.5, 1.0, 'Total ILI: 2014 - 2019 + predictions')"
      ]
     },
     "execution_count": 38,
     "metadata": {},
     "output_type": "execute_result"
    },
    {
     "data": {
      "image/png": "[encoded data removed]",
      "text/plain": [
       "<Figure size 432x288 with 1 Axes>"
      ]
     },
     "metadata": {
      "needs_background": "light"
     },
     "output_type": "display_data"
    }
   ],
   "source": [
    "plt.plot(df_hospital['Total ILI'])\n",
    "plt.plot(predictions_df, '--')\n",
    "plt.xlabel(\"Week\", labelpad=10)\n",
    "plt.ylabel(\"Total ILI\", labelpad=10)\n",
    "plt.title(\"Total ILI: 2014 - 2019 + predictions\", pad=15)"
   ]
  },
  {
   "cell_type": "code",
   "execution_count": 39,
   "metadata": {},
   "outputs": [
    {
     "data": {
      "text/html": [
       "<table class=\"simpletable\">\n",
       "<caption>Statespace Model Results</caption>\n",
       "<tr>\n",
       "  <th>Dep. Variable:</th>                  <td>y</td>               <th>  No. Observations:  </th>    <td>215</td>   \n",
       "</tr>\n",
       "<tr>\n",
       "  <th>Model:</th>           <td>SARIMAX(0, 1, 1)x(2, 1, 0, 52)</td> <th>  Log Likelihood     </th> <td>-1516.764</td>\n",
       "</tr>\n",
       "<tr>\n",
       "  <th>Date:</th>                   <td>Tue, 10 Dec 2019</td>        <th>  AIC                </th> <td>3041.528</td> \n",
       "</tr>\n",
       "<tr>\n",
       "  <th>Time:</th>                       <td>12:51:50</td>            <th>  BIC                </th> <td>3053.879</td> \n",
       "</tr>\n",
       "<tr>\n",
       "  <th>Sample:</th>                         <td>0</td>               <th>  HQIC               </th> <td>3046.543</td> \n",
       "</tr>\n",
       "<tr>\n",
       "  <th></th>                             <td> - 215</td>             <th>                     </th>     <td> </td>    \n",
       "</tr>\n",
       "<tr>\n",
       "  <th>Covariance Type:</th>               <td>opg</td>              <th>                     </th>     <td> </td>    \n",
       "</tr>\n",
       "</table>\n",
       "<table class=\"simpletable\">\n",
       "<tr>\n",
       "      <td></td>         <th>coef</th>     <th>std err</th>      <th>z</th>      <th>P>|z|</th>  <th>[0.025</th>    <th>0.975]</th>  \n",
       "</tr>\n",
       "<tr>\n",
       "  <th>ma.L1</th>     <td>    0.4925</td> <td>    0.054</td> <td>    9.135</td> <td> 0.000</td> <td>    0.387</td> <td>    0.598</td>\n",
       "</tr>\n",
       "<tr>\n",
       "  <th>ar.S.L52</th>  <td>   -0.3542</td> <td>    0.125</td> <td>   -2.825</td> <td> 0.005</td> <td>   -0.600</td> <td>   -0.108</td>\n",
       "</tr>\n",
       "<tr>\n",
       "  <th>ar.S.L104</th> <td>   -0.1650</td> <td>    0.108</td> <td>   -1.527</td> <td> 0.127</td> <td>   -0.377</td> <td>    0.047</td>\n",
       "</tr>\n",
       "<tr>\n",
       "  <th>sigma2</th>    <td> 8.584e+06</td> <td> 4.85e+05</td> <td>   17.710</td> <td> 0.000</td> <td> 7.63e+06</td> <td> 9.53e+06</td>\n",
       "</tr>\n",
       "</table>\n",
       "<table class=\"simpletable\">\n",
       "<tr>\n",
       "  <th>Ljung-Box (Q):</th>          <td>41.27</td> <th>  Jarque-Bera (JB):  </th> <td>1321.88</td>\n",
       "</tr>\n",
       "<tr>\n",
       "  <th>Prob(Q):</th>                <td>0.41</td>  <th>  Prob(JB):          </th>  <td>0.00</td>  \n",
       "</tr>\n",
       "<tr>\n",
       "  <th>Heteroskedasticity (H):</th> <td>3.49</td>  <th>  Skew:              </th>  <td>-1.43</td> \n",
       "</tr>\n",
       "<tr>\n",
       "  <th>Prob(H) (two-sided):</th>    <td>0.00</td>  <th>  Kurtosis:          </th>  <td>16.70</td> \n",
       "</tr>\n",
       "</table><br/><br/>Warnings:<br/>[1] Covariance matrix calculated using the outer product of gradients (complex-step)."
      ],
      "text/plain": [
       "<class 'statsmodels.iolib.summary.Summary'>\n",
       "\"\"\"\n",
       "                                 Statespace Model Results                                 \n",
       "==========================================================================================\n",
       "Dep. Variable:                                  y   No. Observations:                  215\n",
       "Model:             SARIMAX(0, 1, 1)x(2, 1, 0, 52)   Log Likelihood               -1516.764\n",
       "Date:                            Tue, 10 Dec 2019   AIC                           3041.528\n",
       "Time:                                    12:51:50   BIC                           3053.879\n",
       "Sample:                                         0   HQIC                          3046.543\n",
       "                                            - 215                                         \n",
       "Covariance Type:                              opg                                         \n",
       "==============================================================================\n",
       "                 coef    std err          z      P>|z|      [0.025      0.975]\n",
       "------------------------------------------------------------------------------\n",
       "ma.L1          0.4925      0.054      9.135      0.000       0.387       0.598\n",
       "ar.S.L52      -0.3542      0.125     -2.825      0.005      -0.600      -0.108\n",
       "ar.S.L104     -0.1650      0.108     -1.527      0.127      -0.377       0.047\n",
       "sigma2      8.584e+06   4.85e+05     17.710      0.000    7.63e+06    9.53e+06\n",
       "===================================================================================\n",
       "Ljung-Box (Q):                       41.27   Jarque-Bera (JB):              1321.88\n",
       "Prob(Q):                              0.41   Prob(JB):                         0.00\n",
       "Heteroskedasticity (H):               3.49   Skew:                            -1.43\n",
       "Prob(H) (two-sided):                  0.00   Kurtosis:                        16.70\n",
       "===================================================================================\n",
       "\n",
       "Warnings:\n",
       "[1] Covariance matrix calculated using the outer product of gradients (complex-step).\n",
       "\"\"\""
      ]
     },
     "execution_count": 39,
     "metadata": {},
     "output_type": "execute_result"
    }
   ],
   "source": [
    "model_fit.summary()"
   ]
  },
  {
   "cell_type": "markdown",
   "metadata": {},
   "source": [
    "#### Defining the SARIMA model - forecasting the next 52 weeks\n",
    "Optimal order and seasonal_order (found via hyperparameter tuning in sarima-script.py)"
   ]
  },
  {
   "cell_type": "code",
   "execution_count": 40,
   "metadata": {},
   "outputs": [],
   "source": [
    "model = SARIMAX(list_data, order=(0, 1, 1), seasonal_order=(2, 1, 0, 52))\n",
    "model_fit = model.fit(disp=False)"
   ]
  },
  {
   "cell_type": "code",
   "execution_count": 41,
   "metadata": {},
   "outputs": [],
   "source": [
    "future = 52\n",
    "predictions = model_fit.forecast(future)\n",
    "future_weeks = list(range(len(list_data) - 1, len(list_data) + future))"
   ]
  },
  {
   "cell_type": "code",
   "execution_count": 42,
   "metadata": {},
   "outputs": [],
   "source": [
    "predictions_df = pd.DataFrame([future_weeks, predictions]).transpose()\n",
    "predictions_df.columns = ['Week', 'Total ILI']\n",
    "predictions_df = predictions_df.set_index('Week')"
   ]
  },
  {
   "cell_type": "code",
   "execution_count": 43,
   "metadata": {},
   "outputs": [
    {
     "data": {
      "text/plain": [
       "Text(0.5, 1.0, 'Total ILI: 2014 - 2019 + predictions')"
      ]
     },
     "execution_count": 43,
     "metadata": {},
     "output_type": "execute_result"
    },
    {
     "data": {
      "image/png": "[encoded data removed]",
      "text/plain": [
       "<Figure size 432x288 with 1 Axes>"
      ]
     },
     "metadata": {
      "needs_background": "light"
     },
     "output_type": "display_data"
    }
   ],
   "source": [
    "plt.plot(df_hospital['Total ILI'])\n",
    "plt.plot(predictions_df, '--')\n",
    "plt.xlabel(\"Week\", labelpad=10)\n",
    "plt.ylabel(\"Total ILI\", labelpad=10)\n",
    "plt.title(\"Total ILI: 2014 - 2019 + predictions\", pad=15)"
   ]
  },
  {
   "cell_type": "code",
   "execution_count": 44,
   "metadata": {},
   "outputs": [
    {
     "data": {
      "text/html": [
       "<table class=\"simpletable\">\n",
       "<caption>Statespace Model Results</caption>\n",
       "<tr>\n",
       "  <th>Dep. Variable:</th>                  <td>y</td>               <th>  No. Observations:  </th>    <td>267</td>   \n",
       "</tr>\n",
       "<tr>\n",
       "  <th>Model:</th>           <td>SARIMAX(0, 1, 1)x(2, 1, 0, 52)</td> <th>  Log Likelihood     </th> <td>-1997.191</td>\n",
       "</tr>\n",
       "<tr>\n",
       "  <th>Date:</th>                   <td>Tue, 10 Dec 2019</td>        <th>  AIC                </th> <td>4002.382</td> \n",
       "</tr>\n",
       "<tr>\n",
       "  <th>Time:</th>                       <td>12:54:36</td>            <th>  BIC                </th> <td>4015.846</td> \n",
       "</tr>\n",
       "<tr>\n",
       "  <th>Sample:</th>                         <td>0</td>               <th>  HQIC               </th> <td>4007.822</td> \n",
       "</tr>\n",
       "<tr>\n",
       "  <th></th>                             <td> - 267</td>             <th>                     </th>     <td> </td>    \n",
       "</tr>\n",
       "<tr>\n",
       "  <th>Covariance Type:</th>               <td>opg</td>              <th>                     </th>     <td> </td>    \n",
       "</tr>\n",
       "</table>\n",
       "<table class=\"simpletable\">\n",
       "<tr>\n",
       "      <td></td>         <th>coef</th>     <th>std err</th>      <th>z</th>      <th>P>|z|</th>  <th>[0.025</th>    <th>0.975]</th>  \n",
       "</tr>\n",
       "<tr>\n",
       "  <th>ma.L1</th>     <td>    0.5437</td> <td>    0.036</td> <td>   15.250</td> <td> 0.000</td> <td>    0.474</td> <td>    0.614</td>\n",
       "</tr>\n",
       "<tr>\n",
       "  <th>ar.S.L52</th>  <td>   -0.6405</td> <td>    0.054</td> <td>  -11.754</td> <td> 0.000</td> <td>   -0.747</td> <td>   -0.534</td>\n",
       "</tr>\n",
       "<tr>\n",
       "  <th>ar.S.L104</th> <td>   -0.2373</td> <td>    0.074</td> <td>   -3.226</td> <td> 0.001</td> <td>   -0.381</td> <td>   -0.093</td>\n",
       "</tr>\n",
       "<tr>\n",
       "  <th>sigma2</th>    <td> 7.236e+06</td> <td> 3.34e+05</td> <td>   21.638</td> <td> 0.000</td> <td> 6.58e+06</td> <td> 7.89e+06</td>\n",
       "</tr>\n",
       "</table>\n",
       "<table class=\"simpletable\">\n",
       "<tr>\n",
       "  <th>Ljung-Box (Q):</th>          <td>57.07</td> <th>  Jarque-Bera (JB):  </th> <td>1195.06</td>\n",
       "</tr>\n",
       "<tr>\n",
       "  <th>Prob(Q):</th>                <td>0.04</td>  <th>  Prob(JB):          </th>  <td>0.00</td>  \n",
       "</tr>\n",
       "<tr>\n",
       "  <th>Heteroskedasticity (H):</th> <td>1.00</td>  <th>  Skew:              </th>  <td>-1.06</td> \n",
       "</tr>\n",
       "<tr>\n",
       "  <th>Prob(H) (two-sided):</th>    <td>1.00</td>  <th>  Kurtosis:          </th>  <td>14.38</td> \n",
       "</tr>\n",
       "</table><br/><br/>Warnings:<br/>[1] Covariance matrix calculated using the outer product of gradients (complex-step)."
      ],
      "text/plain": [
       "<class 'statsmodels.iolib.summary.Summary'>\n",
       "\"\"\"\n",
       "                                 Statespace Model Results                                 \n",
       "==========================================================================================\n",
       "Dep. Variable:                                  y   No. Observations:                  267\n",
       "Model:             SARIMAX(0, 1, 1)x(2, 1, 0, 52)   Log Likelihood               -1997.191\n",
       "Date:                            Tue, 10 Dec 2019   AIC                           4002.382\n",
       "Time:                                    12:54:36   BIC                           4015.846\n",
       "Sample:                                         0   HQIC                          4007.822\n",
       "                                            - 267                                         \n",
       "Covariance Type:                              opg                                         \n",
       "==============================================================================\n",
       "                 coef    std err          z      P>|z|      [0.025      0.975]\n",
       "------------------------------------------------------------------------------\n",
       "ma.L1          0.5437      0.036     15.250      0.000       0.474       0.614\n",
       "ar.S.L52      -0.6405      0.054    -11.754      0.000      -0.747      -0.534\n",
       "ar.S.L104     -0.2373      0.074     -3.226      0.001      -0.381      -0.093\n",
       "sigma2      7.236e+06   3.34e+05     21.638      0.000    6.58e+06    7.89e+06\n",
       "===================================================================================\n",
       "Ljung-Box (Q):                       57.07   Jarque-Bera (JB):              1195.06\n",
       "Prob(Q):                              0.04   Prob(JB):                         0.00\n",
       "Heteroskedasticity (H):               1.00   Skew:                            -1.06\n",
       "Prob(H) (two-sided):                  1.00   Kurtosis:                        14.38\n",
       "===================================================================================\n",
       "\n",
       "Warnings:\n",
       "[1] Covariance matrix calculated using the outer product of gradients (complex-step).\n",
       "\"\"\""
      ]
     },
     "execution_count": 44,
     "metadata": {},
     "output_type": "execute_result"
    }
   ],
   "source": [
    "model_fit.summary()"
   ]
  },
  {
   "cell_type": "markdown",
   "metadata": {},
   "source": [
    "### Predicting a previous year"
   ]
  },
  {
   "cell_type": "code",
   "execution_count": 45,
   "metadata": {},
   "outputs": [],
   "source": [
    "model = SARIMAX(list_data[:-104], order=(0, 1, 1), seasonal_order=(2, 1, 0, 52))\n",
    "model_fit = model.fit(disp=False)"
   ]
  },
  {
   "cell_type": "code",
   "execution_count": null,
   "metadata": {},
   "outputs": [],
   "source": [
    "future = 52\n",
    "predictions = model_fit.forecast(future)\n",
    "future_weeks = list(range(len(list_data) - 105, len(list_data) + 104 - 1))"
   ]
  },
  {
   "cell_type": "code",
   "execution_count": null,
   "metadata": {},
   "outputs": [],
   "source": [
    "predictions_df = pd.DataFrame([future_weeks, predictions]).transpose()\n",
    "predictions_df.columns = ['Week', 'Total ILI']\n",
    "predictions_df = predictions_df.set_index('Week')"
   ]
  },
  {
   "cell_type": "code",
   "execution_count": null,
   "metadata": {},
   "outputs": [],
   "source": [
    "plt.plot(df_hospital['Total ILI'])\n",
    "plt.plot(predictions_df, '--')\n",
    "plt.xlabel(\"Week\", labelpad=10)\n",
    "plt.ylabel(\"Total ILI\", labelpad=10)\n",
    "plt.title(\"Total ILI: 2014 - 2019 + predictions\", pad=15)"
   ]
  },
  {
   "cell_type": "code",
   "execution_count": null,
   "metadata": {},
   "outputs": [],
   "source": [
    "model.summary()"
   ]
  },
  {
   "cell_type": "code",
   "execution_count": null,
   "metadata": {},
   "outputs": [],
   "source": []
  }
 ],
 "metadata": {
  "kernelspec": {
   "display_name": "Python 3",
   "language": "python",
   "name": "python3"
  },
  "language_info": {
   "codemirror_mode": {
    "name": "ipython",
    "version": 3
   },
   "file_extension": ".py",
   "mimetype": "text/x-python",
   "name": "python",
   "nbconvert_exporter": "python",
   "pygments_lexer": "ipython3",
   "version": "3.7.4"
  }
 },
 "nbformat": 4,
 "nbformat_minor": 2
}
