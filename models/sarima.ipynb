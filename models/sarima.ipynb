{
 "cells": [
  {
   "cell_type": "code",
   "execution_count": 39,
   "metadata": {},
   "outputs": [],
   "source": [
    "from dateutil.parser import parse \n",
    "import matplotlib as mpl\n",
    "import matplotlib.pyplot as plt\n",
    "import seaborn as sns\n",
    "import numpy as np\n",
    "import pandas as pd\n",
    "\n",
    "from statsmodels.tsa.statespace.sarimax import SARIMAX\n",
    "from random import random"
   ]
  },
  {
   "cell_type": "code",
   "execution_count": 56,
   "metadata": {},
   "outputs": [],
   "source": [
    "df_hospital = pd.read_csv('../data/hospital_visits.csv')\n",
    "df_hospital['Week'] = df_hospital.Week.map(str) + \"-\" + df_hospital.Year.map(str)\n",
    "df_hospital = df_hospital[['Total ILI']]\n",
    "list_data = list(df_hospital['Total ILI'])"
   ]
  },
  {
   "cell_type": "code",
   "execution_count": 41,
   "metadata": {},
   "outputs": [],
   "source": [
    "list_data = list(df_hospital['Total ILI'])"
   ]
  },
  {
   "cell_type": "code",
   "execution_count": 45,
   "metadata": {},
   "outputs": [],
   "source": [
    "model = SARIMAX(list_data, order=(1, 1, 1), seasonal_order=(1, 1, 1, 52))\n",
    "model_fit = model.fit(disp=False)"
   ]
  },
  {
   "cell_type": "code",
   "execution_count": 58,
   "metadata": {},
   "outputs": [
    {
     "name": "stdout",
     "output_type": "stream",
     "text": [
      "[34867.40318467 34553.85774319 38844.38199064 39483.68379736\n",
      " 44690.67894977 52382.97652381 56062.9363244  56239.82616667\n",
      " 59690.82107963 64041.35410701 73053.92516054 81082.68977204\n",
      " 87985.12690884 82366.49902819 69881.23312296 57857.73579318\n",
      " 53133.71217687 50306.59297816 46725.93112414 42024.80731556\n",
      " 38789.13075715 35282.776669   32393.87899591 31156.70620548\n",
      " 29718.40601253 28173.55022195 27594.81804287 26909.44236392\n",
      " 25953.53408884 24996.03512359 23837.66940947 23152.85764134\n",
      " 22625.32645942 21776.4630689  21746.15167734 21257.85689829\n",
      " 21012.36275998 21091.8356966  21284.20772706 21987.08215427\n",
      " 22914.57369647 23991.72326936 25073.67939423 26019.42212509\n",
      " 26915.85833788 27270.42408812 33294.08609636 34080.32643663\n",
      " 35527.75554356 37397.51039522 38690.41827807 40645.93937469]\n"
     ]
    }
   ],
   "source": [
    "# make prediction\n",
    "future = 52\n",
    "# predictions = model_fit.predict(len(list_data), len(list_data) + future)\n",
    "predictions = model_fit.forecast(future)\n",
    "print(predictions)\n",
    "future_weeks = list(range(len(list_data) - 1, len(list_data) + future))\n",
    "# future_weeks"
   ]
  },
  {
   "cell_type": "code",
   "execution_count": 59,
   "metadata": {},
   "outputs": [],
   "source": [
    "predictions_df = pd.DataFrame([future_weeks, predictions]).transpose()\n",
    "predictions_df.columns = ['Week', 'Total ILI']\n",
    "predictions_df = predictions_df.set_index('Week')"
   ]
  },
  {
   "cell_type": "code",
   "execution_count": 60,
   "metadata": {},
   "outputs": [
    {
     "data": {
      "text/plain": [
       "Text(0.5, 1.0, 'Total ILI: 2014 - 2019 + predictions')"
      ]
     },
     "execution_count": 60,
     "metadata": {},
     "output_type": "execute_result"
    },
    {
     "data": {
      "image/png": "[encoded data removed]",
      "text/plain": [
       "<Figure size 432x288 with 1 Axes>"
      ]
     },
     "metadata": {
      "needs_background": "light"
     },
     "output_type": "display_data"
    }
   ],
   "source": [
    "plt.plot(df_hospital['Total ILI'])\n",
    "plt.plot(predictions_df, '--', c='#1f77b4')\n",
    "plt.xlabel(\"Week\", labelpad=10)\n",
    "plt.ylabel(\"Total ILI\", labelpad=10)\n",
    "plt.title(\"Total ILI: 2014 - 2019 + predictions\", pad=15)"
   ]
  },
  {
   "cell_type": "code",
   "execution_count": 57,
   "metadata": {},
   "outputs": [
    {
     "data": {
      "text/html": [
       "<table class=\"simpletable\">\n",
       "<caption>Statespace Model Results</caption>\n",
       "<tr>\n",
       "  <th>Dep. Variable:</th>                  <td>y</td>               <th>  No. Observations:  </th>    <td>267</td>   \n",
       "</tr>\n",
       "<tr>\n",
       "  <th>Model:</th>           <td>SARIMAX(1, 1, 1)x(1, 1, 1, 52)</td> <th>  Log Likelihood     </th> <td>-1993.387</td>\n",
       "</tr>\n",
       "<tr>\n",
       "  <th>Date:</th>                   <td>Mon, 09 Dec 2019</td>        <th>  AIC                </th> <td>3996.775</td> \n",
       "</tr>\n",
       "<tr>\n",
       "  <th>Time:</th>                       <td>01:45:14</td>            <th>  BIC                </th> <td>4013.605</td> \n",
       "</tr>\n",
       "<tr>\n",
       "  <th>Sample:</th>                         <td>0</td>               <th>  HQIC               </th> <td>4003.576</td> \n",
       "</tr>\n",
       "<tr>\n",
       "  <th></th>                             <td> - 267</td>             <th>                     </th>     <td> </td>    \n",
       "</tr>\n",
       "<tr>\n",
       "  <th>Covariance Type:</th>               <td>opg</td>              <th>                     </th>     <td> </td>    \n",
       "</tr>\n",
       "</table>\n",
       "<table class=\"simpletable\">\n",
       "<tr>\n",
       "      <td></td>        <th>coef</th>     <th>std err</th>      <th>z</th>      <th>P>|z|</th>  <th>[0.025</th>    <th>0.975]</th>  \n",
       "</tr>\n",
       "<tr>\n",
       "  <th>ar.L1</th>    <td>    0.5280</td> <td>    0.133</td> <td>    3.980</td> <td> 0.000</td> <td>    0.268</td> <td>    0.788</td>\n",
       "</tr>\n",
       "<tr>\n",
       "  <th>ma.L1</th>    <td>    0.1169</td> <td>    0.136</td> <td>    0.863</td> <td> 0.388</td> <td>   -0.149</td> <td>    0.383</td>\n",
       "</tr>\n",
       "<tr>\n",
       "  <th>ar.S.L52</th> <td>   -0.3888</td> <td>    0.197</td> <td>   -1.973</td> <td> 0.048</td> <td>   -0.775</td> <td>   -0.003</td>\n",
       "</tr>\n",
       "<tr>\n",
       "  <th>ma.S.L52</th> <td>   -0.2529</td> <td>    0.238</td> <td>   -1.065</td> <td> 0.287</td> <td>   -0.719</td> <td>    0.213</td>\n",
       "</tr>\n",
       "<tr>\n",
       "  <th>sigma2</th>   <td> 9.454e+06</td> <td> 7.62e+05</td> <td>   12.414</td> <td> 0.000</td> <td> 7.96e+06</td> <td> 1.09e+07</td>\n",
       "</tr>\n",
       "</table>\n",
       "<table class=\"simpletable\">\n",
       "<tr>\n",
       "  <th>Ljung-Box (Q):</th>          <td>38.49</td> <th>  Jarque-Bera (JB):  </th> <td>871.09</td>\n",
       "</tr>\n",
       "<tr>\n",
       "  <th>Prob(Q):</th>                <td>0.54</td>  <th>  Prob(JB):          </th>  <td>0.00</td> \n",
       "</tr>\n",
       "<tr>\n",
       "  <th>Heteroskedasticity (H):</th> <td>0.98</td>  <th>  Skew:              </th>  <td>-1.13</td>\n",
       "</tr>\n",
       "<tr>\n",
       "  <th>Prob(H) (two-sided):</th>    <td>0.92</td>  <th>  Kurtosis:          </th>  <td>12.62</td>\n",
       "</tr>\n",
       "</table><br/><br/>Warnings:<br/>[1] Covariance matrix calculated using the outer product of gradients (complex-step)."
      ],
      "text/plain": [
       "<class 'statsmodels.iolib.summary.Summary'>\n",
       "\"\"\"\n",
       "                                 Statespace Model Results                                 \n",
       "==========================================================================================\n",
       "Dep. Variable:                                  y   No. Observations:                  267\n",
       "Model:             SARIMAX(1, 1, 1)x(1, 1, 1, 52)   Log Likelihood               -1993.387\n",
       "Date:                            Mon, 09 Dec 2019   AIC                           3996.775\n",
       "Time:                                    01:45:14   BIC                           4013.605\n",
       "Sample:                                         0   HQIC                          4003.576\n",
       "                                            - 267                                         \n",
       "Covariance Type:                              opg                                         \n",
       "==============================================================================\n",
       "                 coef    std err          z      P>|z|      [0.025      0.975]\n",
       "------------------------------------------------------------------------------\n",
       "ar.L1          0.5280      0.133      3.980      0.000       0.268       0.788\n",
       "ma.L1          0.1169      0.136      0.863      0.388      -0.149       0.383\n",
       "ar.S.L52      -0.3888      0.197     -1.973      0.048      -0.775      -0.003\n",
       "ma.S.L52      -0.2529      0.238     -1.065      0.287      -0.719       0.213\n",
       "sigma2      9.454e+06   7.62e+05     12.414      0.000    7.96e+06    1.09e+07\n",
       "===================================================================================\n",
       "Ljung-Box (Q):                       38.49   Jarque-Bera (JB):               871.09\n",
       "Prob(Q):                              0.54   Prob(JB):                         0.00\n",
       "Heteroskedasticity (H):               0.98   Skew:                            -1.13\n",
       "Prob(H) (two-sided):                  0.92   Kurtosis:                        12.62\n",
       "===================================================================================\n",
       "\n",
       "Warnings:\n",
       "[1] Covariance matrix calculated using the outer product of gradients (complex-step).\n",
       "\"\"\""
      ]
     },
     "execution_count": 57,
     "metadata": {},
     "output_type": "execute_result"
    }
   ],
   "source": [
    "model_fit.summary()"
   ]
  },
  {
   "cell_type": "code",
   "execution_count": null,
   "metadata": {},
   "outputs": [],
   "source": []
  }
 ],
 "metadata": {
  "kernelspec": {
   "display_name": "Python 3",
   "language": "python",
   "name": "python3"
  },
  "language_info": {
   "codemirror_mode": {
    "name": "ipython",
    "version": 3
   },
   "file_extension": ".py",
   "mimetype": "text/x-python",
   "name": "python",
   "nbconvert_exporter": "python",
   "pygments_lexer": "ipython3",
   "version": "3.7.4"
  }
 },
 "nbformat": 4,
 "nbformat_minor": 2
}
