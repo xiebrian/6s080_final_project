{
 "cells": [
  {
   "cell_type": "code",
   "execution_count": 18,
   "metadata": {},
   "outputs": [],
   "source": [
    "import matplotlib as mpl\n",
    "import matplotlib.pyplot as plt\n",
    "import seaborn as sns\n",
    "import pandas as pd\n",
    "\n",
    "from statsmodels.tsa.statespace.sarimax import SARIMAX\n",
    "pd.set_option('display.max_rows', 10)"
   ]
  },
  {
   "cell_type": "code",
   "execution_count": 19,
   "metadata": {},
   "outputs": [
    {
     "data": {
      "text/html": [
       "<div>\n",
       "<style scoped>\n",
       "    .dataframe tbody tr th:only-of-type {\n",
       "        vertical-align: middle;\n",
       "    }\n",
       "\n",
       "    .dataframe tbody tr th {\n",
       "        vertical-align: top;\n",
       "    }\n",
       "\n",
       "    .dataframe thead th {\n",
       "        text-align: right;\n",
       "    }\n",
       "</style>\n",
       "<table border=\"1\" class=\"dataframe\">\n",
       "  <thead>\n",
       "    <tr style=\"text-align: right;\">\n",
       "      <th></th>\n",
       "      <th>Week</th>\n",
       "      <th>Searches</th>\n",
       "    </tr>\n",
       "  </thead>\n",
       "  <tbody>\n",
       "    <tr>\n",
       "      <td>0</td>\n",
       "      <td>15-2015</td>\n",
       "      <td>9</td>\n",
       "    </tr>\n",
       "    <tr>\n",
       "      <td>1</td>\n",
       "      <td>16-2015</td>\n",
       "      <td>9</td>\n",
       "    </tr>\n",
       "    <tr>\n",
       "      <td>2</td>\n",
       "      <td>17-2015</td>\n",
       "      <td>7</td>\n",
       "    </tr>\n",
       "    <tr>\n",
       "      <td>3</td>\n",
       "      <td>18-2015</td>\n",
       "      <td>6</td>\n",
       "    </tr>\n",
       "    <tr>\n",
       "      <td>4</td>\n",
       "      <td>19-2015</td>\n",
       "      <td>6</td>\n",
       "    </tr>\n",
       "    <tr>\n",
       "      <td>...</td>\n",
       "      <td>...</td>\n",
       "      <td>...</td>\n",
       "    </tr>\n",
       "    <tr>\n",
       "      <td>223</td>\n",
       "      <td>30-2019</td>\n",
       "      <td>4</td>\n",
       "    </tr>\n",
       "    <tr>\n",
       "      <td>224</td>\n",
       "      <td>31-2019</td>\n",
       "      <td>5</td>\n",
       "    </tr>\n",
       "    <tr>\n",
       "      <td>225</td>\n",
       "      <td>32-2019</td>\n",
       "      <td>5</td>\n",
       "    </tr>\n",
       "    <tr>\n",
       "      <td>226</td>\n",
       "      <td>33-2019</td>\n",
       "      <td>7</td>\n",
       "    </tr>\n",
       "    <tr>\n",
       "      <td>227</td>\n",
       "      <td>34-2019</td>\n",
       "      <td>7</td>\n",
       "    </tr>\n",
       "  </tbody>\n",
       "</table>\n",
       "<p>228 rows × 2 columns</p>\n",
       "</div>"
      ],
      "text/plain": [
       "        Week  Searches\n",
       "0    15-2015         9\n",
       "1    16-2015         9\n",
       "2    17-2015         7\n",
       "3    18-2015         6\n",
       "4    19-2015         6\n",
       "..       ...       ...\n",
       "223  30-2019         4\n",
       "224  31-2019         5\n",
       "225  32-2019         5\n",
       "226  33-2019         7\n",
       "227  34-2019         7\n",
       "\n",
       "[228 rows x 2 columns]"
      ]
     },
     "execution_count": 19,
     "metadata": {},
     "output_type": "execute_result"
    }
   ],
   "source": [
    "df_hospital = pd.read_csv('../data/hospital_visits.csv')\n",
    "df_hospital['Week'] = df_hospital.Week.map(str) + \"-\" + df_hospital.Year.map(str)\n",
    "df_hospital = df_hospital[['Week', 'Total ILI']]\n",
    "df_hospital.columns = ['Week', 'ILI']\n",
    "df_hospital = df_hospital[28:256]\n",
    "df_hospital = df_hospital.reset_index(drop=True)\n",
    "\n",
    "df_twitter = pd.read_csv('../data/twitter-flu-data.csv', header=None)\n",
    "df_twitter.columns = ['Year', 'Week', '1', '2', '3', '4', '5', '6', '7']\n",
    "df_twitter['Week'] = df_twitter.Week.map(str) + \"-\" + df_twitter.Year.map(str)\n",
    "df_twitter['Tweets'] = df_twitter[['1', '2', '3', '4', '5', '6', '7']].sum(axis=1)\n",
    "df_twitter = df_twitter[['Week', 'Tweets']][27:-1]\n",
    "df_twitter = df_twitter.reset_index(drop=True)\n",
    "\n",
    "df_aus = pd.read_csv('../data/AUS_flu_virus_counts.csv')\n",
    "df_aus['Week'] = df_aus.Week.map(str) + \"-\" + df_aus.Year.map(str)\n",
    "df_aus = df_aus[['Week', 'ALL_INF']]\n",
    "df_aus = df_aus[912:1168-27]\n",
    "df_aus = df_aus.drop(977)\n",
    "df_aus = df_aus.reset_index(drop=True)\n",
    "\n",
    "df_google = pd.read_csv('../data/google_trends/flu-related queries/flu_trends.csv')\n",
    "df_google['Week'] = df_google.Week.map(str) + \"-\" + df_google.Year.map(str)\n",
    "df_google = df_google[['Week', 'Searches']]\n",
    "df_google = df_google[21:250]\n",
    "df_google = df_google.drop(86)\n",
    "df_google.reset_index(drop=True)"
   ]
  },
  {
   "cell_type": "code",
   "execution_count": 20,
   "metadata": {},
   "outputs": [],
   "source": [
    "list_hospital = list(df_hospital['ILI'])\n",
    "list_tweets = list(df_twitter['Tweets'])\n",
    "list_aus = list(df_aus['ALL_INF'])\n",
    "list_google = list(df_google['Searches'])"
   ]
  },
  {
   "cell_type": "code",
   "execution_count": 21,
   "metadata": {},
   "outputs": [],
   "source": [
    "list_hospital_real = list_hospital[:-52]\n",
    "list_tweets_real = list_tweets[:-52]\n",
    "list_aus_real = list_aus[:-52]\n",
    "list_google_real = list_google[:-52]\n",
    "\n",
    "list_hospital_pred = list_hospital[-52:]\n",
    "list_tweets_pred = list_tweets[-52:]\n",
    "list_aus_pred = list_aus[-52:]\n",
    "list_google_pred = list_google[-52:]"
   ]
  },
  {
   "cell_type": "code",
   "execution_count": 22,
   "metadata": {},
   "outputs": [],
   "source": [
    "features = [list_tweets_real, list_aus_real, list_google_real]\n",
    "pred = [list_tweets_pred, list_aus_pred, list_google_pred]\n",
    "\n",
    "features = list(map(list, zip(*features)))\n",
    "pred = list(map(list, zip(*pred)))"
   ]
  },
  {
   "cell_type": "code",
   "execution_count": 11,
   "metadata": {},
   "outputs": [],
   "source": [
    "model = SARIMAX(endog=list_hospital_real, exog=features, order=(0, 1, 0), seasonal_order=(1, 1, 0, 52), enforce_stationarity=False, enforce_invertibility=False, trend='c')\n",
    "model_fit = model.fit()"
   ]
  },
  {
   "cell_type": "code",
   "execution_count": 12,
   "metadata": {},
   "outputs": [],
   "source": [
    "future = 52\n",
    "predictions = model_fit.predict(len(list_hospital_real), len(list_hospital_real) + future - 1, exog=pred)\n",
    "future_weeks = list(range(len(list_hospital_real), len(list_hospital_real) + future))"
   ]
  },
  {
   "cell_type": "code",
   "execution_count": 13,
   "metadata": {},
   "outputs": [],
   "source": [
    "predictions_df = pd.DataFrame([future_weeks, predictions]).transpose()\n",
    "predictions_df.columns = ['Week', 'Total ILI']\n",
    "predictions_df = predictions_df.set_index('Week')"
   ]
  },
  {
   "cell_type": "code",
   "execution_count": 14,
   "metadata": {},
   "outputs": [
    {
     "data": {
      "text/plain": [
       "Text(0.5, 1.0, 'Total ILI: 2014 - 2019 + predictions')"
      ]
     },
     "execution_count": 14,
     "metadata": {},
     "output_type": "execute_result"
    },
    {
     "data": {
      "image/png": "[encoded data removed]",
      "text/plain": [
       "<Figure size 432x288 with 1 Axes>"
      ]
     },
     "metadata": {
      "needs_background": "light"
     },
     "output_type": "display_data"
    }
   ],
   "source": [
    "plt.plot(df_hospital['ILI'], label='real')\n",
    "plt.plot(predictions_df, '--', label='prediction')\n",
    "plt.legend()\n",
    "plt.xlabel(\"Week\", labelpad=10)\n",
    "plt.ylabel(\"Total ILI\", labelpad=10)\n",
    "plt.title(\"Total ILI: 2014 - 2019 + predictions\", pad=15)"
   ]
  },
  {
   "cell_type": "code",
   "execution_count": 15,
   "metadata": {},
   "outputs": [
    {
     "data": {
      "text/html": [
       "<table class=\"simpletable\">\n",
       "<caption>Statespace Model Results</caption>\n",
       "<tr>\n",
       "  <th>Dep. Variable:</th>                  <td>y</td>               <th>  No. Observations:  </th>    <td>176</td>  \n",
       "</tr>\n",
       "<tr>\n",
       "  <th>Model:</th>           <td>SARIMAX(0, 1, 0)x(1, 1, 0, 52)</td> <th>  Log Likelihood     </th> <td>-669.757</td>\n",
       "</tr>\n",
       "<tr>\n",
       "  <th>Date:</th>                   <td>Tue, 10 Dec 2019</td>        <th>  AIC                </th> <td>1351.514</td>\n",
       "</tr>\n",
       "<tr>\n",
       "  <th>Time:</th>                       <td>20:33:34</td>            <th>  BIC                </th> <td>1365.090</td>\n",
       "</tr>\n",
       "<tr>\n",
       "  <th>Sample:</th>                         <td>0</td>               <th>  HQIC               </th> <td>1356.912</td>\n",
       "</tr>\n",
       "<tr>\n",
       "  <th></th>                             <td> - 176</td>             <th>                     </th>     <td> </td>   \n",
       "</tr>\n",
       "<tr>\n",
       "  <th>Covariance Type:</th>               <td>opg</td>              <th>                     </th>     <td> </td>   \n",
       "</tr>\n",
       "</table>\n",
       "<table class=\"simpletable\">\n",
       "<tr>\n",
       "      <td></td>         <th>coef</th>     <th>std err</th>      <th>z</th>      <th>P>|z|</th>  <th>[0.025</th>    <th>0.975]</th>  \n",
       "</tr>\n",
       "<tr>\n",
       "  <th>intercept</th> <td>  -23.2342</td> <td>  542.211</td> <td>   -0.043</td> <td> 0.966</td> <td>-1085.947</td> <td> 1039.479</td>\n",
       "</tr>\n",
       "<tr>\n",
       "  <th>x1</th>        <td>  -14.8874</td> <td>    5.566</td> <td>   -2.675</td> <td> 0.007</td> <td>  -25.797</td> <td>   -3.978</td>\n",
       "</tr>\n",
       "<tr>\n",
       "  <th>x2</th>        <td>    4.5104</td> <td>   10.979</td> <td>    0.411</td> <td> 0.681</td> <td>  -17.007</td> <td>   26.028</td>\n",
       "</tr>\n",
       "<tr>\n",
       "  <th>x3</th>        <td>  352.5212</td> <td>   60.265</td> <td>    5.850</td> <td> 0.000</td> <td>  234.405</td> <td>  470.638</td>\n",
       "</tr>\n",
       "<tr>\n",
       "  <th>ar.S.L52</th>  <td>    0.1511</td> <td>    0.203</td> <td>    0.745</td> <td> 0.456</td> <td>   -0.246</td> <td>    0.548</td>\n",
       "</tr>\n",
       "<tr>\n",
       "  <th>sigma2</th>    <td> 9.142e+06</td> <td> 9.23e+05</td> <td>    9.909</td> <td> 0.000</td> <td> 7.33e+06</td> <td>  1.1e+07</td>\n",
       "</tr>\n",
       "</table>\n",
       "<table class=\"simpletable\">\n",
       "<tr>\n",
       "  <th>Ljung-Box (Q):</th>          <td>24.17</td> <th>  Jarque-Bera (JB):  </th> <td>746.46</td>\n",
       "</tr>\n",
       "<tr>\n",
       "  <th>Prob(Q):</th>                <td>0.98</td>  <th>  Prob(JB):          </th>  <td>0.00</td> \n",
       "</tr>\n",
       "<tr>\n",
       "  <th>Heteroskedasticity (H):</th> <td>0.91</td>  <th>  Skew:              </th>  <td>-1.96</td>\n",
       "</tr>\n",
       "<tr>\n",
       "  <th>Prob(H) (two-sided):</th>    <td>0.82</td>  <th>  Kurtosis:          </th>  <td>18.40</td>\n",
       "</tr>\n",
       "</table><br/><br/>Warnings:<br/>[1] Covariance matrix calculated using the outer product of gradients (complex-step)."
      ],
      "text/plain": [
       "<class 'statsmodels.iolib.summary.Summary'>\n",
       "\"\"\"\n",
       "                                 Statespace Model Results                                 \n",
       "==========================================================================================\n",
       "Dep. Variable:                                  y   No. Observations:                  176\n",
       "Model:             SARIMAX(0, 1, 0)x(1, 1, 0, 52)   Log Likelihood                -669.757\n",
       "Date:                            Tue, 10 Dec 2019   AIC                           1351.514\n",
       "Time:                                    20:33:34   BIC                           1365.090\n",
       "Sample:                                         0   HQIC                          1356.912\n",
       "                                            - 176                                         \n",
       "Covariance Type:                              opg                                         \n",
       "==============================================================================\n",
       "                 coef    std err          z      P>|z|      [0.025      0.975]\n",
       "------------------------------------------------------------------------------\n",
       "intercept    -23.2342    542.211     -0.043      0.966   -1085.947    1039.479\n",
       "x1           -14.8874      5.566     -2.675      0.007     -25.797      -3.978\n",
       "x2             4.5104     10.979      0.411      0.681     -17.007      26.028\n",
       "x3           352.5212     60.265      5.850      0.000     234.405     470.638\n",
       "ar.S.L52       0.1511      0.203      0.745      0.456      -0.246       0.548\n",
       "sigma2      9.142e+06   9.23e+05      9.909      0.000    7.33e+06     1.1e+07\n",
       "===================================================================================\n",
       "Ljung-Box (Q):                       24.17   Jarque-Bera (JB):               746.46\n",
       "Prob(Q):                              0.98   Prob(JB):                         0.00\n",
       "Heteroskedasticity (H):               0.91   Skew:                            -1.96\n",
       "Prob(H) (two-sided):                  0.82   Kurtosis:                        18.40\n",
       "===================================================================================\n",
       "\n",
       "Warnings:\n",
       "[1] Covariance matrix calculated using the outer product of gradients (complex-step).\n",
       "\"\"\""
      ]
     },
     "execution_count": 15,
     "metadata": {},
     "output_type": "execute_result"
    }
   ],
   "source": [
    "model_fit.summary()"
   ]
  },
  {
   "cell_type": "markdown",
   "metadata": {},
   "source": [
    "### Predicting a previous year"
   ]
  },
  {
   "cell_type": "code",
   "execution_count": 33,
   "metadata": {},
   "outputs": [],
   "source": [
    "list_hospital_real = list_hospital[:-104]\n",
    "list_tweets_real = list_tweets[:-104]\n",
    "list_aus_real = list_aus[:-104]\n",
    "list_google_real = list_google[:-104]\n",
    "\n",
    "list_hospital_pred = list_hospital[-104:-52]\n",
    "list_tweets_pred = list_tweets[-104:-52]\n",
    "list_aus_pred = list_aus[-104:-52]\n",
    "list_google_pred = list_google[-104:-52]\n",
    "\n",
    "# Comment out these lines to only train on the data before where predictions will take place\n",
    "list_hospital_real.extend(list_hospital[-52:])\n",
    "list_tweets_real.extend(list_tweets[-52:])\n",
    "list_aus_real.extend(list_aus[-52:])\n",
    "list_google_real.extend(list_google[-52:])"
   ]
  },
  {
   "cell_type": "code",
   "execution_count": 34,
   "metadata": {},
   "outputs": [],
   "source": [
    "features_transposed = [list_tweets_real, list_aus_real]\n",
    "pred_transposed = [list_tweets_pred, list_aus_pred]\n",
    "\n",
    "features = list(map(list, zip(*features_transposed)))\n",
    "pred = list(map(list, zip(*pred_transposed)))\n",
    "\n",
    "for feature_index in range(len(features)):\n",
    "    features[feature_index].append(list_google_real[feature_index])\n",
    "\n",
    "for pred_index in range(len(pred)):\n",
    "    pred[pred_index].append(list_google_pred[pred_index])"
   ]
  },
  {
   "cell_type": "code",
   "execution_count": 35,
   "metadata": {},
   "outputs": [],
   "source": [
    "model = SARIMAX(endog=list_hospital_real, exog=features, order=(1, 1, 0), seasonal_order=(1, 1, 0, 52), enforce_stationarity=False, enforce_invertibility=False, trend='c')\n",
    "model_fit = model.fit()"
   ]
  },
  {
   "cell_type": "code",
   "execution_count": 41,
   "metadata": {},
   "outputs": [],
   "source": [
    "future = 52\n",
    "predictions = model_fit.predict(len(list_hospital_real), len(list_hospital_real) + future - 1, exog=pred)\n",
    "future_weeks = list(range(len(list_hospital_real) - future, len(list_hospital_real)))"
   ]
  },
  {
   "cell_type": "code",
   "execution_count": 42,
   "metadata": {},
   "outputs": [],
   "source": [
    "predictions_df = pd.DataFrame([future_weeks, predictions]).transpose()\n",
    "predictions_df.columns = ['Week', 'Total ILI']\n",
    "predictions_df = predictions_df.set_index('Week')"
   ]
  },
  {
   "cell_type": "code",
   "execution_count": 45,
   "metadata": {},
   "outputs": [
    {
     "data": {
      "text/plain": [
       "Text(0.5, 1.0, 'Total ILI: 2014 - 2019 + predictions (+trained on future data)')"
      ]
     },
     "execution_count": 45,
     "metadata": {},
     "output_type": "execute_result"
    },
    {
     "data": {
      "image/png": "[encoded data removed]",
      "text/plain": [
       "<Figure size 432x288 with 1 Axes>"
      ]
     },
     "metadata": {
      "needs_background": "light"
     },
     "output_type": "display_data"
    }
   ],
   "source": [
    "plt.plot(df_hospital['ILI'], label='real')\n",
    "plt.plot(predictions_df, '--', label='prediction')\n",
    "plt.legend()\n",
    "plt.xlabel(\"Week\", labelpad=10)\n",
    "plt.ylabel(\"Total ILI\", labelpad=10)\n",
    "plt.title(\"Total ILI: 2014 - 2019 + predictions (+trained on future data)\", pad=15)"
   ]
  },
  {
   "cell_type": "code",
   "execution_count": 44,
   "metadata": {},
   "outputs": [
    {
     "data": {
      "text/html": [
       "<table class=\"simpletable\">\n",
       "<caption>Statespace Model Results</caption>\n",
       "<tr>\n",
       "  <th>Dep. Variable:</th>                  <td>y</td>               <th>  No. Observations:  </th>    <td>176</td>  \n",
       "</tr>\n",
       "<tr>\n",
       "  <th>Model:</th>           <td>SARIMAX(1, 1, 0)x(1, 1, 0, 52)</td> <th>  Log Likelihood     </th> <td>-621.767</td>\n",
       "</tr>\n",
       "<tr>\n",
       "  <th>Date:</th>                   <td>Tue, 10 Dec 2019</td>        <th>  AIC                </th> <td>1257.534</td>\n",
       "</tr>\n",
       "<tr>\n",
       "  <th>Time:</th>                       <td>21:43:23</td>            <th>  BIC                </th> <td>1273.273</td>\n",
       "</tr>\n",
       "<tr>\n",
       "  <th>Sample:</th>                         <td>0</td>               <th>  HQIC               </th> <td>1263.786</td>\n",
       "</tr>\n",
       "<tr>\n",
       "  <th></th>                             <td> - 176</td>             <th>                     </th>     <td> </td>   \n",
       "</tr>\n",
       "<tr>\n",
       "  <th>Covariance Type:</th>               <td>opg</td>              <th>                     </th>     <td> </td>   \n",
       "</tr>\n",
       "</table>\n",
       "<table class=\"simpletable\">\n",
       "<tr>\n",
       "      <td></td>         <th>coef</th>     <th>std err</th>      <th>z</th>      <th>P>|z|</th>  <th>[0.025</th>    <th>0.975]</th>  \n",
       "</tr>\n",
       "<tr>\n",
       "  <th>intercept</th> <td>   40.6789</td> <td>  210.048</td> <td>    0.194</td> <td> 0.846</td> <td> -371.007</td> <td>  452.364</td>\n",
       "</tr>\n",
       "<tr>\n",
       "  <th>x1</th>        <td>   -1.1442</td> <td>    2.562</td> <td>   -0.447</td> <td> 0.655</td> <td>   -6.166</td> <td>    3.878</td>\n",
       "</tr>\n",
       "<tr>\n",
       "  <th>x2</th>        <td>  -18.3077</td> <td>    3.107</td> <td>   -5.892</td> <td> 0.000</td> <td>  -24.398</td> <td>  -12.218</td>\n",
       "</tr>\n",
       "<tr>\n",
       "  <th>x3</th>        <td>   72.4973</td> <td>  206.050</td> <td>    0.352</td> <td> 0.725</td> <td> -331.354</td> <td>  476.349</td>\n",
       "</tr>\n",
       "<tr>\n",
       "  <th>ar.L1</th>     <td>    0.1839</td> <td>    0.136</td> <td>    1.352</td> <td> 0.176</td> <td>   -0.083</td> <td>    0.450</td>\n",
       "</tr>\n",
       "<tr>\n",
       "  <th>ar.S.L52</th>  <td>   -0.0618</td> <td>    0.084</td> <td>   -0.732</td> <td> 0.464</td> <td>   -0.227</td> <td>    0.104</td>\n",
       "</tr>\n",
       "<tr>\n",
       "  <th>sigma2</th>    <td> 2.933e+06</td> <td> 3.99e+05</td> <td>    7.343</td> <td> 0.000</td> <td> 2.15e+06</td> <td> 3.72e+06</td>\n",
       "</tr>\n",
       "</table>\n",
       "<table class=\"simpletable\">\n",
       "<tr>\n",
       "  <th>Ljung-Box (Q):</th>          <td>20.14</td> <th>  Jarque-Bera (JB):  </th> <td>22.82</td>\n",
       "</tr>\n",
       "<tr>\n",
       "  <th>Prob(Q):</th>                <td>1.00</td>  <th>  Prob(JB):          </th> <td>0.00</td> \n",
       "</tr>\n",
       "<tr>\n",
       "  <th>Heteroskedasticity (H):</th> <td>9.36</td>  <th>  Skew:              </th> <td>0.14</td> \n",
       "</tr>\n",
       "<tr>\n",
       "  <th>Prob(H) (two-sided):</th>    <td>0.00</td>  <th>  Kurtosis:          </th> <td>5.78</td> \n",
       "</tr>\n",
       "</table><br/><br/>Warnings:<br/>[1] Covariance matrix calculated using the outer product of gradients (complex-step)."
      ],
      "text/plain": [
       "<class 'statsmodels.iolib.summary.Summary'>\n",
       "\"\"\"\n",
       "                                 Statespace Model Results                                 \n",
       "==========================================================================================\n",
       "Dep. Variable:                                  y   No. Observations:                  176\n",
       "Model:             SARIMAX(1, 1, 0)x(1, 1, 0, 52)   Log Likelihood                -621.767\n",
       "Date:                            Tue, 10 Dec 2019   AIC                           1257.534\n",
       "Time:                                    21:43:23   BIC                           1273.273\n",
       "Sample:                                         0   HQIC                          1263.786\n",
       "                                            - 176                                         \n",
       "Covariance Type:                              opg                                         \n",
       "==============================================================================\n",
       "                 coef    std err          z      P>|z|      [0.025      0.975]\n",
       "------------------------------------------------------------------------------\n",
       "intercept     40.6789    210.048      0.194      0.846    -371.007     452.364\n",
       "x1            -1.1442      2.562     -0.447      0.655      -6.166       3.878\n",
       "x2           -18.3077      3.107     -5.892      0.000     -24.398     -12.218\n",
       "x3            72.4973    206.050      0.352      0.725    -331.354     476.349\n",
       "ar.L1          0.1839      0.136      1.352      0.176      -0.083       0.450\n",
       "ar.S.L52      -0.0618      0.084     -0.732      0.464      -0.227       0.104\n",
       "sigma2      2.933e+06   3.99e+05      7.343      0.000    2.15e+06    3.72e+06\n",
       "===================================================================================\n",
       "Ljung-Box (Q):                       20.14   Jarque-Bera (JB):                22.82\n",
       "Prob(Q):                              1.00   Prob(JB):                         0.00\n",
       "Heteroskedasticity (H):               9.36   Skew:                             0.14\n",
       "Prob(H) (two-sided):                  0.00   Kurtosis:                         5.78\n",
       "===================================================================================\n",
       "\n",
       "Warnings:\n",
       "[1] Covariance matrix calculated using the outer product of gradients (complex-step).\n",
       "\"\"\""
      ]
     },
     "execution_count": 44,
     "metadata": {},
     "output_type": "execute_result"
    }
   ],
   "source": [
    "model_fit.summary()"
   ]
  },
  {
   "cell_type": "code",
   "execution_count": null,
   "metadata": {},
   "outputs": [],
   "source": []
  }
 ],
 "metadata": {
  "kernelspec": {
   "display_name": "Python 3",
   "language": "python",
   "name": "python3"
  },
  "language_info": {
   "codemirror_mode": {
    "name": "ipython",
    "version": 3
   },
   "file_extension": ".py",
   "mimetype": "text/x-python",
   "name": "python",
   "nbconvert_exporter": "python",
   "pygments_lexer": "ipython3",
   "version": "3.7.4"
  }
 },
 "nbformat": 4,
 "nbformat_minor": 2
}
