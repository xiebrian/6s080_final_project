{
 "cells": [
  {
   "cell_type": "code",
   "execution_count": 565,
   "metadata": {},
   "outputs": [],
   "source": [
    "from dateutil.parser import parse \n",
    "import matplotlib as mpl\n",
    "import matplotlib.pyplot as plt\n",
    "import seaborn as sns\n",
    "import numpy as np\n",
    "import pandas as pd\n",
    "\n",
    "from statsmodels.tsa.statespace.sarimax import SARIMAX\n",
    "from statsmodels.tsa.stattools import adfuller\n",
    "import statsmodels.graphics.tsaplots as sm_tsa\n",
    "from random import random\n",
    "pd.set_option('display.max_rows', 10)"
   ]
  },
  {
   "cell_type": "code",
   "execution_count": 541,
   "metadata": {},
   "outputs": [
    {
     "data": {
      "text/html": [
       "<div>\n",
       "<style scoped>\n",
       "    .dataframe tbody tr th:only-of-type {\n",
       "        vertical-align: middle;\n",
       "    }\n",
       "\n",
       "    .dataframe tbody tr th {\n",
       "        vertical-align: top;\n",
       "    }\n",
       "\n",
       "    .dataframe thead th {\n",
       "        text-align: right;\n",
       "    }\n",
       "</style>\n",
       "<table border=\"1\" class=\"dataframe\">\n",
       "  <thead>\n",
       "    <tr style=\"text-align: right;\">\n",
       "      <th></th>\n",
       "      <th>Week</th>\n",
       "      <th>ILI</th>\n",
       "    </tr>\n",
       "  </thead>\n",
       "  <tbody>\n",
       "    <tr>\n",
       "      <td>0</td>\n",
       "      <td>15-2015</td>\n",
       "      <td>12311</td>\n",
       "    </tr>\n",
       "    <tr>\n",
       "      <td>1</td>\n",
       "      <td>16-2015</td>\n",
       "      <td>11021</td>\n",
       "    </tr>\n",
       "    <tr>\n",
       "      <td>2</td>\n",
       "      <td>17-2015</td>\n",
       "      <td>11311</td>\n",
       "    </tr>\n",
       "    <tr>\n",
       "      <td>3</td>\n",
       "      <td>18-2015</td>\n",
       "      <td>10946</td>\n",
       "    </tr>\n",
       "    <tr>\n",
       "      <td>4</td>\n",
       "      <td>19-2015</td>\n",
       "      <td>9891</td>\n",
       "    </tr>\n",
       "    <tr>\n",
       "      <td>...</td>\n",
       "      <td>...</td>\n",
       "      <td>...</td>\n",
       "    </tr>\n",
       "    <tr>\n",
       "      <td>223</td>\n",
       "      <td>30-2019</td>\n",
       "      <td>7755</td>\n",
       "    </tr>\n",
       "    <tr>\n",
       "      <td>224</td>\n",
       "      <td>31-2019</td>\n",
       "      <td>7851</td>\n",
       "    </tr>\n",
       "    <tr>\n",
       "      <td>225</td>\n",
       "      <td>32-2019</td>\n",
       "      <td>8031</td>\n",
       "    </tr>\n",
       "    <tr>\n",
       "      <td>226</td>\n",
       "      <td>33-2019</td>\n",
       "      <td>8933</td>\n",
       "    </tr>\n",
       "    <tr>\n",
       "      <td>227</td>\n",
       "      <td>34-2019</td>\n",
       "      <td>9971</td>\n",
       "    </tr>\n",
       "  </tbody>\n",
       "</table>\n",
       "<p>228 rows × 2 columns</p>\n",
       "</div>"
      ],
      "text/plain": [
       "        Week    ILI\n",
       "0    15-2015  12311\n",
       "1    16-2015  11021\n",
       "2    17-2015  11311\n",
       "3    18-2015  10946\n",
       "4    19-2015   9891\n",
       "..       ...    ...\n",
       "223  30-2019   7755\n",
       "224  31-2019   7851\n",
       "225  32-2019   8031\n",
       "226  33-2019   8933\n",
       "227  34-2019   9971\n",
       "\n",
       "[228 rows x 2 columns]"
      ]
     },
     "execution_count": 541,
     "metadata": {},
     "output_type": "execute_result"
    }
   ],
   "source": [
    "df_hospital = pd.read_csv('../data/hospital_visits.csv')\n",
    "df_hospital['Week'] = df_hospital.Week.map(str) + \"-\" + df_hospital.Year.map(str)\n",
    "df_hospital = df_hospital[['Week', 'Total ILI']]\n",
    "df_hospital.columns = ['Week', 'ILI']\n",
    "df_hospital = df_hospital[28:256]\n",
    "df_hospital = df_hospital.reset_index(drop=True)\n",
    "df_hospital"
   ]
  },
  {
   "cell_type": "code",
   "execution_count": 542,
   "metadata": {},
   "outputs": [
    {
     "data": {
      "text/html": [
       "<div>\n",
       "<style scoped>\n",
       "    .dataframe tbody tr th:only-of-type {\n",
       "        vertical-align: middle;\n",
       "    }\n",
       "\n",
       "    .dataframe tbody tr th {\n",
       "        vertical-align: top;\n",
       "    }\n",
       "\n",
       "    .dataframe thead th {\n",
       "        text-align: right;\n",
       "    }\n",
       "</style>\n",
       "<table border=\"1\" class=\"dataframe\">\n",
       "  <thead>\n",
       "    <tr style=\"text-align: right;\">\n",
       "      <th></th>\n",
       "      <th>Week</th>\n",
       "      <th>Tweets</th>\n",
       "    </tr>\n",
       "  </thead>\n",
       "  <tbody>\n",
       "    <tr>\n",
       "      <td>0</td>\n",
       "      <td>15-2015</td>\n",
       "      <td>429</td>\n",
       "    </tr>\n",
       "    <tr>\n",
       "      <td>1</td>\n",
       "      <td>16-2015</td>\n",
       "      <td>386</td>\n",
       "    </tr>\n",
       "    <tr>\n",
       "      <td>2</td>\n",
       "      <td>17-2015</td>\n",
       "      <td>352</td>\n",
       "    </tr>\n",
       "    <tr>\n",
       "      <td>3</td>\n",
       "      <td>18-2015</td>\n",
       "      <td>387</td>\n",
       "    </tr>\n",
       "    <tr>\n",
       "      <td>4</td>\n",
       "      <td>19-2015</td>\n",
       "      <td>450</td>\n",
       "    </tr>\n",
       "    <tr>\n",
       "      <td>...</td>\n",
       "      <td>...</td>\n",
       "      <td>...</td>\n",
       "    </tr>\n",
       "    <tr>\n",
       "      <td>223</td>\n",
       "      <td>30-2019</td>\n",
       "      <td>367</td>\n",
       "    </tr>\n",
       "    <tr>\n",
       "      <td>224</td>\n",
       "      <td>31-2019</td>\n",
       "      <td>321</td>\n",
       "    </tr>\n",
       "    <tr>\n",
       "      <td>225</td>\n",
       "      <td>32-2019</td>\n",
       "      <td>354</td>\n",
       "    </tr>\n",
       "    <tr>\n",
       "      <td>226</td>\n",
       "      <td>33-2019</td>\n",
       "      <td>292</td>\n",
       "    </tr>\n",
       "    <tr>\n",
       "      <td>227</td>\n",
       "      <td>34-2019</td>\n",
       "      <td>358</td>\n",
       "    </tr>\n",
       "  </tbody>\n",
       "</table>\n",
       "<p>228 rows × 2 columns</p>\n",
       "</div>"
      ],
      "text/plain": [
       "        Week  Tweets\n",
       "0    15-2015     429\n",
       "1    16-2015     386\n",
       "2    17-2015     352\n",
       "3    18-2015     387\n",
       "4    19-2015     450\n",
       "..       ...     ...\n",
       "223  30-2019     367\n",
       "224  31-2019     321\n",
       "225  32-2019     354\n",
       "226  33-2019     292\n",
       "227  34-2019     358\n",
       "\n",
       "[228 rows x 2 columns]"
      ]
     },
     "execution_count": 542,
     "metadata": {},
     "output_type": "execute_result"
    }
   ],
   "source": [
    "df_twitter = pd.read_csv('../data/twitter-flu-data.csv', header=None)\n",
    "df_twitter.columns = ['Year', 'Week', '1', '2', '3', '4', '5', '6', '7']\n",
    "df_twitter['Week'] = df_twitter.Week.map(str) + \"-\" + df_twitter.Year.map(str)\n",
    "df_twitter['Tweets'] = df_twitter[['1', '2', '3', '4', '5', '6', '7']].sum(axis=1)\n",
    "df_twitter = df_twitter[['Week', 'Tweets']][27:-1]\n",
    "df_twitter = df_twitter.reset_index(drop=True)\n",
    "df_twitter"
   ]
  },
  {
   "cell_type": "code",
   "execution_count": 543,
   "metadata": {},
   "outputs": [
    {
     "data": {
      "text/html": [
       "<div>\n",
       "<style scoped>\n",
       "    .dataframe tbody tr th:only-of-type {\n",
       "        vertical-align: middle;\n",
       "    }\n",
       "\n",
       "    .dataframe tbody tr th {\n",
       "        vertical-align: top;\n",
       "    }\n",
       "\n",
       "    .dataframe thead th {\n",
       "        text-align: right;\n",
       "    }\n",
       "</style>\n",
       "<table border=\"1\" class=\"dataframe\">\n",
       "  <thead>\n",
       "    <tr style=\"text-align: right;\">\n",
       "      <th></th>\n",
       "      <th>Week</th>\n",
       "      <th>ALL_INF</th>\n",
       "    </tr>\n",
       "  </thead>\n",
       "  <tbody>\n",
       "    <tr>\n",
       "      <td>0</td>\n",
       "      <td>15-2015</td>\n",
       "      <td>1472</td>\n",
       "    </tr>\n",
       "    <tr>\n",
       "      <td>1</td>\n",
       "      <td>16-2015</td>\n",
       "      <td>1127</td>\n",
       "    </tr>\n",
       "    <tr>\n",
       "      <td>2</td>\n",
       "      <td>17-2015</td>\n",
       "      <td>772</td>\n",
       "    </tr>\n",
       "    <tr>\n",
       "      <td>3</td>\n",
       "      <td>18-2015</td>\n",
       "      <td>609</td>\n",
       "    </tr>\n",
       "    <tr>\n",
       "      <td>4</td>\n",
       "      <td>19-2015</td>\n",
       "      <td>527</td>\n",
       "    </tr>\n",
       "    <tr>\n",
       "      <td>...</td>\n",
       "      <td>...</td>\n",
       "      <td>...</td>\n",
       "    </tr>\n",
       "    <tr>\n",
       "      <td>223</td>\n",
       "      <td>30-2019</td>\n",
       "      <td>253</td>\n",
       "    </tr>\n",
       "    <tr>\n",
       "      <td>224</td>\n",
       "      <td>31-2019</td>\n",
       "      <td>248</td>\n",
       "    </tr>\n",
       "    <tr>\n",
       "      <td>225</td>\n",
       "      <td>32-2019</td>\n",
       "      <td>222</td>\n",
       "    </tr>\n",
       "    <tr>\n",
       "      <td>226</td>\n",
       "      <td>33-2019</td>\n",
       "      <td>265</td>\n",
       "    </tr>\n",
       "    <tr>\n",
       "      <td>227</td>\n",
       "      <td>34-2019</td>\n",
       "      <td>302</td>\n",
       "    </tr>\n",
       "  </tbody>\n",
       "</table>\n",
       "<p>228 rows × 2 columns</p>\n",
       "</div>"
      ],
      "text/plain": [
       "        Week  ALL_INF\n",
       "0    15-2015     1472\n",
       "1    16-2015     1127\n",
       "2    17-2015      772\n",
       "3    18-2015      609\n",
       "4    19-2015      527\n",
       "..       ...      ...\n",
       "223  30-2019      253\n",
       "224  31-2019      248\n",
       "225  32-2019      222\n",
       "226  33-2019      265\n",
       "227  34-2019      302\n",
       "\n",
       "[228 rows x 2 columns]"
      ]
     },
     "execution_count": 543,
     "metadata": {},
     "output_type": "execute_result"
    }
   ],
   "source": [
    "df_us = pd.read_csv('../data/USA_flu_virus_counts.csv')\n",
    "df_us['Week'] = df_us.Week.map(str) + \"-\" + df_us.Year.map(str)\n",
    "df_us = df_us[['Week', 'ALL_INF']]\n",
    "df_us = df_us[786+27:1042]\n",
    "df_us = df_us.drop(851)\n",
    "df_us = df_us.reset_index(drop=True)\n",
    "df_us"
   ]
  },
  {
   "cell_type": "code",
   "execution_count": 675,
   "metadata": {},
   "outputs": [
    {
     "data": {
      "text/html": [
       "<div>\n",
       "<style scoped>\n",
       "    .dataframe tbody tr th:only-of-type {\n",
       "        vertical-align: middle;\n",
       "    }\n",
       "\n",
       "    .dataframe tbody tr th {\n",
       "        vertical-align: top;\n",
       "    }\n",
       "\n",
       "    .dataframe thead th {\n",
       "        text-align: right;\n",
       "    }\n",
       "</style>\n",
       "<table border=\"1\" class=\"dataframe\">\n",
       "  <thead>\n",
       "    <tr style=\"text-align: right;\">\n",
       "      <th></th>\n",
       "      <th>Week</th>\n",
       "      <th>ALL_INF</th>\n",
       "    </tr>\n",
       "  </thead>\n",
       "  <tbody>\n",
       "    <tr>\n",
       "      <td>0</td>\n",
       "      <td>40-2014</td>\n",
       "      <td>72</td>\n",
       "    </tr>\n",
       "    <tr>\n",
       "      <td>1</td>\n",
       "      <td>41-2014</td>\n",
       "      <td>58</td>\n",
       "    </tr>\n",
       "    <tr>\n",
       "      <td>2</td>\n",
       "      <td>42-2014</td>\n",
       "      <td>29</td>\n",
       "    </tr>\n",
       "    <tr>\n",
       "      <td>3</td>\n",
       "      <td>43-2014</td>\n",
       "      <td>28</td>\n",
       "    </tr>\n",
       "    <tr>\n",
       "      <td>4</td>\n",
       "      <td>44-2014</td>\n",
       "      <td>24</td>\n",
       "    </tr>\n",
       "    <tr>\n",
       "      <td>...</td>\n",
       "      <td>...</td>\n",
       "      <td>...</td>\n",
       "    </tr>\n",
       "    <tr>\n",
       "      <td>223</td>\n",
       "      <td>3-2019</td>\n",
       "      <td>125</td>\n",
       "    </tr>\n",
       "    <tr>\n",
       "      <td>224</td>\n",
       "      <td>4-2019</td>\n",
       "      <td>97</td>\n",
       "    </tr>\n",
       "    <tr>\n",
       "      <td>225</td>\n",
       "      <td>5-2019</td>\n",
       "      <td>110</td>\n",
       "    </tr>\n",
       "    <tr>\n",
       "      <td>226</td>\n",
       "      <td>6-2019</td>\n",
       "      <td>106</td>\n",
       "    </tr>\n",
       "    <tr>\n",
       "      <td>227</td>\n",
       "      <td>7-2019</td>\n",
       "      <td>104</td>\n",
       "    </tr>\n",
       "  </tbody>\n",
       "</table>\n",
       "<p>228 rows × 2 columns</p>\n",
       "</div>"
      ],
      "text/plain": [
       "        Week  ALL_INF\n",
       "0    40-2014       72\n",
       "1    41-2014       58\n",
       "2    42-2014       29\n",
       "3    43-2014       28\n",
       "4    44-2014       24\n",
       "..       ...      ...\n",
       "223   3-2019      125\n",
       "224   4-2019       97\n",
       "225   5-2019      110\n",
       "226   6-2019      106\n",
       "227   7-2019      104\n",
       "\n",
       "[228 rows x 2 columns]"
      ]
     },
     "execution_count": 675,
     "metadata": {},
     "output_type": "execute_result"
    }
   ],
   "source": [
    "df_aus = pd.read_csv('../data/AUS_flu_virus_counts.csv')\n",
    "df_aus['Week'] = df_aus.Week.map(str) + \"-\" + df_aus.Year.map(str)\n",
    "df_aus = df_aus[['Week', 'ALL_INF']]\n",
    "df_aus = df_aus[912:1168-27]\n",
    "df_aus = df_aus.drop(977)\n",
    "df_aus = df_aus.reset_index(drop=True)\n",
    "df_aus"
   ]
  },
  {
   "cell_type": "code",
   "execution_count": 676,
   "metadata": {},
   "outputs": [],
   "source": [
    "list_hospital = list(df_hospital['ILI'])\n",
    "list_tweets = list(df_twitter['Tweets'])\n",
    "list_us = list(df_us['ALL_INF'])\n",
    "list_aus = list(df_aus['ALL_INF'])\n",
    "\n",
    "# list_tweets = [i / 5000 for i in list_tweets]\n",
    "# list_hospital = [i / 50 for i in list_hospital]\n",
    "# list_us = [i / 20 for i in list_us]\n",
    "\n",
    "# list_hospital = [float(i)/sum(list_hospital) for i in list_hospital]\n",
    "# list_tweets = [float(i)/sum(list_tweets) for i in list_tweets]\n",
    "# list_us = [float(i)/sum(list_us) for i in list_us]\n",
    "# list_aus_norm = [float(i)/sum(list_aus) for i in list_aus]"
   ]
  },
  {
   "cell_type": "code",
   "execution_count": 677,
   "metadata": {},
   "outputs": [],
   "source": [
    "def test_stationarity(timeseries):\n",
    "\n",
    "    #Determing rolling statistics\n",
    "    rolmean = timeseries.rolling(52).mean()\n",
    "    rolstd = timeseries.rolling(52).std()\n",
    "\n",
    "    #Plot rolling statistics:\n",
    "    fig = plt.figure()\n",
    "    orig = plt.plot(timeseries, color='blue',label='Original')\n",
    "    mean = plt.plot(rolmean, color='red', label='Rolling Mean')\n",
    "    std = plt.plot(rolstd, color='black', label = 'Rolling Std')\n",
    "    plt.legend(loc='best')\n",
    "    plt.title('Rolling Mean & Standard Deviation')\n",
    "    plt.show()\n",
    "    \n",
    "    #Perform Dickey-Fuller test:\n",
    "    print('Results of Dickey-Fuller Test:')\n",
    "    dftest = adfuller(timeseries, autolag='AIC')\n",
    "    dfoutput = pd.Series(dftest[0:4], index=['Test Statistic','p-value','#Lags Used','Number of Observations Used'])\n",
    "    for key,value in dftest[4].items():\n",
    "        dfoutput['Critical Value (%s)'%key] = value\n",
    "    print(dfoutput)"
   ]
  },
  {
   "cell_type": "code",
   "execution_count": 678,
   "metadata": {},
   "outputs": [
    {
     "data": {
      "image/png": "[encoded data removed]",
      "text/plain": [
       "<Figure size 432x288 with 1 Axes>"
      ]
     },
     "metadata": {
      "needs_background": "light"
     },
     "output_type": "display_data"
    },
    {
     "name": "stdout",
     "output_type": "stream",
     "text": [
      "Results of Dickey-Fuller Test:\n",
      "Test Statistic                  -4.328583\n",
      "p-value                          0.000396\n",
      "#Lags Used                       9.000000\n",
      "Number of Observations Used    217.000000\n",
      "Critical Value (1%)             -3.460849\n",
      "Critical Value (5%)             -2.874953\n",
      "Critical Value (10%)            -2.573919\n",
      "dtype: float64\n"
     ]
    }
   ],
   "source": [
    "df_hospital['first_difference'] = df_hospital.ILI - df_hospital.ILI.shift(1)\n",
    "# df_hospital['first_difference'] = df_hospital.ILI - df_hospital.ILI.shift(52)\n",
    "\n",
    "# test_stationarity(df.first_difference.dropna(inplace=False))\n",
    "test_stationarity(df_hospital.first_difference.dropna(inplace=False))"
   ]
  },
  {
   "cell_type": "code",
   "execution_count": 679,
   "metadata": {},
   "outputs": [
    {
     "data": {
      "image/png": "[encoded data removed]",
      "text/plain": [
       "<Figure size 432x288 with 2 Axes>"
      ]
     },
     "metadata": {
      "needs_background": "light"
     },
     "output_type": "display_data"
    }
   ],
   "source": [
    "fig = plt.figure()\n",
    "plt.subplots_adjust(left=0, bottom=0, right=1, top=1, wspace=0, hspace=0.5)\n",
    "ax1 = fig.add_subplot(211)\n",
    "fig = sm_tsa.plot_acf(df_hospital.first_difference.iloc[53:], lags=40, ax=ax1)\n",
    "ax2 = fig.add_subplot(212)\n",
    "fig = sm_tsa.plot_pacf(df_hospital.first_difference.iloc[53:], lags=40, ax=ax2)"
   ]
  },
  {
   "cell_type": "code",
   "execution_count": 680,
   "metadata": {},
   "outputs": [],
   "source": [
    "list_hospital_real = list_hospital[:-52]\n",
    "list_tweets_real = list_tweets[:-52]\n",
    "list_us_real = list_us[:-52]\n",
    "list_aus_real = list_aus[:-52]\n",
    "\n",
    "list_hospital_pred = list_hospital[-52:]\n",
    "list_tweets_pred = list_tweets[-52:]\n",
    "list_us_pred = list_tweets[-52:]\n",
    "list_aus_pred = list_aus[-52:]"
   ]
  },
  {
   "cell_type": "code",
   "execution_count": 681,
   "metadata": {},
   "outputs": [],
   "source": [
    "features = [list_tweets_real, list_us_real, list_aus_real]\n",
    "pred = [list_tweets_pred, list_us_pred, list_aus_pred]"
   ]
  },
  {
   "cell_type": "code",
   "execution_count": 682,
   "metadata": {},
   "outputs": [],
   "source": [
    "features = list(map(list, zip(*features)))\n",
    "pred = list(map(list, zip(*pred)))"
   ]
  },
  {
   "cell_type": "code",
   "execution_count": 683,
   "metadata": {},
   "outputs": [],
   "source": [
    "model = SARIMAX(list_hospital_real, exog=features, order=(1, 1, 0), seasonal_order=(1, 1, 0, 52))\n",
    "model_fit = model.fit()"
   ]
  },
  {
   "cell_type": "code",
   "execution_count": 684,
   "metadata": {},
   "outputs": [
    {
     "name": "stdout",
     "output_type": "stream",
     "text": [
      "[ 7737.49706702  7650.31333503  8475.99463919  8576.42687229\n",
      "  8388.34732389 12710.94130205 13051.3587739  13963.03642994\n",
      " 15334.07432649 15798.12771564 17158.6735303  18922.94862203\n",
      " 15961.52679646 18480.29312708 17376.51812794 17132.49450609\n",
      " 14176.68844669  8713.63457831  6579.22009542  9346.86456388\n",
      " 16420.79081774 21295.85828383 29310.95020308 31736.11038635\n",
      " 26360.83668599 18369.12765111 13452.90320398 13144.74904754\n",
      " 11611.76073503 11680.741563    9783.34878456 10870.3413548\n",
      " 10137.33175823 10466.4926628  11342.57355035 11146.39260386\n",
      " 10957.51351354 10884.17452147 10750.06174721 10036.95979829\n",
      "  9131.35365089  8220.07901015  8088.90761179  7545.53930567\n",
      "  6902.9670453   6981.61593775  6397.15925316  6290.18431455\n",
      "  6330.0000787   6440.2993769   7062.94245422  7784.18216475]\n"
     ]
    }
   ],
   "source": [
    "# make prediction\n",
    "future = 52\n",
    "predictions = model_fit.predict(len(list_hospital_real), len(list_hospital_real) + future - 1, exog=pred)\n",
    "print(predictions)\n",
    "future_weeks = list(range(len(list_hospital_real), len(list_hospital_real) + future))\n",
    "# future_weeks"
   ]
  },
  {
   "cell_type": "code",
   "execution_count": 685,
   "metadata": {},
   "outputs": [],
   "source": [
    "predictions_df = pd.DataFrame([future_weeks, predictions]).transpose()\n",
    "predictions_df.columns = ['Week', 'Total ILI']\n",
    "predictions_df = predictions_df.set_index('Week')"
   ]
  },
  {
   "cell_type": "code",
   "execution_count": 686,
   "metadata": {},
   "outputs": [
    {
     "data": {
      "text/plain": [
       "Text(0.5, 1.0, 'Total ILI + Features: 2014 - 2019')"
      ]
     },
     "execution_count": 686,
     "metadata": {},
     "output_type": "execute_result"
    },
    {
     "data": {
      "image/png": "[encoded data removed]",
      "text/plain": [
       "<Figure size 432x288 with 1 Axes>"
      ]
     },
     "metadata": {
      "needs_background": "light"
     },
     "output_type": "display_data"
    }
   ],
   "source": [
    "plt.plot(list_hospital, c='blue')\n",
    "plt.plot(list_tweets, c='green')\n",
    "plt.plot(list_us, c='purple')\n",
    "plt.plot(list_aus, c='gray')\n",
    "# plt.plot(predictions_df, '--', c='#1f77b4')\n",
    "plt.xlabel(\"Week\", labelpad=10)\n",
    "plt.ylabel(\"Total ILI\", labelpad=10)\n",
    "plt.title(\"Total ILI + Features: 2014 - 2019\", pad=15)"
   ]
  },
  {
   "cell_type": "code",
   "execution_count": 687,
   "metadata": {},
   "outputs": [
    {
     "data": {
      "text/plain": [
       "Text(0.5, 1.0, 'Total ILI: 2014 - 2019 + predictions')"
      ]
     },
     "execution_count": 687,
     "metadata": {},
     "output_type": "execute_result"
    },
    {
     "data": {
      "image/png": "[encoded data removed]",
      "text/plain": [
       "<Figure size 432x288 with 1 Axes>"
      ]
     },
     "metadata": {
      "needs_background": "light"
     },
     "output_type": "display_data"
    }
   ],
   "source": [
    "plt.plot(df_hospital['ILI'], label='real')\n",
    "# plt.plot(predictions_df)\n",
    "plt.plot(predictions_df, '--', label='prediction')\n",
    "plt.legend()\n",
    "plt.xlabel(\"Week\", labelpad=10)\n",
    "plt.ylabel(\"Total ILI\", labelpad=10)\n",
    "plt.title(\"Total ILI: 2014 - 2019 + predictions\", pad=15)"
   ]
  },
  {
   "cell_type": "code",
   "execution_count": 640,
   "metadata": {},
   "outputs": [
    {
     "data": {
      "text/html": [
       "<table class=\"simpletable\">\n",
       "<caption>Statespace Model Results</caption>\n",
       "<tr>\n",
       "  <th>Dep. Variable:</th>                  <td>y</td>               <th>  No. Observations:  </th>    <td>176</td>   \n",
       "</tr>\n",
       "<tr>\n",
       "  <th>Model:</th>           <td>SARIMAX(1, 1, 0)x(1, 1, 0, 52)</td> <th>  Log Likelihood     </th> <td>-1073.058</td>\n",
       "</tr>\n",
       "<tr>\n",
       "  <th>Date:</th>                   <td>Mon, 09 Dec 2019</td>        <th>  AIC                </th> <td>2158.115</td> \n",
       "</tr>\n",
       "<tr>\n",
       "  <th>Time:</th>                       <td>13:54:20</td>            <th>  BIC                </th> <td>2174.989</td> \n",
       "</tr>\n",
       "<tr>\n",
       "  <th>Sample:</th>                         <td>0</td>               <th>  HQIC               </th> <td>2164.969</td> \n",
       "</tr>\n",
       "<tr>\n",
       "  <th></th>                             <td> - 176</td>             <th>                     </th>     <td> </td>    \n",
       "</tr>\n",
       "<tr>\n",
       "  <th>Covariance Type:</th>               <td>opg</td>              <th>                     </th>     <td> </td>    \n",
       "</tr>\n",
       "</table>\n",
       "<table class=\"simpletable\">\n",
       "<tr>\n",
       "      <td></td>        <th>coef</th>     <th>std err</th>      <th>z</th>      <th>P>|z|</th>  <th>[0.025</th>    <th>0.975]</th>  \n",
       "</tr>\n",
       "<tr>\n",
       "  <th>x1</th>       <td>   -0.9445</td> <td>    1.528</td> <td>   -0.618</td> <td> 0.537</td> <td>   -3.940</td> <td>    2.051</td>\n",
       "</tr>\n",
       "<tr>\n",
       "  <th>x2</th>       <td>    2.1517</td> <td>    0.075</td> <td>   28.632</td> <td> 0.000</td> <td>    2.004</td> <td>    2.299</td>\n",
       "</tr>\n",
       "<tr>\n",
       "  <th>x3</th>       <td>    0.7943</td> <td>    2.669</td> <td>    0.298</td> <td> 0.766</td> <td>   -4.437</td> <td>    6.026</td>\n",
       "</tr>\n",
       "<tr>\n",
       "  <th>ar.L1</th>    <td>    0.4951</td> <td>    0.054</td> <td>    9.119</td> <td> 0.000</td> <td>    0.389</td> <td>    0.602</td>\n",
       "</tr>\n",
       "<tr>\n",
       "  <th>ar.S.L52</th> <td>   -0.0937</td> <td>    0.099</td> <td>   -0.943</td> <td> 0.346</td> <td>   -0.288</td> <td>    0.101</td>\n",
       "</tr>\n",
       "<tr>\n",
       "  <th>sigma2</th>   <td> 2.228e+06</td> <td> 1.93e+05</td> <td>   11.565</td> <td> 0.000</td> <td> 1.85e+06</td> <td> 2.61e+06</td>\n",
       "</tr>\n",
       "</table>\n",
       "<table class=\"simpletable\">\n",
       "<tr>\n",
       "  <th>Ljung-Box (Q):</th>          <td>35.89</td> <th>  Jarque-Bera (JB):  </th> <td>187.75</td>\n",
       "</tr>\n",
       "<tr>\n",
       "  <th>Prob(Q):</th>                <td>0.66</td>  <th>  Prob(JB):          </th>  <td>0.00</td> \n",
       "</tr>\n",
       "<tr>\n",
       "  <th>Heteroskedasticity (H):</th> <td>5.45</td>  <th>  Skew:              </th>  <td>-0.37</td>\n",
       "</tr>\n",
       "<tr>\n",
       "  <th>Prob(H) (two-sided):</th>    <td>0.00</td>  <th>  Kurtosis:          </th>  <td>9.01</td> \n",
       "</tr>\n",
       "</table><br/><br/>Warnings:<br/>[1] Covariance matrix calculated using the outer product of gradients (complex-step)."
      ],
      "text/plain": [
       "<class 'statsmodels.iolib.summary.Summary'>\n",
       "\"\"\"\n",
       "                                 Statespace Model Results                                 \n",
       "==========================================================================================\n",
       "Dep. Variable:                                  y   No. Observations:                  176\n",
       "Model:             SARIMAX(1, 1, 0)x(1, 1, 0, 52)   Log Likelihood               -1073.058\n",
       "Date:                            Mon, 09 Dec 2019   AIC                           2158.115\n",
       "Time:                                    13:54:20   BIC                           2174.989\n",
       "Sample:                                         0   HQIC                          2164.969\n",
       "                                            - 176                                         \n",
       "Covariance Type:                              opg                                         \n",
       "==============================================================================\n",
       "                 coef    std err          z      P>|z|      [0.025      0.975]\n",
       "------------------------------------------------------------------------------\n",
       "x1            -0.9445      1.528     -0.618      0.537      -3.940       2.051\n",
       "x2             2.1517      0.075     28.632      0.000       2.004       2.299\n",
       "x3             0.7943      2.669      0.298      0.766      -4.437       6.026\n",
       "ar.L1          0.4951      0.054      9.119      0.000       0.389       0.602\n",
       "ar.S.L52      -0.0937      0.099     -0.943      0.346      -0.288       0.101\n",
       "sigma2      2.228e+06   1.93e+05     11.565      0.000    1.85e+06    2.61e+06\n",
       "===================================================================================\n",
       "Ljung-Box (Q):                       35.89   Jarque-Bera (JB):               187.75\n",
       "Prob(Q):                              0.66   Prob(JB):                         0.00\n",
       "Heteroskedasticity (H):               5.45   Skew:                            -0.37\n",
       "Prob(H) (two-sided):                  0.00   Kurtosis:                         9.01\n",
       "===================================================================================\n",
       "\n",
       "Warnings:\n",
       "[1] Covariance matrix calculated using the outer product of gradients (complex-step).\n",
       "\"\"\""
      ]
     },
     "execution_count": 640,
     "metadata": {},
     "output_type": "execute_result"
    }
   ],
   "source": [
    "model_fit.summary()"
   ]
  },
  {
   "cell_type": "code",
   "execution_count": null,
   "metadata": {},
   "outputs": [],
   "source": []
  }
 ],
 "metadata": {
  "kernelspec": {
   "display_name": "Python 3",
   "language": "python",
   "name": "python3"
  },
  "language_info": {
   "codemirror_mode": {
    "name": "ipython",
    "version": 3
   },
   "file_extension": ".py",
   "mimetype": "text/x-python",
   "name": "python",
   "nbconvert_exporter": "python",
   "pygments_lexer": "ipython3",
   "version": "3.7.4"
  }
 },
 "nbformat": 4,
 "nbformat_minor": 2
}
