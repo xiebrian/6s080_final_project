{
 "cells": [
  {
   "cell_type": "markdown",
   "metadata": {},
   "source": [
    "# Seasonal Autoregressive Integrated Moving Average with Exogenous Regressors\n",
    "### Model for time series forecasting with data containing trends and/or seasonality _and_ exogenous variables"
   ]
  },
  {
   "cell_type": "code",
   "execution_count": 85,
   "metadata": {},
   "outputs": [],
   "source": [
    "import matplotlib as mpl\n",
    "import matplotlib.pyplot as plt\n",
    "import seaborn as sns\n",
    "import pandas as pd\n",
    "\n",
    "from statsmodels.tsa.statespace.sarimax import SARIMAX"
   ]
  },
  {
   "cell_type": "markdown",
   "metadata": {},
   "source": [
    "Reading in CDC data and exogenous variables"
   ]
  },
  {
   "cell_type": "code",
   "execution_count": 86,
   "metadata": {},
   "outputs": [
    {
     "data": {
      "text/html": [
       "<div>\n",
       "<style scoped>\n",
       "    .dataframe tbody tr th:only-of-type {\n",
       "        vertical-align: middle;\n",
       "    }\n",
       "\n",
       "    .dataframe tbody tr th {\n",
       "        vertical-align: top;\n",
       "    }\n",
       "\n",
       "    .dataframe thead th {\n",
       "        text-align: right;\n",
       "    }\n",
       "</style>\n",
       "<table border=\"1\" class=\"dataframe\">\n",
       "  <thead>\n",
       "    <tr style=\"text-align: right;\">\n",
       "      <th></th>\n",
       "      <th>Week</th>\n",
       "      <th>Searches</th>\n",
       "    </tr>\n",
       "  </thead>\n",
       "  <tbody>\n",
       "    <tr>\n",
       "      <td>0</td>\n",
       "      <td>15-2015</td>\n",
       "      <td>9</td>\n",
       "    </tr>\n",
       "    <tr>\n",
       "      <td>1</td>\n",
       "      <td>16-2015</td>\n",
       "      <td>9</td>\n",
       "    </tr>\n",
       "    <tr>\n",
       "      <td>2</td>\n",
       "      <td>17-2015</td>\n",
       "      <td>7</td>\n",
       "    </tr>\n",
       "    <tr>\n",
       "      <td>3</td>\n",
       "      <td>18-2015</td>\n",
       "      <td>6</td>\n",
       "    </tr>\n",
       "    <tr>\n",
       "      <td>4</td>\n",
       "      <td>19-2015</td>\n",
       "      <td>6</td>\n",
       "    </tr>\n",
       "    <tr>\n",
       "      <td>...</td>\n",
       "      <td>...</td>\n",
       "      <td>...</td>\n",
       "    </tr>\n",
       "    <tr>\n",
       "      <td>223</td>\n",
       "      <td>30-2019</td>\n",
       "      <td>4</td>\n",
       "    </tr>\n",
       "    <tr>\n",
       "      <td>224</td>\n",
       "      <td>31-2019</td>\n",
       "      <td>5</td>\n",
       "    </tr>\n",
       "    <tr>\n",
       "      <td>225</td>\n",
       "      <td>32-2019</td>\n",
       "      <td>5</td>\n",
       "    </tr>\n",
       "    <tr>\n",
       "      <td>226</td>\n",
       "      <td>33-2019</td>\n",
       "      <td>7</td>\n",
       "    </tr>\n",
       "    <tr>\n",
       "      <td>227</td>\n",
       "      <td>34-2019</td>\n",
       "      <td>7</td>\n",
       "    </tr>\n",
       "  </tbody>\n",
       "</table>\n",
       "<p>228 rows × 2 columns</p>\n",
       "</div>"
      ],
      "text/plain": [
       "        Week  Searches\n",
       "0    15-2015         9\n",
       "1    16-2015         9\n",
       "2    17-2015         7\n",
       "3    18-2015         6\n",
       "4    19-2015         6\n",
       "..       ...       ...\n",
       "223  30-2019         4\n",
       "224  31-2019         5\n",
       "225  32-2019         5\n",
       "226  33-2019         7\n",
       "227  34-2019         7\n",
       "\n",
       "[228 rows x 2 columns]"
      ]
     },
     "execution_count": 86,
     "metadata": {},
     "output_type": "execute_result"
    }
   ],
   "source": [
    "df_hospital = pd.read_csv('../data/hospital_visits.csv')\n",
    "df_hospital['Week'] = df_hospital.Week.map(str) + \"-\" + df_hospital.Year.map(str)\n",
    "df_hospital = df_hospital[['Week', 'Total ILI']]\n",
    "df_hospital.columns = ['Week', 'ILI']\n",
    "df_hospital = df_hospital[28:256]\n",
    "df_hospital = df_hospital.reset_index(drop=True)\n",
    "\n",
    "df_twitter = pd.read_csv('../data/twitter-flu-data.csv', header=None)\n",
    "df_twitter.columns = ['Year', 'Week', '1', '2', '3', '4', '5', '6', '7']\n",
    "df_twitter['Week'] = df_twitter.Week.map(str) + \"-\" + df_twitter.Year.map(str)\n",
    "df_twitter['Tweets'] = df_twitter[['1', '2', '3', '4', '5', '6', '7']].sum(axis=1)\n",
    "df_twitter = df_twitter[['Week', 'Tweets']][27:-1]\n",
    "df_twitter = df_twitter.reset_index(drop=True)\n",
    "\n",
    "df_us = pd.read_csv('../data/USA_flu_virus_counts.csv')\n",
    "df_us['Week'] = df_us.Week.map(str) + \"-\" + df_us.Year.map(str)\n",
    "df_us = df_us[['Week', 'ALL_INF']]\n",
    "df_us = df_us[786+27:1042]\n",
    "df_us = df_us.drop(851)\n",
    "df_us = df_us.reset_index(drop=True)\n",
    "\n",
    "df_aus = pd.read_csv('../data/AUS_flu_virus_counts.csv')\n",
    "df_aus['Week'] = df_aus.Week.map(str) + \"-\" + df_aus.Year.map(str)\n",
    "df_aus = df_aus[['Week', 'ALL_INF']]\n",
    "df_aus = df_aus[912:1168-27]\n",
    "df_aus = df_aus.drop(977)\n",
    "df_aus = df_aus.reset_index(drop=True)\n",
    "\n",
    "df_google = pd.read_csv('../data/flu_trends_past5years.csv')\n",
    "df_google['Week'] = df_google.Week.map(str) + \"-\" + df_google.Year.map(str)\n",
    "df_google = df_google[['Week', 'Searches']]\n",
    "df_google = df_google[21:250]\n",
    "df_google = df_google.drop(86)\n",
    "df_google.reset_index(drop=True)"
   ]
  },
  {
   "cell_type": "code",
   "execution_count": 87,
   "metadata": {},
   "outputs": [],
   "source": [
    "list_hospital = list(df_hospital['ILI'])\n",
    "list_tweets = list(df_twitter['Tweets'])\n",
    "list_us = list(df_us['ALL_INF'])\n",
    "list_aus = list(df_aus['ALL_INF'])\n",
    "list_google = list(df_google['Searches'])"
   ]
  },
  {
   "cell_type": "code",
   "execution_count": 88,
   "metadata": {},
   "outputs": [],
   "source": [
    "list_hospital_real = list_hospital[:-52]\n",
    "list_tweets_real = list_tweets[:-52]\n",
    "list_us_real = list_us[:-52]\n",
    "list_aus_real = list_aus[:-52]\n",
    "list_google_real = list_google[:-52]\n",
    "\n",
    "list_hospital_pred = list_hospital[-52:]\n",
    "list_tweets_pred = list_tweets[-52:]\n",
    "list_us_pred = list_us[-52:]\n",
    "list_aus_pred = list_aus[-52:]\n",
    "list_google_pred = list_google[-52:]"
   ]
  },
  {
   "cell_type": "code",
   "execution_count": 89,
   "metadata": {},
   "outputs": [],
   "source": [
    "features = [list_tweets_real, list_aus_real, list_google_real]\n",
    "pred = [list_tweets_pred, list_aus_pred, list_google_pred]\n",
    "\n",
    "features = list(map(list, zip(*features)))\n",
    "pred = list(map(list, zip(*pred)))"
   ]
  },
  {
   "cell_type": "markdown",
   "metadata": {},
   "source": [
    "#### Defining the SARIMAX model - forecasting the last 52 weeks\n",
    "Optimal order and seasonal_order (found via hyperparameter tuning in sarimax-script.py)"
   ]
  },
  {
   "cell_type": "code",
   "execution_count": 90,
   "metadata": {},
   "outputs": [],
   "source": [
    "model = SARIMAX(endog=list_hospital_real, exog=features, order=(0, 1, 0), seasonal_order=(1, 1, 0, 52), enforce_stationarity=False, enforce_invertibility=False, trend='c')\n",
    "model_fit = model.fit()"
   ]
  },
  {
   "cell_type": "code",
   "execution_count": 91,
   "metadata": {},
   "outputs": [],
   "source": [
    "future = 52\n",
    "predictions = model_fit.predict(len(list_hospital_real), len(list_hospital_real) + future - 1, exog=pred)\n",
    "future_weeks = list(range(len(list_hospital_real), len(list_hospital_real) + future))"
   ]
  },
  {
   "cell_type": "code",
   "execution_count": 92,
   "metadata": {},
   "outputs": [],
   "source": [
    "predictions_df = pd.DataFrame([future_weeks, predictions]).transpose()\n",
    "predictions_df.columns = ['Week', 'Total ILI']\n",
    "predictions_df = predictions_df.set_index('Week')"
   ]
  },
  {
   "cell_type": "code",
   "execution_count": 93,
   "metadata": {},
   "outputs": [
    {
     "data": {
      "text/plain": [
       "Text(0.5, 1.0, 'Total ILI: 2014 - 2019 + predictions')"
      ]
     },
     "execution_count": 93,
     "metadata": {},
     "output_type": "execute_result"
    },
    {
     "data": {
      "image/png": "[encoded data removed]",
      "text/plain": [
       "<Figure size 432x288 with 1 Axes>"
      ]
     },
     "metadata": {
      "needs_background": "light"
     },
     "output_type": "display_data"
    }
   ],
   "source": [
    "plt.plot(df_hospital['ILI'], label='real')\n",
    "plt.plot(predictions_df, '--', label='prediction')\n",
    "plt.legend()\n",
    "plt.xlabel(\"Week\", labelpad=10)\n",
    "plt.ylabel(\"Total ILI\", labelpad=10)\n",
    "plt.title(\"Total ILI: 2014 - 2019 + predictions\", pad=15)"
   ]
  },
  {
   "cell_type": "code",
   "execution_count": 94,
   "metadata": {},
   "outputs": [
    {
     "data": {
      "text/html": [
       "<table class=\"simpletable\">\n",
       "<caption>Statespace Model Results</caption>\n",
       "<tr>\n",
       "  <th>Dep. Variable:</th>                  <td>y</td>               <th>  No. Observations:  </th>    <td>176</td>  \n",
       "</tr>\n",
       "<tr>\n",
       "  <th>Model:</th>           <td>SARIMAX(0, 1, 0)x(1, 1, 0, 52)</td> <th>  Log Likelihood     </th> <td>-669.757</td>\n",
       "</tr>\n",
       "<tr>\n",
       "  <th>Date:</th>                   <td>Tue, 10 Dec 2019</td>        <th>  AIC                </th> <td>1351.514</td>\n",
       "</tr>\n",
       "<tr>\n",
       "  <th>Time:</th>                       <td>13:31:49</td>            <th>  BIC                </th> <td>1365.090</td>\n",
       "</tr>\n",
       "<tr>\n",
       "  <th>Sample:</th>                         <td>0</td>               <th>  HQIC               </th> <td>1356.912</td>\n",
       "</tr>\n",
       "<tr>\n",
       "  <th></th>                             <td> - 176</td>             <th>                     </th>     <td> </td>   \n",
       "</tr>\n",
       "<tr>\n",
       "  <th>Covariance Type:</th>               <td>opg</td>              <th>                     </th>     <td> </td>   \n",
       "</tr>\n",
       "</table>\n",
       "<table class=\"simpletable\">\n",
       "<tr>\n",
       "      <td></td>         <th>coef</th>     <th>std err</th>      <th>z</th>      <th>P>|z|</th>  <th>[0.025</th>    <th>0.975]</th>  \n",
       "</tr>\n",
       "<tr>\n",
       "  <th>intercept</th> <td>  -23.2342</td> <td>  542.211</td> <td>   -0.043</td> <td> 0.966</td> <td>-1085.947</td> <td> 1039.479</td>\n",
       "</tr>\n",
       "<tr>\n",
       "  <th>x1</th>        <td>  -14.8874</td> <td>    5.566</td> <td>   -2.675</td> <td> 0.007</td> <td>  -25.797</td> <td>   -3.978</td>\n",
       "</tr>\n",
       "<tr>\n",
       "  <th>x2</th>        <td>    4.5104</td> <td>   10.979</td> <td>    0.411</td> <td> 0.681</td> <td>  -17.007</td> <td>   26.028</td>\n",
       "</tr>\n",
       "<tr>\n",
       "  <th>x3</th>        <td>  352.5212</td> <td>   60.265</td> <td>    5.850</td> <td> 0.000</td> <td>  234.405</td> <td>  470.638</td>\n",
       "</tr>\n",
       "<tr>\n",
       "  <th>ar.S.L52</th>  <td>    0.1511</td> <td>    0.203</td> <td>    0.745</td> <td> 0.456</td> <td>   -0.246</td> <td>    0.548</td>\n",
       "</tr>\n",
       "<tr>\n",
       "  <th>sigma2</th>    <td> 9.142e+06</td> <td> 9.23e+05</td> <td>    9.909</td> <td> 0.000</td> <td> 7.33e+06</td> <td>  1.1e+07</td>\n",
       "</tr>\n",
       "</table>\n",
       "<table class=\"simpletable\">\n",
       "<tr>\n",
       "  <th>Ljung-Box (Q):</th>          <td>24.17</td> <th>  Jarque-Bera (JB):  </th> <td>746.46</td>\n",
       "</tr>\n",
       "<tr>\n",
       "  <th>Prob(Q):</th>                <td>0.98</td>  <th>  Prob(JB):          </th>  <td>0.00</td> \n",
       "</tr>\n",
       "<tr>\n",
       "  <th>Heteroskedasticity (H):</th> <td>0.91</td>  <th>  Skew:              </th>  <td>-1.96</td>\n",
       "</tr>\n",
       "<tr>\n",
       "  <th>Prob(H) (two-sided):</th>    <td>0.82</td>  <th>  Kurtosis:          </th>  <td>18.40</td>\n",
       "</tr>\n",
       "</table><br/><br/>Warnings:<br/>[1] Covariance matrix calculated using the outer product of gradients (complex-step)."
      ],
      "text/plain": [
       "<class 'statsmodels.iolib.summary.Summary'>\n",
       "\"\"\"\n",
       "                                 Statespace Model Results                                 \n",
       "==========================================================================================\n",
       "Dep. Variable:                                  y   No. Observations:                  176\n",
       "Model:             SARIMAX(0, 1, 0)x(1, 1, 0, 52)   Log Likelihood                -669.757\n",
       "Date:                            Tue, 10 Dec 2019   AIC                           1351.514\n",
       "Time:                                    13:31:49   BIC                           1365.090\n",
       "Sample:                                         0   HQIC                          1356.912\n",
       "                                            - 176                                         \n",
       "Covariance Type:                              opg                                         \n",
       "==============================================================================\n",
       "                 coef    std err          z      P>|z|      [0.025      0.975]\n",
       "------------------------------------------------------------------------------\n",
       "intercept    -23.2342    542.211     -0.043      0.966   -1085.947    1039.479\n",
       "x1           -14.8874      5.566     -2.675      0.007     -25.797      -3.978\n",
       "x2             4.5104     10.979      0.411      0.681     -17.007      26.028\n",
       "x3           352.5212     60.265      5.850      0.000     234.405     470.638\n",
       "ar.S.L52       0.1511      0.203      0.745      0.456      -0.246       0.548\n",
       "sigma2      9.142e+06   9.23e+05      9.909      0.000    7.33e+06     1.1e+07\n",
       "===================================================================================\n",
       "Ljung-Box (Q):                       24.17   Jarque-Bera (JB):               746.46\n",
       "Prob(Q):                              0.98   Prob(JB):                         0.00\n",
       "Heteroskedasticity (H):               0.91   Skew:                            -1.96\n",
       "Prob(H) (two-sided):                  0.82   Kurtosis:                        18.40\n",
       "===================================================================================\n",
       "\n",
       "Warnings:\n",
       "[1] Covariance matrix calculated using the outer product of gradients (complex-step).\n",
       "\"\"\""
      ]
     },
     "execution_count": 94,
     "metadata": {},
     "output_type": "execute_result"
    }
   ],
   "source": [
    "model_fit.summary()"
   ]
  },
  {
   "cell_type": "code",
   "execution_count": 11,
   "metadata": {},
   "outputs": [
    {
     "data": {
      "text/plain": [
       "Text(0.5, 1.0, 'Total ILI + Features: 2014 - 2019')"
      ]
     },
     "execution_count": 11,
     "metadata": {},
     "output_type": "execute_result"
    },
    {
     "data": {
      "image/png": "[encoded data removed]",
      "text/plain": [
       "<Figure size 432x288 with 1 Axes>"
      ]
     },
     "metadata": {
      "needs_background": "light"
     },
     "output_type": "display_data"
    }
   ],
   "source": [
    "plt.plot(list_hospital, c='blue')\n",
    "plt.plot(list_tweets, c='green')\n",
    "plt.plot(list_aus, c='gray')\n",
    "plt.xlabel(\"Week\", labelpad=10)\n",
    "plt.ylabel(\"Total ILI\", labelpad=10)\n",
    "plt.title(\"Total ILI + Features: 2014 - 2019\", pad=15)"
   ]
  },
  {
   "cell_type": "code",
   "execution_count": null,
   "metadata": {},
   "outputs": [],
   "source": []
  }
 ],
 "metadata": {
  "kernelspec": {
   "display_name": "Python 3",
   "language": "python",
   "name": "python3"
  },
  "language_info": {
   "codemirror_mode": {
    "name": "ipython",
    "version": 3
   },
   "file_extension": ".py",
   "mimetype": "text/x-python",
   "name": "python",
   "nbconvert_exporter": "python",
   "pygments_lexer": "ipython3",
   "version": "3.7.4"
  }
 },
 "nbformat": 4,
 "nbformat_minor": 2
}
