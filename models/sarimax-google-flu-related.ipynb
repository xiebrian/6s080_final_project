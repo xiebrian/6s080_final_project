{
 "cells": [
  {
   "cell_type": "markdown",
   "metadata": {},
   "source": [
    "# Seasonal Autoregressive Integrated Moving Average with Exogenous Regressors\n",
    "### Model for time series forecasting with data containing trends and/or seasonality _and_ exogenous variables"
   ]
  },
  {
   "cell_type": "code",
   "execution_count": 152,
   "metadata": {},
   "outputs": [],
   "source": [
    "import matplotlib as mpl\n",
    "import matplotlib.pyplot as plt\n",
    "import seaborn as sns\n",
    "import pandas as pd\n",
    "\n",
    "from statsmodels.tsa.statespace.sarimax import SARIMAX"
   ]
  },
  {
   "cell_type": "markdown",
   "metadata": {},
   "source": [
    "Reading in CDC data and exogenous variables"
   ]
  },
  {
   "cell_type": "code",
   "execution_count": 153,
   "metadata": {},
   "outputs": [],
   "source": [
    "df_hospital = pd.read_csv('../data/hospital_visits.csv')\n",
    "df_hospital['Week'] = df_hospital.Week.map(str) + \"-\" + df_hospital.Year.map(str)\n",
    "df_hospital = df_hospital[['Week', 'Total ILI']]\n",
    "df_hospital.columns = ['Week', 'ILI']\n",
    "df_hospital = df_hospital[28:256]\n",
    "df_hospital = df_hospital.reset_index(drop=True)\n",
    "\n",
    "df_twitter = pd.read_csv('../data/twitter-flu-data.csv', header=None)\n",
    "df_twitter.columns = ['Year', 'Week', '1', '2', '3', '4', '5', '6', '7']\n",
    "df_twitter['Week'] = df_twitter.Week.map(str) + \"-\" + df_twitter.Year.map(str)\n",
    "df_twitter['Tweets'] = df_twitter[['1', '2', '3', '4', '5', '6', '7']].sum(axis=1)\n",
    "df_twitter = df_twitter[['Week', 'Tweets']][27:-1]\n",
    "df_twitter = df_twitter.reset_index(drop=True)\n",
    "\n",
    "df_us = pd.read_csv('../data/USA_flu_virus_counts.csv')\n",
    "df_us['Week'] = df_us.Week.map(str) + \"-\" + df_us.Year.map(str)\n",
    "df_us = df_us[['Week', 'ALL_INF']]\n",
    "df_us = df_us[786+27:1042]\n",
    "df_us = df_us.drop(851)\n",
    "df_us = df_us.reset_index(drop=True)\n",
    "\n",
    "df_aus = pd.read_csv('../data/AUS_flu_virus_counts.csv')\n",
    "df_aus['Week'] = df_aus.Week.map(str) + \"-\" + df_aus.Year.map(str)\n",
    "df_aus = df_aus[['Week', 'ALL_INF']]\n",
    "df_aus = df_aus[912:1168-27]\n",
    "df_aus = df_aus.drop(977)\n",
    "df_aus = df_aus.reset_index(drop=True)\n",
    "\n",
    "df_google = pd.read_csv('../data/google_trends/flu_related_trends.csv')\n",
    "df_google['Week'] = df_google.Week.map(str) + \"-\" + df_google.Year.map(str)\n",
    "df_google = df_google[['Week', 'flu season', 'flu shot', 'flu symptoms', 'flu', 'flu vaccine', 'flu vs cold', 'cold flu', 'flu virus', 'stomach flu']]\n",
    "df_google = df_google[17:246]\n",
    "df_google = df_google.drop(159)\n",
    "df_google = df_google.reset_index(drop=True)"
   ]
  },
  {
   "cell_type": "code",
   "execution_count": 154,
   "metadata": {},
   "outputs": [],
   "source": [
    "list_hospital = list(df_hospital['ILI'])\n",
    "list_tweets = list(df_twitter['Tweets'])\n",
    "list_us = list(df_us['ALL_INF'])\n",
    "list_aus = list(df_aus['ALL_INF'])\n",
    "list_google = df_google[['flu season', 'flu shot', 'flu symptoms', 'flu', 'flu vaccine', 'flu vs cold', 'cold flu', 'flu virus', 'stomach flu']].values.tolist()"
   ]
  },
  {
   "cell_type": "code",
   "execution_count": 155,
   "metadata": {},
   "outputs": [],
   "source": [
    "list_hospital_real = list_hospital[:-52]\n",
    "list_tweets_real = list_tweets[:-52]\n",
    "list_us_real = list_us[:-52]\n",
    "list_aus_real = list_aus[:-52]\n",
    "list_google_real = list_google[:-52]\n",
    "\n",
    "list_hospital_pred = list_hospital[-52:]\n",
    "list_tweets_pred = list_tweets[-52:]\n",
    "list_us_pred = list_us[-52:]\n",
    "list_aus_pred = list_aus[-52:]\n",
    "list_google_pred = list_google[-52:]"
   ]
  },
  {
   "cell_type": "code",
   "execution_count": 110,
   "metadata": {},
   "outputs": [],
   "source": [
    "features_transposed = [list_tweets_real, list_aus_real]\n",
    "pred_transposed = [list_tweets_pred, list_aus_pred]\n",
    "\n",
    "features = list(map(list, zip(*features_transposed)))\n",
    "pred = list(map(list, zip(*pred_transposed)))\n",
    "\n",
    "for feature_index in range(len(features)):\n",
    "    features[feature_index].extend(list_google_real[feature_index])\n",
    "\n",
    "for pred_index in range(len(pred)):\n",
    "    pred[pred_index].extend(list_google_pred[pred_index])\n",
    "\n",
    "google_transposed = list(map(list, zip(*list_google)))\n",
    "to_plot_transposed = [list_tweets, list_aus]\n",
    "to_plot_transposed.extend(google_transposed)"
   ]
  },
  {
   "cell_type": "markdown",
   "metadata": {},
   "source": [
    "#### Defining the SARIMAX model - forecasting the last 52 weeks\n",
    "Optimal order and seasonal_order (found via hyperparameter tuning in sarimax-script.py)"
   ]
  },
  {
   "cell_type": "code",
   "execution_count": 125,
   "metadata": {},
   "outputs": [
    {
     "name": "stderr",
     "output_type": "stream",
     "text": [
      "C:\\Users\\steph\\Anaconda3\\lib\\site-packages\\statsmodels\\base\\model.py:512: ConvergenceWarning: Maximum Likelihood optimization failed to converge. Check mle_retvals\n",
      "  \"Check mle_retvals\", ConvergenceWarning)\n"
     ]
    }
   ],
   "source": [
    "model = SARIMAX(endog=list_hospital_real, exog=features, order=(0, 1, 0), seasonal_order=(2, 1, 0, 52), enforce_stationarity=False, enforce_invertibility=False, trend='c')\n",
    "model_fit = model.fit()"
   ]
  },
  {
   "cell_type": "code",
   "execution_count": 126,
   "metadata": {},
   "outputs": [],
   "source": [
    "future = 52\n",
    "predictions = model_fit.predict(len(list_hospital_real), len(list_hospital_real) + future - 1, exog=pred)\n",
    "future_weeks = list(range(len(list_hospital_real), len(list_hospital_real) + future))"
   ]
  },
  {
   "cell_type": "code",
   "execution_count": 127,
   "metadata": {},
   "outputs": [],
   "source": [
    "predictions_df = pd.DataFrame([future_weeks, predictions]).transpose()\n",
    "predictions_df.columns = ['Week', 'Total ILI']\n",
    "predictions_df = predictions_df.set_index('Week')"
   ]
  },
  {
   "cell_type": "code",
   "execution_count": 128,
   "metadata": {},
   "outputs": [
    {
     "data": {
      "text/plain": [
       "Text(0.5, 1.0, 'Total ILI: 2014 - 2019 + predictions')"
      ]
     },
     "execution_count": 128,
     "metadata": {},
     "output_type": "execute_result"
    },
    {
     "data": {
      "image/png": "[encoded data removed]",
      "text/plain": [
       "<Figure size 432x288 with 1 Axes>"
      ]
     },
     "metadata": {
      "needs_background": "light"
     },
     "output_type": "display_data"
    }
   ],
   "source": [
    "plt.plot(df_hospital['ILI'], label='real')\n",
    "plt.plot(predictions_df, '--', label='prediction')\n",
    "plt.legend()\n",
    "plt.xlabel(\"Week\", labelpad=10)\n",
    "plt.ylabel(\"Total ILI\", labelpad=10)\n",
    "plt.title(\"Total ILI: 2014 - 2019 + predictions\", pad=15)"
   ]
  },
  {
   "cell_type": "code",
   "execution_count": 121,
   "metadata": {},
   "outputs": [
    {
     "data": {
      "text/html": [
       "<table class=\"simpletable\">\n",
       "<caption>Statespace Model Results</caption>\n",
       "<tr>\n",
       "  <th>Dep. Variable:</th>                  <td>y</td>               <th>  No. Observations:  </th>    <td>176</td>  \n",
       "</tr>\n",
       "<tr>\n",
       "  <th>Model:</th>           <td>SARIMAX(1, 1, 0)x(1, 1, 0, 52)</td> <th>  Log Likelihood     </th> <td>-629.925</td>\n",
       "</tr>\n",
       "<tr>\n",
       "  <th>Date:</th>                   <td>Tue, 10 Dec 2019</td>        <th>  AIC                </th> <td>1289.851</td>\n",
       "</tr>\n",
       "<tr>\n",
       "  <th>Time:</th>                       <td>20:21:31</td>            <th>  BIC                </th> <td>1323.578</td>\n",
       "</tr>\n",
       "<tr>\n",
       "  <th>Sample:</th>                         <td>0</td>               <th>  HQIC               </th> <td>1303.248</td>\n",
       "</tr>\n",
       "<tr>\n",
       "  <th></th>                             <td> - 176</td>             <th>                     </th>     <td> </td>   \n",
       "</tr>\n",
       "<tr>\n",
       "  <th>Covariance Type:</th>               <td>opg</td>              <th>                     </th>     <td> </td>   \n",
       "</tr>\n",
       "</table>\n",
       "<table class=\"simpletable\">\n",
       "<tr>\n",
       "      <td></td>         <th>coef</th>     <th>std err</th>      <th>z</th>      <th>P>|z|</th>  <th>[0.025</th>    <th>0.975]</th>  \n",
       "</tr>\n",
       "<tr>\n",
       "  <th>intercept</th> <td>  -21.8110</td> <td>  420.961</td> <td>   -0.052</td> <td> 0.959</td> <td> -846.879</td> <td>  803.257</td>\n",
       "</tr>\n",
       "<tr>\n",
       "  <th>x1</th>        <td>   -9.1339</td> <td>    5.066</td> <td>   -1.803</td> <td> 0.071</td> <td>  -19.062</td> <td>    0.795</td>\n",
       "</tr>\n",
       "<tr>\n",
       "  <th>x2</th>        <td>    9.2090</td> <td>    7.126</td> <td>    1.292</td> <td> 0.196</td> <td>   -4.757</td> <td>   23.175</td>\n",
       "</tr>\n",
       "<tr>\n",
       "  <th>x3</th>        <td>  -94.6458</td> <td>  162.680</td> <td>   -0.582</td> <td> 0.561</td> <td> -413.493</td> <td>  224.201</td>\n",
       "</tr>\n",
       "<tr>\n",
       "  <th>x4</th>        <td> -454.8144</td> <td>  227.180</td> <td>   -2.002</td> <td> 0.045</td> <td> -900.079</td> <td>   -9.549</td>\n",
       "</tr>\n",
       "<tr>\n",
       "  <th>x5</th>        <td>  592.5350</td> <td>  156.113</td> <td>    3.796</td> <td> 0.000</td> <td>  286.560</td> <td>  898.510</td>\n",
       "</tr>\n",
       "<tr>\n",
       "  <th>x6</th>        <td>  120.6022</td> <td>  106.636</td> <td>    1.131</td> <td> 0.258</td> <td>  -88.401</td> <td>  329.606</td>\n",
       "</tr>\n",
       "<tr>\n",
       "  <th>x7</th>        <td> -166.1451</td> <td>  100.558</td> <td>   -1.652</td> <td> 0.098</td> <td> -363.236</td> <td>   30.945</td>\n",
       "</tr>\n",
       "<tr>\n",
       "  <th>x8</th>        <td>   -7.7099</td> <td>  120.970</td> <td>   -0.064</td> <td> 0.949</td> <td> -244.807</td> <td>  229.388</td>\n",
       "</tr>\n",
       "<tr>\n",
       "  <th>x9</th>        <td>  157.4951</td> <td>  190.005</td> <td>    0.829</td> <td> 0.407</td> <td> -214.908</td> <td>  529.898</td>\n",
       "</tr>\n",
       "<tr>\n",
       "  <th>x10</th>       <td>  244.2871</td> <td>  120.820</td> <td>    2.022</td> <td> 0.043</td> <td>    7.484</td> <td>  481.090</td>\n",
       "</tr>\n",
       "<tr>\n",
       "  <th>x11</th>       <td>  -90.9204</td> <td>   90.275</td> <td>   -1.007</td> <td> 0.314</td> <td> -267.855</td> <td>   86.015</td>\n",
       "</tr>\n",
       "<tr>\n",
       "  <th>ar.L1</th>     <td>    0.1736</td> <td>    0.248</td> <td>    0.699</td> <td> 0.484</td> <td>   -0.313</td> <td>    0.660</td>\n",
       "</tr>\n",
       "<tr>\n",
       "  <th>ar.S.L52</th>  <td>    0.2601</td> <td>    0.199</td> <td>    1.309</td> <td> 0.191</td> <td>   -0.129</td> <td>    0.650</td>\n",
       "</tr>\n",
       "<tr>\n",
       "  <th>sigma2</th>    <td> 4.067e+06</td> <td> 1.04e+06</td> <td>    3.911</td> <td> 0.000</td> <td> 2.03e+06</td> <td>  6.1e+06</td>\n",
       "</tr>\n",
       "</table>\n",
       "<table class=\"simpletable\">\n",
       "<tr>\n",
       "  <th>Ljung-Box (Q):</th>          <td>33.50</td> <th>  Jarque-Bera (JB):  </th> <td>309.51</td>\n",
       "</tr>\n",
       "<tr>\n",
       "  <th>Prob(Q):</th>                <td>0.76</td>  <th>  Prob(JB):          </th>  <td>0.00</td> \n",
       "</tr>\n",
       "<tr>\n",
       "  <th>Heteroskedasticity (H):</th> <td>2.87</td>  <th>  Skew:              </th>  <td>-2.31</td>\n",
       "</tr>\n",
       "<tr>\n",
       "  <th>Prob(H) (two-sided):</th>    <td>0.01</td>  <th>  Kurtosis:          </th>  <td>12.21</td>\n",
       "</tr>\n",
       "</table><br/><br/>Warnings:<br/>[1] Covariance matrix calculated using the outer product of gradients (complex-step)."
      ],
      "text/plain": [
       "<class 'statsmodels.iolib.summary.Summary'>\n",
       "\"\"\"\n",
       "                                 Statespace Model Results                                 \n",
       "==========================================================================================\n",
       "Dep. Variable:                                  y   No. Observations:                  176\n",
       "Model:             SARIMAX(1, 1, 0)x(1, 1, 0, 52)   Log Likelihood                -629.925\n",
       "Date:                            Tue, 10 Dec 2019   AIC                           1289.851\n",
       "Time:                                    20:21:31   BIC                           1323.578\n",
       "Sample:                                         0   HQIC                          1303.248\n",
       "                                            - 176                                         \n",
       "Covariance Type:                              opg                                         \n",
       "==============================================================================\n",
       "                 coef    std err          z      P>|z|      [0.025      0.975]\n",
       "------------------------------------------------------------------------------\n",
       "intercept    -21.8110    420.961     -0.052      0.959    -846.879     803.257\n",
       "x1            -9.1339      5.066     -1.803      0.071     -19.062       0.795\n",
       "x2             9.2090      7.126      1.292      0.196      -4.757      23.175\n",
       "x3           -94.6458    162.680     -0.582      0.561    -413.493     224.201\n",
       "x4          -454.8144    227.180     -2.002      0.045    -900.079      -9.549\n",
       "x5           592.5350    156.113      3.796      0.000     286.560     898.510\n",
       "x6           120.6022    106.636      1.131      0.258     -88.401     329.606\n",
       "x7          -166.1451    100.558     -1.652      0.098    -363.236      30.945\n",
       "x8            -7.7099    120.970     -0.064      0.949    -244.807     229.388\n",
       "x9           157.4951    190.005      0.829      0.407    -214.908     529.898\n",
       "x10          244.2871    120.820      2.022      0.043       7.484     481.090\n",
       "x11          -90.9204     90.275     -1.007      0.314    -267.855      86.015\n",
       "ar.L1          0.1736      0.248      0.699      0.484      -0.313       0.660\n",
       "ar.S.L52       0.2601      0.199      1.309      0.191      -0.129       0.650\n",
       "sigma2      4.067e+06   1.04e+06      3.911      0.000    2.03e+06     6.1e+06\n",
       "===================================================================================\n",
       "Ljung-Box (Q):                       33.50   Jarque-Bera (JB):               309.51\n",
       "Prob(Q):                              0.76   Prob(JB):                         0.00\n",
       "Heteroskedasticity (H):               2.87   Skew:                            -2.31\n",
       "Prob(H) (two-sided):                  0.01   Kurtosis:                        12.21\n",
       "===================================================================================\n",
       "\n",
       "Warnings:\n",
       "[1] Covariance matrix calculated using the outer product of gradients (complex-step).\n",
       "\"\"\""
      ]
     },
     "execution_count": 121,
     "metadata": {},
     "output_type": "execute_result"
    }
   ],
   "source": [
    "model_fit.summary()"
   ]
  },
  {
   "cell_type": "code",
   "execution_count": 116,
   "metadata": {},
   "outputs": [
    {
     "data": {
      "text/plain": [
       "Text(0.5, 1.0, 'Total ILI + Features: 2014 - 2019')"
      ]
     },
     "execution_count": 116,
     "metadata": {},
     "output_type": "execute_result"
    },
    {
     "data": {
      "image/png": "[encoded data removed]",
      "text/plain": [
       "<Figure size 432x288 with 1 Axes>"
      ]
     },
     "metadata": {
      "needs_background": "light"
     },
     "output_type": "display_data"
    }
   ],
   "source": [
    "plt.plot(list_hospital, c='blue')\n",
    "plt.plot(list_tweets, c='green')\n",
    "plt.plot(list_aus, c='gray')\n",
    "plt.xlabel(\"Week\", labelpad=10)\n",
    "plt.ylabel(\"Total ILI\", labelpad=10)\n",
    "plt.title(\"Total ILI + Features: 2014 - 2019\", pad=15)"
   ]
  },
  {
   "cell_type": "markdown",
   "metadata": {},
   "source": [
    "### Predicting a previous year"
   ]
  },
  {
   "cell_type": "code",
   "execution_count": 137,
   "metadata": {},
   "outputs": [],
   "source": [
    "list_hospital_real = list_hospital[:-104]\n",
    "list_tweets_real = list_tweets[:-104]\n",
    "list_aus_real = list_aus[:-104]\n",
    "list_google_real = list_google[:-104]\n",
    "\n",
    "list_hospital_pred = list_hospital[-104:-52]\n",
    "list_tweets_pred = list_tweets[-104:-52]\n",
    "list_aus_pred = list_aus[-104:-52]\n",
    "list_google_pred = list_google[-104:-52]\n",
    "\n",
    "# Comment out these lines to only train on the data before where predictions will take place\n",
    "list_hospital_real.extend(list_hospital[-52:])\n",
    "list_tweets_real.extend(list_tweets[-52:])\n",
    "list_aus_real.extend(list_aus[-52:])\n",
    "list_google_real.extend(list_google[-52:])"
   ]
  },
  {
   "cell_type": "code",
   "execution_count": 138,
   "metadata": {},
   "outputs": [],
   "source": [
    "features_transposed = [list_tweets_real, list_aus_real]\n",
    "pred_transposed = [list_tweets_pred, list_aus_pred]\n",
    "\n",
    "features = list(map(list, zip(*features_transposed)))\n",
    "pred = list(map(list, zip(*pred_transposed)))\n",
    "\n",
    "for feature_index in range(len(features)):\n",
    "    features[feature_index].extend(list_google_real[feature_index])\n",
    "\n",
    "for pred_index in range(len(pred)):\n",
    "    pred[pred_index].extend(list_google_pred[pred_index])"
   ]
  },
  {
   "cell_type": "code",
   "execution_count": 139,
   "metadata": {},
   "outputs": [
    {
     "name": "stderr",
     "output_type": "stream",
     "text": [
      "C:\\Users\\steph\\Anaconda3\\lib\\site-packages\\statsmodels\\base\\model.py:512: ConvergenceWarning: Maximum Likelihood optimization failed to converge. Check mle_retvals\n",
      "  \"Check mle_retvals\", ConvergenceWarning)\n"
     ]
    }
   ],
   "source": [
    "model = SARIMAX(endog=list_hospital_real, exog=features, order=(1, 1, 0), seasonal_order=(1, 1, 0, 52), enforce_stationarity=False, enforce_invertibility=False, trend='c')\n",
    "model_fit = model.fit()"
   ]
  },
  {
   "cell_type": "code",
   "execution_count": 144,
   "metadata": {},
   "outputs": [],
   "source": [
    "future = 52\n",
    "predictions = model_fit.predict(len(list_hospital_real), len(list_hospital_real) + future - 1, exog=pred)\n",
    "future_weeks = list(range(len(list_hospital_real) - future, len(list_hospital_real)))"
   ]
  },
  {
   "cell_type": "code",
   "execution_count": 145,
   "metadata": {},
   "outputs": [],
   "source": [
    "predictions_df = pd.DataFrame([future_weeks, predictions]).transpose()\n",
    "predictions_df.columns = ['Week', 'Total ILI']\n",
    "predictions_df = predictions_df.set_index('Week')"
   ]
  },
  {
   "cell_type": "code",
   "execution_count": 148,
   "metadata": {},
   "outputs": [
    {
     "data": {
      "text/plain": [
       "Text(0.5, 1.0, 'Total ILI: 2014 - 2019 + predictions (+ trained on future data)')"
      ]
     },
     "execution_count": 148,
     "metadata": {},
     "output_type": "execute_result"
    },
    {
     "data": {
      "image/png": "[encoded data removed]",
      "text/plain": [
       "<Figure size 432x288 with 1 Axes>"
      ]
     },
     "metadata": {
      "needs_background": "light"
     },
     "output_type": "display_data"
    }
   ],
   "source": [
    "plt.plot(df_hospital['ILI'], label='real')\n",
    "plt.plot(predictions_df, '--', label='prediction')\n",
    "plt.legend()\n",
    "plt.xlabel(\"Week\", labelpad=10)\n",
    "plt.ylabel(\"Total ILI\", labelpad=10)\n",
    "plt.title(\"Total ILI: 2014 - 2019 + predictions (+ trained on future data)\", pad=15)"
   ]
  },
  {
   "cell_type": "code",
   "execution_count": 147,
   "metadata": {},
   "outputs": [
    {
     "data": {
      "text/html": [
       "<table class=\"simpletable\">\n",
       "<caption>Statespace Model Results</caption>\n",
       "<tr>\n",
       "  <th>Dep. Variable:</th>                  <td>y</td>               <th>  No. Observations:  </th>    <td>176</td>  \n",
       "</tr>\n",
       "<tr>\n",
       "  <th>Model:</th>           <td>SARIMAX(1, 1, 0)x(1, 1, 0, 52)</td> <th>  Log Likelihood     </th> <td>-623.348</td>\n",
       "</tr>\n",
       "<tr>\n",
       "  <th>Date:</th>                   <td>Tue, 10 Dec 2019</td>        <th>  AIC                </th> <td>1276.695</td>\n",
       "</tr>\n",
       "<tr>\n",
       "  <th>Time:</th>                       <td>21:45:15</td>            <th>  BIC                </th> <td>1310.423</td>\n",
       "</tr>\n",
       "<tr>\n",
       "  <th>Sample:</th>                         <td>0</td>               <th>  HQIC               </th> <td>1290.092</td>\n",
       "</tr>\n",
       "<tr>\n",
       "  <th></th>                             <td> - 176</td>             <th>                     </th>     <td> </td>   \n",
       "</tr>\n",
       "<tr>\n",
       "  <th>Covariance Type:</th>               <td>opg</td>              <th>                     </th>     <td> </td>   \n",
       "</tr>\n",
       "</table>\n",
       "<table class=\"simpletable\">\n",
       "<tr>\n",
       "      <td></td>         <th>coef</th>     <th>std err</th>      <th>z</th>      <th>P>|z|</th>  <th>[0.025</th>    <th>0.975]</th>  \n",
       "</tr>\n",
       "<tr>\n",
       "  <th>intercept</th> <td>  -15.0095</td> <td>  360.279</td> <td>   -0.042</td> <td> 0.967</td> <td> -721.143</td> <td>  691.124</td>\n",
       "</tr>\n",
       "<tr>\n",
       "  <th>x1</th>        <td>   -2.1877</td> <td>    1.994</td> <td>   -1.097</td> <td> 0.273</td> <td>   -6.096</td> <td>    1.721</td>\n",
       "</tr>\n",
       "<tr>\n",
       "  <th>x2</th>        <td>  -21.0313</td> <td>    4.999</td> <td>   -4.207</td> <td> 0.000</td> <td>  -30.830</td> <td>  -11.233</td>\n",
       "</tr>\n",
       "<tr>\n",
       "  <th>x3</th>        <td>  117.2795</td> <td>  181.024</td> <td>    0.648</td> <td> 0.517</td> <td> -237.522</td> <td>  472.081</td>\n",
       "</tr>\n",
       "<tr>\n",
       "  <th>x4</th>        <td>  -53.3685</td> <td>  151.447</td> <td>   -0.352</td> <td> 0.725</td> <td> -350.200</td> <td>  243.463</td>\n",
       "</tr>\n",
       "<tr>\n",
       "  <th>x5</th>        <td>  425.6752</td> <td>  222.021</td> <td>    1.917</td> <td> 0.055</td> <td>   -9.477</td> <td>  860.827</td>\n",
       "</tr>\n",
       "<tr>\n",
       "  <th>x6</th>        <td> -242.5518</td> <td>  188.450</td> <td>   -1.287</td> <td> 0.198</td> <td> -611.908</td> <td>  126.804</td>\n",
       "</tr>\n",
       "<tr>\n",
       "  <th>x7</th>        <td>   11.0231</td> <td>  129.581</td> <td>    0.085</td> <td> 0.932</td> <td> -242.951</td> <td>  264.997</td>\n",
       "</tr>\n",
       "<tr>\n",
       "  <th>x8</th>        <td>  -90.6069</td> <td>  188.315</td> <td>   -0.481</td> <td> 0.630</td> <td> -459.697</td> <td>  278.483</td>\n",
       "</tr>\n",
       "<tr>\n",
       "  <th>x9</th>        <td>  -16.7447</td> <td>  147.919</td> <td>   -0.113</td> <td> 0.910</td> <td> -306.660</td> <td>  273.171</td>\n",
       "</tr>\n",
       "<tr>\n",
       "  <th>x10</th>       <td>   65.2276</td> <td>  180.849</td> <td>    0.361</td> <td> 0.718</td> <td> -289.230</td> <td>  419.685</td>\n",
       "</tr>\n",
       "<tr>\n",
       "  <th>x11</th>       <td>  -26.2390</td> <td>   86.006</td> <td>   -0.305</td> <td> 0.760</td> <td> -194.808</td> <td>  142.330</td>\n",
       "</tr>\n",
       "<tr>\n",
       "  <th>ar.L1</th>     <td>    0.1107</td> <td>    0.252</td> <td>    0.440</td> <td> 0.660</td> <td>   -0.383</td> <td>    0.604</td>\n",
       "</tr>\n",
       "<tr>\n",
       "  <th>ar.S.L52</th>  <td>   -0.0063</td> <td>    0.149</td> <td>   -0.042</td> <td> 0.966</td> <td>   -0.299</td> <td>    0.286</td>\n",
       "</tr>\n",
       "<tr>\n",
       "  <th>sigma2</th>    <td> 3.229e+06</td> <td> 7.01e+05</td> <td>    4.605</td> <td> 0.000</td> <td> 1.85e+06</td> <td>  4.6e+06</td>\n",
       "</tr>\n",
       "</table>\n",
       "<table class=\"simpletable\">\n",
       "<tr>\n",
       "  <th>Ljung-Box (Q):</th>          <td>22.95</td> <th>  Jarque-Bera (JB):  </th> <td>197.47</td>\n",
       "</tr>\n",
       "<tr>\n",
       "  <th>Prob(Q):</th>                <td>0.99</td>  <th>  Prob(JB):          </th>  <td>0.00</td> \n",
       "</tr>\n",
       "<tr>\n",
       "  <th>Heteroskedasticity (H):</th> <td>1.86</td>  <th>  Skew:              </th>  <td>1.43</td> \n",
       "</tr>\n",
       "<tr>\n",
       "  <th>Prob(H) (two-sided):</th>    <td>0.14</td>  <th>  Kurtosis:          </th>  <td>10.71</td>\n",
       "</tr>\n",
       "</table><br/><br/>Warnings:<br/>[1] Covariance matrix calculated using the outer product of gradients (complex-step)."
      ],
      "text/plain": [
       "<class 'statsmodels.iolib.summary.Summary'>\n",
       "\"\"\"\n",
       "                                 Statespace Model Results                                 \n",
       "==========================================================================================\n",
       "Dep. Variable:                                  y   No. Observations:                  176\n",
       "Model:             SARIMAX(1, 1, 0)x(1, 1, 0, 52)   Log Likelihood                -623.348\n",
       "Date:                            Tue, 10 Dec 2019   AIC                           1276.695\n",
       "Time:                                    21:45:15   BIC                           1310.423\n",
       "Sample:                                         0   HQIC                          1290.092\n",
       "                                            - 176                                         \n",
       "Covariance Type:                              opg                                         \n",
       "==============================================================================\n",
       "                 coef    std err          z      P>|z|      [0.025      0.975]\n",
       "------------------------------------------------------------------------------\n",
       "intercept    -15.0095    360.279     -0.042      0.967    -721.143     691.124\n",
       "x1            -2.1877      1.994     -1.097      0.273      -6.096       1.721\n",
       "x2           -21.0313      4.999     -4.207      0.000     -30.830     -11.233\n",
       "x3           117.2795    181.024      0.648      0.517    -237.522     472.081\n",
       "x4           -53.3685    151.447     -0.352      0.725    -350.200     243.463\n",
       "x5           425.6752    222.021      1.917      0.055      -9.477     860.827\n",
       "x6          -242.5518    188.450     -1.287      0.198    -611.908     126.804\n",
       "x7            11.0231    129.581      0.085      0.932    -242.951     264.997\n",
       "x8           -90.6069    188.315     -0.481      0.630    -459.697     278.483\n",
       "x9           -16.7447    147.919     -0.113      0.910    -306.660     273.171\n",
       "x10           65.2276    180.849      0.361      0.718    -289.230     419.685\n",
       "x11          -26.2390     86.006     -0.305      0.760    -194.808     142.330\n",
       "ar.L1          0.1107      0.252      0.440      0.660      -0.383       0.604\n",
       "ar.S.L52      -0.0063      0.149     -0.042      0.966      -0.299       0.286\n",
       "sigma2      3.229e+06   7.01e+05      4.605      0.000    1.85e+06     4.6e+06\n",
       "===================================================================================\n",
       "Ljung-Box (Q):                       22.95   Jarque-Bera (JB):               197.47\n",
       "Prob(Q):                              0.99   Prob(JB):                         0.00\n",
       "Heteroskedasticity (H):               1.86   Skew:                             1.43\n",
       "Prob(H) (two-sided):                  0.14   Kurtosis:                        10.71\n",
       "===================================================================================\n",
       "\n",
       "Warnings:\n",
       "[1] Covariance matrix calculated using the outer product of gradients (complex-step).\n",
       "\"\"\""
      ]
     },
     "execution_count": 147,
     "metadata": {},
     "output_type": "execute_result"
    }
   ],
   "source": [
    "model_fit.summary()"
   ]
  },
  {
   "cell_type": "code",
   "execution_count": 170,
   "metadata": {},
   "outputs": [
    {
     "name": "stderr",
     "output_type": "stream",
     "text": [
      "C:\\Users\\steph\\Anaconda3\\lib\\site-packages\\statsmodels\\base\\model.py:512: ConvergenceWarning: Maximum Likelihood optimization failed to converge. Check mle_retvals\n",
      "  \"Check mle_retvals\", ConvergenceWarning)\n"
     ]
    }
   ],
   "source": [
    "model = SARIMAX(endog=list_hospital_real, exog=features, order=(1, 1, 0), seasonal_order=(1, 1, 0, 52), enforce_stationarity=False, enforce_invertibility=False, trend='c')\n",
    "model_fit = model.fit()"
   ]
  },
  {
   "cell_type": "code",
   "execution_count": 172,
   "metadata": {},
   "outputs": [],
   "source": [
    "future = 52\n",
    "predictions = model_fit.predict(len(list_hospital_real), len(list_hospital_real) + future - 1, exog=pred)\n",
    "future_weeks = list(range(len(list_hospital_real) - (2 * future), len(list_hospital_real) - future))"
   ]
  },
  {
   "cell_type": "code",
   "execution_count": 173,
   "metadata": {},
   "outputs": [],
   "source": [
    "predictions_df = pd.DataFrame([future_weeks, predictions]).transpose()\n",
    "predictions_df.columns = ['Week', 'Total ILI']\n",
    "predictions_df = predictions_df.set_index('Week')"
   ]
  },
  {
   "cell_type": "code",
   "execution_count": 174,
   "metadata": {},
   "outputs": [
    {
     "data": {
      "text/plain": [
       "Text(0.5, 1.0, 'Total ILI: 2014 - 2019 + predictions (+trained on future data)')"
      ]
     },
     "execution_count": 174,
     "metadata": {},
     "output_type": "execute_result"
    },
    {
     "data": {
      "image/png": "[encoded data removed]",
      "text/plain": [
       "<Figure size 432x288 with 1 Axes>"
      ]
     },
     "metadata": {
      "needs_background": "light"
     },
     "output_type": "display_data"
    }
   ],
   "source": [
    "plt.plot(df_hospital['ILI'], label='real')\n",
    "plt.plot(predictions_df, '--', label='prediction')\n",
    "plt.legend()\n",
    "plt.xlabel(\"Week\", labelpad=10)\n",
    "plt.ylabel(\"Total ILI\", labelpad=10)\n",
    "plt.title(\"Total ILI: 2014 - 2019 + predictions (+trained on future data)\", pad=15)"
   ]
  },
  {
   "cell_type": "code",
   "execution_count": 171,
   "metadata": {},
   "outputs": [
    {
     "data": {
      "text/html": [
       "<table class=\"simpletable\">\n",
       "<caption>Statespace Model Results</caption>\n",
       "<tr>\n",
       "  <th>Dep. Variable:</th>                  <td>y</td>               <th>  No. Observations:  </th>    <td>176</td>  \n",
       "</tr>\n",
       "<tr>\n",
       "  <th>Model:</th>           <td>SARIMAX(1, 1, 0)x(1, 1, 0, 52)</td> <th>  Log Likelihood     </th> <td>-639.347</td>\n",
       "</tr>\n",
       "<tr>\n",
       "  <th>Date:</th>                   <td>Tue, 10 Dec 2019</td>        <th>  AIC                </th> <td>1308.694</td>\n",
       "</tr>\n",
       "<tr>\n",
       "  <th>Time:</th>                       <td>22:08:59</td>            <th>  BIC                </th> <td>1342.422</td>\n",
       "</tr>\n",
       "<tr>\n",
       "  <th>Sample:</th>                         <td>0</td>               <th>  HQIC               </th> <td>1322.091</td>\n",
       "</tr>\n",
       "<tr>\n",
       "  <th></th>                             <td> - 176</td>             <th>                     </th>     <td> </td>   \n",
       "</tr>\n",
       "<tr>\n",
       "  <th>Covariance Type:</th>               <td>opg</td>              <th>                     </th>     <td> </td>   \n",
       "</tr>\n",
       "</table>\n",
       "<table class=\"simpletable\">\n",
       "<tr>\n",
       "      <td></td>         <th>coef</th>     <th>std err</th>      <th>z</th>      <th>P>|z|</th>  <th>[0.025</th>    <th>0.975]</th>  \n",
       "</tr>\n",
       "<tr>\n",
       "  <th>intercept</th> <td>  -16.8106</td> <td>  781.493</td> <td>   -0.022</td> <td> 0.983</td> <td>-1548.509</td> <td> 1514.888</td>\n",
       "</tr>\n",
       "<tr>\n",
       "  <th>x1</th>        <td>   -0.1650</td> <td>    8.565</td> <td>   -0.019</td> <td> 0.985</td> <td>  -16.952</td> <td>   16.621</td>\n",
       "</tr>\n",
       "<tr>\n",
       "  <th>x2</th>        <td>  -23.0422</td> <td>   21.776</td> <td>   -1.058</td> <td> 0.290</td> <td>  -65.722</td> <td>   19.637</td>\n",
       "</tr>\n",
       "<tr>\n",
       "  <th>x3</th>        <td> -423.4373</td> <td>  482.540</td> <td>   -0.878</td> <td> 0.380</td> <td>-1369.198</td> <td>  522.323</td>\n",
       "</tr>\n",
       "<tr>\n",
       "  <th>x4</th>        <td>  -55.8182</td> <td>  304.220</td> <td>   -0.183</td> <td> 0.854</td> <td> -652.078</td> <td>  540.441</td>\n",
       "</tr>\n",
       "<tr>\n",
       "  <th>x5</th>        <td>  820.2568</td> <td>  453.141</td> <td>    1.810</td> <td> 0.070</td> <td>  -67.882</td> <td> 1708.396</td>\n",
       "</tr>\n",
       "<tr>\n",
       "  <th>x6</th>        <td>   34.1242</td> <td>  215.392</td> <td>    0.158</td> <td> 0.874</td> <td> -388.037</td> <td>  456.286</td>\n",
       "</tr>\n",
       "<tr>\n",
       "  <th>x7</th>        <td>   51.8732</td> <td>  172.818</td> <td>    0.300</td> <td> 0.764</td> <td> -286.844</td> <td>  390.590</td>\n",
       "</tr>\n",
       "<tr>\n",
       "  <th>x8</th>        <td>  509.7538</td> <td>  453.903</td> <td>    1.123</td> <td> 0.261</td> <td> -379.879</td> <td> 1399.387</td>\n",
       "</tr>\n",
       "<tr>\n",
       "  <th>x9</th>        <td>   43.3421</td> <td>  549.787</td> <td>    0.079</td> <td> 0.937</td> <td>-1034.221</td> <td> 1120.905</td>\n",
       "</tr>\n",
       "<tr>\n",
       "  <th>x10</th>       <td> -144.3755</td> <td>  520.044</td> <td>   -0.278</td> <td> 0.781</td> <td>-1163.642</td> <td>  874.891</td>\n",
       "</tr>\n",
       "<tr>\n",
       "  <th>x11</th>       <td> -250.5026</td> <td>  226.436</td> <td>   -1.106</td> <td> 0.269</td> <td> -694.309</td> <td>  193.304</td>\n",
       "</tr>\n",
       "<tr>\n",
       "  <th>ar.L1</th>     <td>   -0.2488</td> <td>    0.333</td> <td>   -0.747</td> <td> 0.455</td> <td>   -0.902</td> <td>    0.404</td>\n",
       "</tr>\n",
       "<tr>\n",
       "  <th>ar.S.L52</th>  <td>   -0.4632</td> <td>    0.354</td> <td>   -1.307</td> <td> 0.191</td> <td>   -1.158</td> <td>    0.232</td>\n",
       "</tr>\n",
       "<tr>\n",
       "  <th>sigma2</th>    <td> 8.609e+06</td> <td>    0.062</td> <td> 1.38e+08</td> <td> 0.000</td> <td> 8.61e+06</td> <td> 8.61e+06</td>\n",
       "</tr>\n",
       "</table>\n",
       "<table class=\"simpletable\">\n",
       "<tr>\n",
       "  <th>Ljung-Box (Q):</th>          <td>24.34</td> <th>  Jarque-Bera (JB):  </th> <td>22.55</td>\n",
       "</tr>\n",
       "<tr>\n",
       "  <th>Prob(Q):</th>                <td>0.98</td>  <th>  Prob(JB):          </th> <td>0.00</td> \n",
       "</tr>\n",
       "<tr>\n",
       "  <th>Heteroskedasticity (H):</th> <td>2.61</td>  <th>  Skew:              </th> <td>0.92</td> \n",
       "</tr>\n",
       "<tr>\n",
       "  <th>Prob(H) (two-sided):</th>    <td>0.03</td>  <th>  Kurtosis:          </th> <td>5.09</td> \n",
       "</tr>\n",
       "</table><br/><br/>Warnings:<br/>[1] Covariance matrix calculated using the outer product of gradients (complex-step).<br/>[2] Covariance matrix is singular or near-singular, with condition number 1.74e+24. Standard errors may be unstable."
      ],
      "text/plain": [
       "<class 'statsmodels.iolib.summary.Summary'>\n",
       "\"\"\"\n",
       "                                 Statespace Model Results                                 \n",
       "==========================================================================================\n",
       "Dep. Variable:                                  y   No. Observations:                  176\n",
       "Model:             SARIMAX(1, 1, 0)x(1, 1, 0, 52)   Log Likelihood                -639.347\n",
       "Date:                            Tue, 10 Dec 2019   AIC                           1308.694\n",
       "Time:                                    22:08:59   BIC                           1342.422\n",
       "Sample:                                         0   HQIC                          1322.091\n",
       "                                            - 176                                         \n",
       "Covariance Type:                              opg                                         \n",
       "==============================================================================\n",
       "                 coef    std err          z      P>|z|      [0.025      0.975]\n",
       "------------------------------------------------------------------------------\n",
       "intercept    -16.8106    781.493     -0.022      0.983   -1548.509    1514.888\n",
       "x1            -0.1650      8.565     -0.019      0.985     -16.952      16.621\n",
       "x2           -23.0422     21.776     -1.058      0.290     -65.722      19.637\n",
       "x3          -423.4373    482.540     -0.878      0.380   -1369.198     522.323\n",
       "x4           -55.8182    304.220     -0.183      0.854    -652.078     540.441\n",
       "x5           820.2568    453.141      1.810      0.070     -67.882    1708.396\n",
       "x6            34.1242    215.392      0.158      0.874    -388.037     456.286\n",
       "x7            51.8732    172.818      0.300      0.764    -286.844     390.590\n",
       "x8           509.7538    453.903      1.123      0.261    -379.879    1399.387\n",
       "x9            43.3421    549.787      0.079      0.937   -1034.221    1120.905\n",
       "x10         -144.3755    520.044     -0.278      0.781   -1163.642     874.891\n",
       "x11         -250.5026    226.436     -1.106      0.269    -694.309     193.304\n",
       "ar.L1         -0.2488      0.333     -0.747      0.455      -0.902       0.404\n",
       "ar.S.L52      -0.4632      0.354     -1.307      0.191      -1.158       0.232\n",
       "sigma2      8.609e+06      0.062   1.38e+08      0.000    8.61e+06    8.61e+06\n",
       "===================================================================================\n",
       "Ljung-Box (Q):                       24.34   Jarque-Bera (JB):                22.55\n",
       "Prob(Q):                              0.98   Prob(JB):                         0.00\n",
       "Heteroskedasticity (H):               2.61   Skew:                             0.92\n",
       "Prob(H) (two-sided):                  0.03   Kurtosis:                         5.09\n",
       "===================================================================================\n",
       "\n",
       "Warnings:\n",
       "[1] Covariance matrix calculated using the outer product of gradients (complex-step).\n",
       "[2] Covariance matrix is singular or near-singular, with condition number 1.74e+24. Standard errors may be unstable.\n",
       "\"\"\""
      ]
     },
     "execution_count": 171,
     "metadata": {},
     "output_type": "execute_result"
    }
   ],
   "source": [
    "model_fit.summary()"
   ]
  },
  {
   "cell_type": "code",
   "execution_count": null,
   "metadata": {},
   "outputs": [],
   "source": []
  }
 ],
 "metadata": {
  "kernelspec": {
   "display_name": "Python 3",
   "language": "python",
   "name": "python3"
  },
  "language_info": {
   "codemirror_mode": {
    "name": "ipython",
    "version": 3
   },
   "file_extension": ".py",
   "mimetype": "text/x-python",
   "name": "python",
   "nbconvert_exporter": "python",
   "pygments_lexer": "ipython3",
   "version": "3.7.4"
  }
 },
 "nbformat": 4,
 "nbformat_minor": 2
}
