{
 "cells": [
  {
   "cell_type": "markdown",
   "metadata": {},
   "source": [
    "# Seasonal Autoregressive Integrated Moving Average with Exogenous Regressors\n",
    "### Model for time series forecasting with data containing trends and/or seasonality _and_ exogenous variables"
   ]
  },
  {
   "cell_type": "code",
   "execution_count": 175,
   "metadata": {},
   "outputs": [],
   "source": [
    "import matplotlib as mpl\n",
    "import matplotlib.pyplot as plt\n",
    "import seaborn as sns\n",
    "import pandas as pd\n",
    "\n",
    "from statsmodels.tsa.statespace.sarimax import SARIMAX"
   ]
  },
  {
   "cell_type": "markdown",
   "metadata": {},
   "source": [
    "Reading in CDC data and exogenous variables"
   ]
  },
  {
   "cell_type": "code",
   "execution_count": 176,
   "metadata": {},
   "outputs": [],
   "source": [
    "df_hospital = pd.read_csv('../data/hospital_visits.csv')\n",
    "df_hospital['Week'] = df_hospital.Week.map(str) + \"-\" + df_hospital.Year.map(str)\n",
    "df_hospital = df_hospital[['Week', 'Total ILI']]\n",
    "df_hospital.columns = ['Week', 'ILI']\n",
    "df_hospital = df_hospital[28:256]\n",
    "df_hospital = df_hospital.reset_index(drop=True)\n",
    "\n",
    "df_twitter = pd.read_csv('../data/twitter-flu-data.csv', header=None)\n",
    "df_twitter.columns = ['Year', 'Week', '1', '2', '3', '4', '5', '6', '7']\n",
    "df_twitter['Week'] = df_twitter.Week.map(str) + \"-\" + df_twitter.Year.map(str)\n",
    "df_twitter['Tweets'] = df_twitter[['1', '2', '3', '4', '5', '6', '7']].sum(axis=1)\n",
    "df_twitter = df_twitter[['Week', 'Tweets']][27:-1]\n",
    "df_twitter = df_twitter.reset_index(drop=True)\n",
    "\n",
    "df_us = pd.read_csv('../data/USA_flu_virus_counts.csv')\n",
    "df_us['Week'] = df_us.Week.map(str) + \"-\" + df_us.Year.map(str)\n",
    "df_us = df_us[['Week', 'ALL_INF']]\n",
    "df_us = df_us[786+27:1042]\n",
    "df_us = df_us.drop(851)\n",
    "df_us = df_us.reset_index(drop=True)\n",
    "\n",
    "df_aus = pd.read_csv('../data/AUS_flu_virus_counts.csv')\n",
    "df_aus['Week'] = df_aus.Week.map(str) + \"-\" + df_aus.Year.map(str)\n",
    "df_aus = df_aus[['Week', 'ALL_INF']]\n",
    "df_aus = df_aus[912:1168-27]\n",
    "df_aus = df_aus.drop(977)\n",
    "df_aus = df_aus.reset_index(drop=True)\n",
    "\n",
    "df_google = pd.read_csv('../data/google_trends/flu_related_trends.csv')\n",
    "df_google['Week'] = df_google.Week.map(str) + \"-\" + df_google.Year.map(str)\n",
    "df_google = df_google[['Week', 'flu season', 'flu shot', 'flu symptoms', 'flu', 'flu vaccine', 'flu vs cold', 'cold flu', 'flu virus', 'stomach flu']]\n",
    "df_google = df_google[17:246]\n",
    "df_google = df_google.drop(159)\n",
    "df_google = df_google.reset_index(drop=True)"
   ]
  },
  {
   "cell_type": "code",
   "execution_count": 177,
   "metadata": {},
   "outputs": [],
   "source": [
    "list_hospital = list(df_hospital['ILI'])\n",
    "list_tweets = list(df_twitter['Tweets'])\n",
    "list_us = list(df_us['ALL_INF'])\n",
    "list_aus = list(df_aus['ALL_INF'])\n",
    "list_google = df_google[['flu season', 'flu shot', 'flu symptoms', 'flu', 'flu vaccine', 'flu vs cold', 'cold flu', 'flu virus', 'stomach flu']].values.tolist()"
   ]
  },
  {
   "cell_type": "code",
   "execution_count": 178,
   "metadata": {},
   "outputs": [],
   "source": [
    "list_hospital_real = list_hospital[:-52]\n",
    "list_tweets_real = list_tweets[:-52]\n",
    "list_us_real = list_us[:-52]\n",
    "list_aus_real = list_aus[:-52]\n",
    "list_google_real = list_google[:-52]\n",
    "\n",
    "list_hospital_pred = list_hospital[-52:]\n",
    "list_tweets_pred = list_tweets[-52:]\n",
    "list_us_pred = list_us[-52:]\n",
    "list_aus_pred = list_aus[-52:]\n",
    "list_google_pred = list_google[-52:]"
   ]
  },
  {
   "cell_type": "code",
   "execution_count": 179,
   "metadata": {},
   "outputs": [],
   "source": [
    "features_transposed = [list_tweets_real, list_aus_real]\n",
    "pred_transposed = [list_tweets_pred, list_aus_pred]\n",
    "\n",
    "features = list(map(list, zip(*features_transposed)))\n",
    "pred = list(map(list, zip(*pred_transposed)))\n",
    "\n",
    "for feature_index in range(len(features)):\n",
    "    features[feature_index].extend(list_google_real[feature_index])\n",
    "\n",
    "for pred_index in range(len(pred)):\n",
    "    pred[pred_index].extend(list_google_pred[pred_index])\n",
    "\n",
    "google_transposed = list(map(list, zip(*list_google)))\n",
    "to_plot_transposed = [list_tweets, list_aus]\n",
    "to_plot_transposed.extend(google_transposed)"
   ]
  },
  {
   "cell_type": "markdown",
   "metadata": {},
   "source": [
    "#### Defining the SARIMAX model - forecasting the last 52 weeks\n",
    "Optimal order and seasonal_order (found via hyperparameter tuning in sarimax-script.py)"
   ]
  },
  {
   "cell_type": "code",
   "execution_count": 180,
   "metadata": {},
   "outputs": [
    {
     "name": "stderr",
     "output_type": "stream",
     "text": [
      "C:\\Users\\steph\\Anaconda3\\lib\\site-packages\\statsmodels\\base\\model.py:512: ConvergenceWarning: Maximum Likelihood optimization failed to converge. Check mle_retvals\n",
      "  \"Check mle_retvals\", ConvergenceWarning)\n"
     ]
    }
   ],
   "source": [
    "model = SARIMAX(endog=list_hospital_real, exog=features, order=(0, 1, 0), seasonal_order=(2, 1, 0, 52), enforce_stationarity=False, enforce_invertibility=False, trend='c')\n",
    "model_fit = model.fit()"
   ]
  },
  {
   "cell_type": "code",
   "execution_count": 181,
   "metadata": {},
   "outputs": [],
   "source": [
    "future = 52\n",
    "predictions = model_fit.predict(len(list_hospital_real), len(list_hospital_real) + future - 1, exog=pred)\n",
    "future_weeks = list(range(len(list_hospital_real), len(list_hospital_real) + future))"
   ]
  },
  {
   "cell_type": "code",
   "execution_count": 182,
   "metadata": {},
   "outputs": [],
   "source": [
    "predictions_df = pd.DataFrame([future_weeks, predictions]).transpose()\n",
    "predictions_df.columns = ['Week', 'Total ILI']\n",
    "predictions_df = predictions_df.set_index('Week')"
   ]
  },
  {
   "cell_type": "code",
   "execution_count": 183,
   "metadata": {},
   "outputs": [
    {
     "data": {
      "text/plain": [
       "Text(0.5, 1.0, 'Total ILI: 2015-2016 to 2018-2019 + predictions \\n(flu-related Google search terms)')"
      ]
     },
     "execution_count": 183,
     "metadata": {},
     "output_type": "execute_result"
    },
    {
     "data": {
      "image/png": "[encoded data removed]",
      "text/plain": [
       "<Figure size 432x288 with 1 Axes>"
      ]
     },
     "metadata": {
      "needs_background": "light"
     },
     "output_type": "display_data"
    }
   ],
   "source": [
    "plt.plot(df_hospital['ILI'], label='real')\n",
    "plt.plot(predictions_df, '--', label='prediction')\n",
    "plt.legend()\n",
    "plt.xlabel(\"Week\", labelpad=10)\n",
    "plt.ylabel(\"Total ILI\", labelpad=10)\n",
    "plt.title(\"Total ILI: 2015-2016 to 2018-2019 + predictions \\n(flu-related Google search terms)\", pad=15)"
   ]
  },
  {
   "cell_type": "code",
   "execution_count": 184,
   "metadata": {},
   "outputs": [
    {
     "data": {
      "text/html": [
       "<table class=\"simpletable\">\n",
       "<caption>Statespace Model Results</caption>\n",
       "<tr>\n",
       "  <th>Dep. Variable:</th>                  <td>y</td>               <th>  No. Observations:  </th>    <td>176</td>  \n",
       "</tr>\n",
       "<tr>\n",
       "  <th>Model:</th>           <td>SARIMAX(0, 1, 0)x(2, 1, 0, 52)</td> <th>  Log Likelihood     </th> <td>-137.515</td>\n",
       "</tr>\n",
       "<tr>\n",
       "  <th>Date:</th>                   <td>Tue, 10 Dec 2019</td>        <th>  AIC                </th>  <td>305.030</td>\n",
       "</tr>\n",
       "<tr>\n",
       "  <th>Time:</th>                       <td>23:01:09</td>            <th>  BIC                </th>  <td>319.197</td>\n",
       "</tr>\n",
       "<tr>\n",
       "  <th>Sample:</th>                         <td>0</td>               <th>  HQIC               </th>  <td>307.428</td>\n",
       "</tr>\n",
       "<tr>\n",
       "  <th></th>                             <td> - 176</td>             <th>                     </th>     <td> </td>   \n",
       "</tr>\n",
       "<tr>\n",
       "  <th>Covariance Type:</th>               <td>opg</td>              <th>                     </th>     <td> </td>   \n",
       "</tr>\n",
       "</table>\n",
       "<table class=\"simpletable\">\n",
       "<tr>\n",
       "      <td></td>         <th>coef</th>     <th>std err</th>      <th>z</th>      <th>P>|z|</th>  <th>[0.025</th>    <th>0.975]</th>  \n",
       "</tr>\n",
       "<tr>\n",
       "  <th>intercept</th> <td>  -19.2588</td> <td>  129.257</td> <td>   -0.149</td> <td> 0.882</td> <td> -272.597</td> <td>  234.079</td>\n",
       "</tr>\n",
       "<tr>\n",
       "  <th>x1</th>        <td>   -8.7696</td> <td>   14.065</td> <td>   -0.624</td> <td> 0.533</td> <td>  -36.336</td> <td>   18.797</td>\n",
       "</tr>\n",
       "<tr>\n",
       "  <th>x2</th>        <td>  -13.2822</td> <td>   21.540</td> <td>   -0.617</td> <td> 0.537</td> <td>  -55.501</td> <td>   28.936</td>\n",
       "</tr>\n",
       "<tr>\n",
       "  <th>x3</th>        <td> -101.8364</td> <td>  453.541</td> <td>   -0.225</td> <td> 0.822</td> <td> -990.760</td> <td>  787.087</td>\n",
       "</tr>\n",
       "<tr>\n",
       "  <th>x4</th>        <td> -305.7951</td> <td>  272.277</td> <td>   -1.123</td> <td> 0.261</td> <td> -839.448</td> <td>  227.858</td>\n",
       "</tr>\n",
       "<tr>\n",
       "  <th>x5</th>        <td>  603.9824</td> <td>  466.648</td> <td>    1.294</td> <td> 0.196</td> <td> -310.631</td> <td> 1518.595</td>\n",
       "</tr>\n",
       "<tr>\n",
       "  <th>x6</th>        <td>  256.2328</td> <td>  603.661</td> <td>    0.424</td> <td> 0.671</td> <td> -926.920</td> <td> 1439.386</td>\n",
       "</tr>\n",
       "<tr>\n",
       "  <th>x7</th>        <td>   27.0119</td> <td>  170.766</td> <td>    0.158</td> <td> 0.874</td> <td> -307.684</td> <td>  361.708</td>\n",
       "</tr>\n",
       "<tr>\n",
       "  <th>x8</th>        <td>  -18.3818</td> <td>  284.105</td> <td>   -0.065</td> <td> 0.948</td> <td> -575.217</td> <td>  538.453</td>\n",
       "</tr>\n",
       "<tr>\n",
       "  <th>x9</th>        <td>   97.7640</td> <td>  387.779</td> <td>    0.252</td> <td> 0.801</td> <td> -662.269</td> <td>  857.797</td>\n",
       "</tr>\n",
       "<tr>\n",
       "  <th>x10</th>       <td>  -58.7617</td> <td>  241.434</td> <td>   -0.243</td> <td> 0.808</td> <td> -531.964</td> <td>  414.441</td>\n",
       "</tr>\n",
       "<tr>\n",
       "  <th>x11</th>       <td>  -10.0598</td> <td>  178.155</td> <td>   -0.056</td> <td> 0.955</td> <td> -359.237</td> <td>  339.118</td>\n",
       "</tr>\n",
       "<tr>\n",
       "  <th>ar.S.L52</th>  <td>   -0.3778</td> <td>    0.410</td> <td>   -0.920</td> <td> 0.357</td> <td>   -1.182</td> <td>    0.427</td>\n",
       "</tr>\n",
       "<tr>\n",
       "  <th>ar.S.L104</th> <td>   -0.1853</td> <td>    0.461</td> <td>   -0.402</td> <td> 0.688</td> <td>   -1.089</td> <td>    0.719</td>\n",
       "</tr>\n",
       "<tr>\n",
       "  <th>sigma2</th>    <td> 1.105e+05</td> <td> 1.08e+05</td> <td>    1.026</td> <td> 0.305</td> <td>-1.01e+05</td> <td> 3.22e+05</td>\n",
       "</tr>\n",
       "</table>\n",
       "<table class=\"simpletable\">\n",
       "<tr>\n",
       "  <th>Ljung-Box (Q):</th>           <td>nan</td> <th>  Jarque-Bera (JB):  </th> <td>0.90</td> \n",
       "</tr>\n",
       "<tr>\n",
       "  <th>Prob(Q):</th>                 <td>nan</td> <th>  Prob(JB):          </th> <td>0.64</td> \n",
       "</tr>\n",
       "<tr>\n",
       "  <th>Heteroskedasticity (H):</th> <td>0.39</td> <th>  Skew:              </th> <td>-0.06</td>\n",
       "</tr>\n",
       "<tr>\n",
       "  <th>Prob(H) (two-sided):</th>    <td>0.28</td> <th>  Kurtosis:          </th> <td>1.94</td> \n",
       "</tr>\n",
       "</table><br/><br/>Warnings:<br/>[1] Covariance matrix calculated using the outer product of gradients (complex-step)."
      ],
      "text/plain": [
       "<class 'statsmodels.iolib.summary.Summary'>\n",
       "\"\"\"\n",
       "                                 Statespace Model Results                                 \n",
       "==========================================================================================\n",
       "Dep. Variable:                                  y   No. Observations:                  176\n",
       "Model:             SARIMAX(0, 1, 0)x(2, 1, 0, 52)   Log Likelihood                -137.515\n",
       "Date:                            Tue, 10 Dec 2019   AIC                            305.030\n",
       "Time:                                    23:01:09   BIC                            319.197\n",
       "Sample:                                         0   HQIC                           307.428\n",
       "                                            - 176                                         \n",
       "Covariance Type:                              opg                                         \n",
       "==============================================================================\n",
       "                 coef    std err          z      P>|z|      [0.025      0.975]\n",
       "------------------------------------------------------------------------------\n",
       "intercept    -19.2588    129.257     -0.149      0.882    -272.597     234.079\n",
       "x1            -8.7696     14.065     -0.624      0.533     -36.336      18.797\n",
       "x2           -13.2822     21.540     -0.617      0.537     -55.501      28.936\n",
       "x3          -101.8364    453.541     -0.225      0.822    -990.760     787.087\n",
       "x4          -305.7951    272.277     -1.123      0.261    -839.448     227.858\n",
       "x5           603.9824    466.648      1.294      0.196    -310.631    1518.595\n",
       "x6           256.2328    603.661      0.424      0.671    -926.920    1439.386\n",
       "x7            27.0119    170.766      0.158      0.874    -307.684     361.708\n",
       "x8           -18.3818    284.105     -0.065      0.948    -575.217     538.453\n",
       "x9            97.7640    387.779      0.252      0.801    -662.269     857.797\n",
       "x10          -58.7617    241.434     -0.243      0.808    -531.964     414.441\n",
       "x11          -10.0598    178.155     -0.056      0.955    -359.237     339.118\n",
       "ar.S.L52      -0.3778      0.410     -0.920      0.357      -1.182       0.427\n",
       "ar.S.L104     -0.1853      0.461     -0.402      0.688      -1.089       0.719\n",
       "sigma2      1.105e+05   1.08e+05      1.026      0.305   -1.01e+05    3.22e+05\n",
       "===================================================================================\n",
       "Ljung-Box (Q):                         nan   Jarque-Bera (JB):                 0.90\n",
       "Prob(Q):                               nan   Prob(JB):                         0.64\n",
       "Heteroskedasticity (H):               0.39   Skew:                            -0.06\n",
       "Prob(H) (two-sided):                  0.28   Kurtosis:                         1.94\n",
       "===================================================================================\n",
       "\n",
       "Warnings:\n",
       "[1] Covariance matrix calculated using the outer product of gradients (complex-step).\n",
       "\"\"\""
      ]
     },
     "execution_count": 184,
     "metadata": {},
     "output_type": "execute_result"
    }
   ],
   "source": [
    "model_fit.summary()"
   ]
  },
  {
   "cell_type": "code",
   "execution_count": 185,
   "metadata": {},
   "outputs": [
    {
     "data": {
      "text/plain": [
       "Text(0.5, 1.0, 'Total ILI + Features: 2014 - 2019')"
      ]
     },
     "execution_count": 185,
     "metadata": {},
     "output_type": "execute_result"
    },
    {
     "data": {
      "image/png": "[encoded data removed]",
      "text/plain": [
       "<Figure size 432x288 with 1 Axes>"
      ]
     },
     "metadata": {
      "needs_background": "light"
     },
     "output_type": "display_data"
    }
   ],
   "source": [
    "plt.plot(list_hospital, c='blue')\n",
    "plt.plot(list_tweets, c='green')\n",
    "plt.plot(list_aus, c='gray')\n",
    "plt.xlabel(\"Week\", labelpad=10)\n",
    "plt.ylabel(\"Total ILI\", labelpad=10)\n",
    "plt.title(\"Total ILI + Features: 2014 - 2019\", pad=15)"
   ]
  },
  {
   "cell_type": "markdown",
   "metadata": {},
   "source": [
    "### Predicting a previous year"
   ]
  },
  {
   "cell_type": "code",
   "execution_count": 186,
   "metadata": {},
   "outputs": [],
   "source": [
    "list_hospital_real = list_hospital[:-104]\n",
    "list_tweets_real = list_tweets[:-104]\n",
    "list_aus_real = list_aus[:-104]\n",
    "list_google_real = list_google[:-104]\n",
    "\n",
    "list_hospital_pred = list_hospital[-104:-52]\n",
    "list_tweets_pred = list_tweets[-104:-52]\n",
    "list_aus_pred = list_aus[-104:-52]\n",
    "list_google_pred = list_google[-104:-52]\n",
    "\n",
    "# Comment out these lines to only train on the data before where predictions will take place\n",
    "list_hospital_real.extend(list_hospital[-52:])\n",
    "list_tweets_real.extend(list_tweets[-52:])\n",
    "list_aus_real.extend(list_aus[-52:])\n",
    "list_google_real.extend(list_google[-52:])"
   ]
  },
  {
   "cell_type": "code",
   "execution_count": 187,
   "metadata": {},
   "outputs": [],
   "source": [
    "features_transposed = [list_tweets_real, list_aus_real]\n",
    "pred_transposed = [list_tweets_pred, list_aus_pred]\n",
    "\n",
    "features = list(map(list, zip(*features_transposed)))\n",
    "pred = list(map(list, zip(*pred_transposed)))\n",
    "\n",
    "for feature_index in range(len(features)):\n",
    "    features[feature_index].extend(list_google_real[feature_index])\n",
    "\n",
    "for pred_index in range(len(pred)):\n",
    "    pred[pred_index].extend(list_google_pred[pred_index])"
   ]
  },
  {
   "cell_type": "code",
   "execution_count": 188,
   "metadata": {},
   "outputs": [
    {
     "name": "stderr",
     "output_type": "stream",
     "text": [
      "C:\\Users\\steph\\Anaconda3\\lib\\site-packages\\statsmodels\\base\\model.py:512: ConvergenceWarning: Maximum Likelihood optimization failed to converge. Check mle_retvals\n",
      "  \"Check mle_retvals\", ConvergenceWarning)\n"
     ]
    }
   ],
   "source": [
    "model = SARIMAX(endog=list_hospital_real, exog=features, order=(1, 1, 0), seasonal_order=(1, 1, 0, 52), enforce_stationarity=False, enforce_invertibility=False, trend='c')\n",
    "model_fit = model.fit()"
   ]
  },
  {
   "cell_type": "code",
   "execution_count": 189,
   "metadata": {},
   "outputs": [],
   "source": [
    "future = 52\n",
    "predictions = model_fit.predict(len(list_hospital_real), len(list_hospital_real) + future - 1, exog=pred)\n",
    "future_weeks = list(range(len(list_hospital_real) - future, len(list_hospital_real)))"
   ]
  },
  {
   "cell_type": "code",
   "execution_count": 190,
   "metadata": {},
   "outputs": [],
   "source": [
    "predictions_df = pd.DataFrame([future_weeks, predictions]).transpose()\n",
    "predictions_df.columns = ['Week', 'Total ILI']\n",
    "predictions_df = predictions_df.set_index('Week')"
   ]
  },
  {
   "cell_type": "code",
   "execution_count": 191,
   "metadata": {},
   "outputs": [
    {
     "data": {
      "text/plain": [
       "Text(0.5, 1.0, 'Total ILI: 2015-2016 to 2018-2019 + predictions \\n(flu-related Google search terms)')"
      ]
     },
     "execution_count": 191,
     "metadata": {},
     "output_type": "execute_result"
    },
    {
     "data": {
      "image/png": "[encoded data removed]",
      "text/plain": [
       "<Figure size 432x288 with 1 Axes>"
      ]
     },
     "metadata": {
      "needs_background": "light"
     },
     "output_type": "display_data"
    }
   ],
   "source": [
    "plt.plot(df_hospital['ILI'], label='real')\n",
    "plt.plot(predictions_df, '--', label='prediction')\n",
    "plt.legend()\n",
    "plt.xlabel(\"Week\", labelpad=10)\n",
    "plt.ylabel(\"Total ILI\", labelpad=10)\n",
    "plt.title(\"Total ILI: 2015-2016 to 2018-2019 + predictions \\n(flu-related Google search terms)\", pad=15)"
   ]
  },
  {
   "cell_type": "code",
   "execution_count": 192,
   "metadata": {},
   "outputs": [
    {
     "data": {
      "text/html": [
       "<table class=\"simpletable\">\n",
       "<caption>Statespace Model Results</caption>\n",
       "<tr>\n",
       "  <th>Dep. Variable:</th>                  <td>y</td>               <th>  No. Observations:  </th>    <td>176</td>  \n",
       "</tr>\n",
       "<tr>\n",
       "  <th>Model:</th>           <td>SARIMAX(1, 1, 0)x(1, 1, 0, 52)</td> <th>  Log Likelihood     </th> <td>-623.348</td>\n",
       "</tr>\n",
       "<tr>\n",
       "  <th>Date:</th>                   <td>Tue, 10 Dec 2019</td>        <th>  AIC                </th> <td>1276.695</td>\n",
       "</tr>\n",
       "<tr>\n",
       "  <th>Time:</th>                       <td>23:05:35</td>            <th>  BIC                </th> <td>1310.423</td>\n",
       "</tr>\n",
       "<tr>\n",
       "  <th>Sample:</th>                         <td>0</td>               <th>  HQIC               </th> <td>1290.092</td>\n",
       "</tr>\n",
       "<tr>\n",
       "  <th></th>                             <td> - 176</td>             <th>                     </th>     <td> </td>   \n",
       "</tr>\n",
       "<tr>\n",
       "  <th>Covariance Type:</th>               <td>opg</td>              <th>                     </th>     <td> </td>   \n",
       "</tr>\n",
       "</table>\n",
       "<table class=\"simpletable\">\n",
       "<tr>\n",
       "      <td></td>         <th>coef</th>     <th>std err</th>      <th>z</th>      <th>P>|z|</th>  <th>[0.025</th>    <th>0.975]</th>  \n",
       "</tr>\n",
       "<tr>\n",
       "  <th>intercept</th> <td>  -15.0095</td> <td>  360.279</td> <td>   -0.042</td> <td> 0.967</td> <td> -721.143</td> <td>  691.124</td>\n",
       "</tr>\n",
       "<tr>\n",
       "  <th>x1</th>        <td>   -2.1877</td> <td>    1.994</td> <td>   -1.097</td> <td> 0.273</td> <td>   -6.096</td> <td>    1.721</td>\n",
       "</tr>\n",
       "<tr>\n",
       "  <th>x2</th>        <td>  -21.0313</td> <td>    4.999</td> <td>   -4.207</td> <td> 0.000</td> <td>  -30.830</td> <td>  -11.233</td>\n",
       "</tr>\n",
       "<tr>\n",
       "  <th>x3</th>        <td>  117.2795</td> <td>  181.024</td> <td>    0.648</td> <td> 0.517</td> <td> -237.522</td> <td>  472.081</td>\n",
       "</tr>\n",
       "<tr>\n",
       "  <th>x4</th>        <td>  -53.3685</td> <td>  151.447</td> <td>   -0.352</td> <td> 0.725</td> <td> -350.200</td> <td>  243.463</td>\n",
       "</tr>\n",
       "<tr>\n",
       "  <th>x5</th>        <td>  425.6752</td> <td>  222.021</td> <td>    1.917</td> <td> 0.055</td> <td>   -9.477</td> <td>  860.827</td>\n",
       "</tr>\n",
       "<tr>\n",
       "  <th>x6</th>        <td> -242.5518</td> <td>  188.450</td> <td>   -1.287</td> <td> 0.198</td> <td> -611.908</td> <td>  126.804</td>\n",
       "</tr>\n",
       "<tr>\n",
       "  <th>x7</th>        <td>   11.0231</td> <td>  129.581</td> <td>    0.085</td> <td> 0.932</td> <td> -242.951</td> <td>  264.997</td>\n",
       "</tr>\n",
       "<tr>\n",
       "  <th>x8</th>        <td>  -90.6069</td> <td>  188.315</td> <td>   -0.481</td> <td> 0.630</td> <td> -459.697</td> <td>  278.483</td>\n",
       "</tr>\n",
       "<tr>\n",
       "  <th>x9</th>        <td>  -16.7447</td> <td>  147.919</td> <td>   -0.113</td> <td> 0.910</td> <td> -306.660</td> <td>  273.171</td>\n",
       "</tr>\n",
       "<tr>\n",
       "  <th>x10</th>       <td>   65.2276</td> <td>  180.849</td> <td>    0.361</td> <td> 0.718</td> <td> -289.230</td> <td>  419.685</td>\n",
       "</tr>\n",
       "<tr>\n",
       "  <th>x11</th>       <td>  -26.2390</td> <td>   86.006</td> <td>   -0.305</td> <td> 0.760</td> <td> -194.808</td> <td>  142.330</td>\n",
       "</tr>\n",
       "<tr>\n",
       "  <th>ar.L1</th>     <td>    0.1107</td> <td>    0.252</td> <td>    0.440</td> <td> 0.660</td> <td>   -0.383</td> <td>    0.604</td>\n",
       "</tr>\n",
       "<tr>\n",
       "  <th>ar.S.L52</th>  <td>   -0.0063</td> <td>    0.149</td> <td>   -0.042</td> <td> 0.966</td> <td>   -0.299</td> <td>    0.286</td>\n",
       "</tr>\n",
       "<tr>\n",
       "  <th>sigma2</th>    <td> 3.229e+06</td> <td> 7.01e+05</td> <td>    4.605</td> <td> 0.000</td> <td> 1.85e+06</td> <td>  4.6e+06</td>\n",
       "</tr>\n",
       "</table>\n",
       "<table class=\"simpletable\">\n",
       "<tr>\n",
       "  <th>Ljung-Box (Q):</th>          <td>22.95</td> <th>  Jarque-Bera (JB):  </th> <td>197.47</td>\n",
       "</tr>\n",
       "<tr>\n",
       "  <th>Prob(Q):</th>                <td>0.99</td>  <th>  Prob(JB):          </th>  <td>0.00</td> \n",
       "</tr>\n",
       "<tr>\n",
       "  <th>Heteroskedasticity (H):</th> <td>1.86</td>  <th>  Skew:              </th>  <td>1.43</td> \n",
       "</tr>\n",
       "<tr>\n",
       "  <th>Prob(H) (two-sided):</th>    <td>0.14</td>  <th>  Kurtosis:          </th>  <td>10.71</td>\n",
       "</tr>\n",
       "</table><br/><br/>Warnings:<br/>[1] Covariance matrix calculated using the outer product of gradients (complex-step)."
      ],
      "text/plain": [
       "<class 'statsmodels.iolib.summary.Summary'>\n",
       "\"\"\"\n",
       "                                 Statespace Model Results                                 \n",
       "==========================================================================================\n",
       "Dep. Variable:                                  y   No. Observations:                  176\n",
       "Model:             SARIMAX(1, 1, 0)x(1, 1, 0, 52)   Log Likelihood                -623.348\n",
       "Date:                            Tue, 10 Dec 2019   AIC                           1276.695\n",
       "Time:                                    23:05:35   BIC                           1310.423\n",
       "Sample:                                         0   HQIC                          1290.092\n",
       "                                            - 176                                         \n",
       "Covariance Type:                              opg                                         \n",
       "==============================================================================\n",
       "                 coef    std err          z      P>|z|      [0.025      0.975]\n",
       "------------------------------------------------------------------------------\n",
       "intercept    -15.0095    360.279     -0.042      0.967    -721.143     691.124\n",
       "x1            -2.1877      1.994     -1.097      0.273      -6.096       1.721\n",
       "x2           -21.0313      4.999     -4.207      0.000     -30.830     -11.233\n",
       "x3           117.2795    181.024      0.648      0.517    -237.522     472.081\n",
       "x4           -53.3685    151.447     -0.352      0.725    -350.200     243.463\n",
       "x5           425.6752    222.021      1.917      0.055      -9.477     860.827\n",
       "x6          -242.5518    188.450     -1.287      0.198    -611.908     126.804\n",
       "x7            11.0231    129.581      0.085      0.932    -242.951     264.997\n",
       "x8           -90.6069    188.315     -0.481      0.630    -459.697     278.483\n",
       "x9           -16.7447    147.919     -0.113      0.910    -306.660     273.171\n",
       "x10           65.2276    180.849      0.361      0.718    -289.230     419.685\n",
       "x11          -26.2390     86.006     -0.305      0.760    -194.808     142.330\n",
       "ar.L1          0.1107      0.252      0.440      0.660      -0.383       0.604\n",
       "ar.S.L52      -0.0063      0.149     -0.042      0.966      -0.299       0.286\n",
       "sigma2      3.229e+06   7.01e+05      4.605      0.000    1.85e+06     4.6e+06\n",
       "===================================================================================\n",
       "Ljung-Box (Q):                       22.95   Jarque-Bera (JB):               197.47\n",
       "Prob(Q):                              0.99   Prob(JB):                         0.00\n",
       "Heteroskedasticity (H):               1.86   Skew:                             1.43\n",
       "Prob(H) (two-sided):                  0.14   Kurtosis:                        10.71\n",
       "===================================================================================\n",
       "\n",
       "Warnings:\n",
       "[1] Covariance matrix calculated using the outer product of gradients (complex-step).\n",
       "\"\"\""
      ]
     },
     "execution_count": 192,
     "metadata": {},
     "output_type": "execute_result"
    }
   ],
   "source": [
    "model_fit.summary()"
   ]
  },
  {
   "cell_type": "code",
   "execution_count": null,
   "metadata": {},
   "outputs": [],
   "source": []
  }
 ],
 "metadata": {
  "kernelspec": {
   "display_name": "Python 3",
   "language": "python",
   "name": "python3"
  },
  "language_info": {
   "codemirror_mode": {
    "name": "ipython",
    "version": 3
   },
   "file_extension": ".py",
   "mimetype": "text/x-python",
   "name": "python",
   "nbconvert_exporter": "python",
   "pygments_lexer": "ipython3",
   "version": "3.7.4"
  }
 },
 "nbformat": 4,
 "nbformat_minor": 2
}
