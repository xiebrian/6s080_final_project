{
 "cells": [
  {
   "cell_type": "markdown",
   "metadata": {},
   "source": [
    "# Seasonal Autoregressive Integrated Moving Average with Exogenous Regressors\n",
    "### Model for time series forecasting with data containing trends and/or seasonality _and_ exogenous variables"
   ]
  },
  {
   "cell_type": "code",
   "execution_count": 106,
   "metadata": {},
   "outputs": [],
   "source": [
    "import matplotlib as mpl\n",
    "import matplotlib.pyplot as plt\n",
    "import seaborn as sns\n",
    "import pandas as pd\n",
    "\n",
    "from statsmodels.tsa.statespace.sarimax import SARIMAX"
   ]
  },
  {
   "cell_type": "markdown",
   "metadata": {},
   "source": [
    "Reading in CDC data and exogenous variables"
   ]
  },
  {
   "cell_type": "code",
   "execution_count": 107,
   "metadata": {},
   "outputs": [],
   "source": [
    "df_hospital = pd.read_csv('../data/hospital_visits.csv')\n",
    "df_hospital['Week'] = df_hospital.Week.map(str) + \"-\" + df_hospital.Year.map(str)\n",
    "df_hospital = df_hospital[['Week', 'Total ILI']]\n",
    "df_hospital.columns = ['Week', 'ILI']\n",
    "df_hospital = df_hospital[28:256]\n",
    "df_hospital = df_hospital.reset_index(drop=True)\n",
    "\n",
    "df_twitter = pd.read_csv('../data/twitter-flu-data.csv', header=None)\n",
    "df_twitter.columns = ['Year', 'Week', '1', '2', '3', '4', '5', '6', '7']\n",
    "df_twitter['Week'] = df_twitter.Week.map(str) + \"-\" + df_twitter.Year.map(str)\n",
    "df_twitter['Tweets'] = df_twitter[['1', '2', '3', '4', '5', '6', '7']].sum(axis=1)\n",
    "df_twitter = df_twitter[['Week', 'Tweets']][27:-1]\n",
    "df_twitter = df_twitter.reset_index(drop=True)\n",
    "\n",
    "df_us = pd.read_csv('../data/USA_flu_virus_counts.csv')\n",
    "df_us['Week'] = df_us.Week.map(str) + \"-\" + df_us.Year.map(str)\n",
    "df_us = df_us[['Week', 'ALL_INF']]\n",
    "df_us = df_us[786+27:1042]\n",
    "df_us = df_us.drop(851)\n",
    "df_us = df_us.reset_index(drop=True)\n",
    "\n",
    "df_aus = pd.read_csv('../data/AUS_flu_virus_counts.csv')\n",
    "df_aus['Week'] = df_aus.Week.map(str) + \"-\" + df_aus.Year.map(str)\n",
    "df_aus = df_aus[['Week', 'ALL_INF']]\n",
    "df_aus = df_aus[912:1168-27]\n",
    "df_aus = df_aus.drop(977)\n",
    "df_aus = df_aus.reset_index(drop=True)\n",
    "\n",
    "df_google = pd.read_csv('../data/google_trends/flu_related_trends.csv')\n",
    "df_google['Week'] = df_google.Week.map(str) + \"-\" + df_google.Year.map(str)\n",
    "df_google = df_google[['Week', 'flu season', 'flu shot', 'flu symptoms', 'flu', 'flu vaccine', 'flu vs cold', 'cold flu', 'flu virus', 'stomach flu']]\n",
    "df_google = df_google[17:246]\n",
    "df_google = df_google.drop(159)\n",
    "df_google = df_google.reset_index(drop=True)"
   ]
  },
  {
   "cell_type": "code",
   "execution_count": 108,
   "metadata": {},
   "outputs": [],
   "source": [
    "list_hospital = list(df_hospital['ILI'])\n",
    "list_tweets = list(df_twitter['Tweets'])\n",
    "list_us = list(df_us['ALL_INF'])\n",
    "list_aus = list(df_aus['ALL_INF'])\n",
    "list_google = df_google[['flu season', 'flu shot', 'flu symptoms', 'flu', 'flu vaccine', 'flu vs cold', 'cold flu', 'flu virus', 'stomach flu']].values.tolist()"
   ]
  },
  {
   "cell_type": "code",
   "execution_count": 109,
   "metadata": {},
   "outputs": [],
   "source": [
    "list_hospital_real = list_hospital[:-52]\n",
    "list_tweets_real = list_tweets[:-52]\n",
    "list_us_real = list_us[:-52]\n",
    "list_aus_real = list_aus[:-52]\n",
    "list_google_real = list_google[:-52]\n",
    "\n",
    "list_hospital_pred = list_hospital[-52:]\n",
    "list_tweets_pred = list_tweets[-52:]\n",
    "list_us_pred = list_us[-52:]\n",
    "list_aus_pred = list_aus[-52:]\n",
    "list_google_pred = list_google[-52:]"
   ]
  },
  {
   "cell_type": "code",
   "execution_count": 110,
   "metadata": {},
   "outputs": [],
   "source": [
    "features_transposed = [list_tweets_real, list_aus_real]\n",
    "pred_transposed = [list_tweets_pred, list_aus_pred]\n",
    "\n",
    "features = list(map(list, zip(*features_transposed)))\n",
    "pred = list(map(list, zip(*pred_transposed)))\n",
    "\n",
    "for feature_index in range(len(features)):\n",
    "    features[feature_index].extend(list_google_real[feature_index])\n",
    "\n",
    "for pred_index in range(len(pred)):\n",
    "    pred[pred_index].extend(list_google_pred[pred_index])\n",
    "\n",
    "google_transposed = list(map(list, zip(*list_google)))\n",
    "to_plot_transposed = [list_tweets, list_aus]\n",
    "to_plot_transposed.extend(google_transposed)"
   ]
  },
  {
   "cell_type": "markdown",
   "metadata": {},
   "source": [
    "#### Defining the SARIMAX model - forecasting the last 52 weeks\n",
    "Optimal order and seasonal_order (found via hyperparameter tuning in sarimax-script.py)"
   ]
  },
  {
   "cell_type": "code",
   "execution_count": 125,
   "metadata": {},
   "outputs": [
    {
     "name": "stderr",
     "output_type": "stream",
     "text": [
      "C:\\Users\\steph\\Anaconda3\\lib\\site-packages\\statsmodels\\base\\model.py:512: ConvergenceWarning: Maximum Likelihood optimization failed to converge. Check mle_retvals\n",
      "  \"Check mle_retvals\", ConvergenceWarning)\n"
     ]
    }
   ],
   "source": [
    "model = SARIMAX(endog=list_hospital_real, exog=features, order=(0, 1, 0), seasonal_order=(2, 1, 0, 52), enforce_stationarity=False, enforce_invertibility=False, trend='c')\n",
    "model_fit = model.fit()"
   ]
  },
  {
   "cell_type": "code",
   "execution_count": 126,
   "metadata": {},
   "outputs": [],
   "source": [
    "future = 52\n",
    "predictions = model_fit.predict(len(list_hospital_real), len(list_hospital_real) + future - 1, exog=pred)\n",
    "future_weeks = list(range(len(list_hospital_real), len(list_hospital_real) + future))"
   ]
  },
  {
   "cell_type": "code",
   "execution_count": 127,
   "metadata": {},
   "outputs": [],
   "source": [
    "predictions_df = pd.DataFrame([future_weeks, predictions]).transpose()\n",
    "predictions_df.columns = ['Week', 'Total ILI']\n",
    "predictions_df = predictions_df.set_index('Week')"
   ]
  },
  {
   "cell_type": "code",
   "execution_count": 128,
   "metadata": {},
   "outputs": [
    {
     "data": {
      "text/plain": [
       "Text(0.5, 1.0, 'Total ILI: 2014 - 2019 + predictions')"
      ]
     },
     "execution_count": 128,
     "metadata": {},
     "output_type": "execute_result"
    },
    {
     "data": {
      "image/png": "[encoded data removed]",
      "text/plain": [
       "<Figure size 432x288 with 1 Axes>"
      ]
     },
     "metadata": {
      "needs_background": "light"
     },
     "output_type": "display_data"
    }
   ],
   "source": [
    "plt.plot(df_hospital['ILI'], label='real')\n",
    "plt.plot(predictions_df, '--', label='prediction')\n",
    "plt.legend()\n",
    "plt.xlabel(\"Week\", labelpad=10)\n",
    "plt.ylabel(\"Total ILI\", labelpad=10)\n",
    "plt.title(\"Total ILI: 2014 - 2019 + predictions\", pad=15)"
   ]
  },
  {
   "cell_type": "code",
   "execution_count": 121,
   "metadata": {},
   "outputs": [
    {
     "data": {
      "text/html": [
       "<table class=\"simpletable\">\n",
       "<caption>Statespace Model Results</caption>\n",
       "<tr>\n",
       "  <th>Dep. Variable:</th>                  <td>y</td>               <th>  No. Observations:  </th>    <td>176</td>  \n",
       "</tr>\n",
       "<tr>\n",
       "  <th>Model:</th>           <td>SARIMAX(1, 1, 0)x(1, 1, 0, 52)</td> <th>  Log Likelihood     </th> <td>-629.925</td>\n",
       "</tr>\n",
       "<tr>\n",
       "  <th>Date:</th>                   <td>Tue, 10 Dec 2019</td>        <th>  AIC                </th> <td>1289.851</td>\n",
       "</tr>\n",
       "<tr>\n",
       "  <th>Time:</th>                       <td>20:21:31</td>            <th>  BIC                </th> <td>1323.578</td>\n",
       "</tr>\n",
       "<tr>\n",
       "  <th>Sample:</th>                         <td>0</td>               <th>  HQIC               </th> <td>1303.248</td>\n",
       "</tr>\n",
       "<tr>\n",
       "  <th></th>                             <td> - 176</td>             <th>                     </th>     <td> </td>   \n",
       "</tr>\n",
       "<tr>\n",
       "  <th>Covariance Type:</th>               <td>opg</td>              <th>                     </th>     <td> </td>   \n",
       "</tr>\n",
       "</table>\n",
       "<table class=\"simpletable\">\n",
       "<tr>\n",
       "      <td></td>         <th>coef</th>     <th>std err</th>      <th>z</th>      <th>P>|z|</th>  <th>[0.025</th>    <th>0.975]</th>  \n",
       "</tr>\n",
       "<tr>\n",
       "  <th>intercept</th> <td>  -21.8110</td> <td>  420.961</td> <td>   -0.052</td> <td> 0.959</td> <td> -846.879</td> <td>  803.257</td>\n",
       "</tr>\n",
       "<tr>\n",
       "  <th>x1</th>        <td>   -9.1339</td> <td>    5.066</td> <td>   -1.803</td> <td> 0.071</td> <td>  -19.062</td> <td>    0.795</td>\n",
       "</tr>\n",
       "<tr>\n",
       "  <th>x2</th>        <td>    9.2090</td> <td>    7.126</td> <td>    1.292</td> <td> 0.196</td> <td>   -4.757</td> <td>   23.175</td>\n",
       "</tr>\n",
       "<tr>\n",
       "  <th>x3</th>        <td>  -94.6458</td> <td>  162.680</td> <td>   -0.582</td> <td> 0.561</td> <td> -413.493</td> <td>  224.201</td>\n",
       "</tr>\n",
       "<tr>\n",
       "  <th>x4</th>        <td> -454.8144</td> <td>  227.180</td> <td>   -2.002</td> <td> 0.045</td> <td> -900.079</td> <td>   -9.549</td>\n",
       "</tr>\n",
       "<tr>\n",
       "  <th>x5</th>        <td>  592.5350</td> <td>  156.113</td> <td>    3.796</td> <td> 0.000</td> <td>  286.560</td> <td>  898.510</td>\n",
       "</tr>\n",
       "<tr>\n",
       "  <th>x6</th>        <td>  120.6022</td> <td>  106.636</td> <td>    1.131</td> <td> 0.258</td> <td>  -88.401</td> <td>  329.606</td>\n",
       "</tr>\n",
       "<tr>\n",
       "  <th>x7</th>        <td> -166.1451</td> <td>  100.558</td> <td>   -1.652</td> <td> 0.098</td> <td> -363.236</td> <td>   30.945</td>\n",
       "</tr>\n",
       "<tr>\n",
       "  <th>x8</th>        <td>   -7.7099</td> <td>  120.970</td> <td>   -0.064</td> <td> 0.949</td> <td> -244.807</td> <td>  229.388</td>\n",
       "</tr>\n",
       "<tr>\n",
       "  <th>x9</th>        <td>  157.4951</td> <td>  190.005</td> <td>    0.829</td> <td> 0.407</td> <td> -214.908</td> <td>  529.898</td>\n",
       "</tr>\n",
       "<tr>\n",
       "  <th>x10</th>       <td>  244.2871</td> <td>  120.820</td> <td>    2.022</td> <td> 0.043</td> <td>    7.484</td> <td>  481.090</td>\n",
       "</tr>\n",
       "<tr>\n",
       "  <th>x11</th>       <td>  -90.9204</td> <td>   90.275</td> <td>   -1.007</td> <td> 0.314</td> <td> -267.855</td> <td>   86.015</td>\n",
       "</tr>\n",
       "<tr>\n",
       "  <th>ar.L1</th>     <td>    0.1736</td> <td>    0.248</td> <td>    0.699</td> <td> 0.484</td> <td>   -0.313</td> <td>    0.660</td>\n",
       "</tr>\n",
       "<tr>\n",
       "  <th>ar.S.L52</th>  <td>    0.2601</td> <td>    0.199</td> <td>    1.309</td> <td> 0.191</td> <td>   -0.129</td> <td>    0.650</td>\n",
       "</tr>\n",
       "<tr>\n",
       "  <th>sigma2</th>    <td> 4.067e+06</td> <td> 1.04e+06</td> <td>    3.911</td> <td> 0.000</td> <td> 2.03e+06</td> <td>  6.1e+06</td>\n",
       "</tr>\n",
       "</table>\n",
       "<table class=\"simpletable\">\n",
       "<tr>\n",
       "  <th>Ljung-Box (Q):</th>          <td>33.50</td> <th>  Jarque-Bera (JB):  </th> <td>309.51</td>\n",
       "</tr>\n",
       "<tr>\n",
       "  <th>Prob(Q):</th>                <td>0.76</td>  <th>  Prob(JB):          </th>  <td>0.00</td> \n",
       "</tr>\n",
       "<tr>\n",
       "  <th>Heteroskedasticity (H):</th> <td>2.87</td>  <th>  Skew:              </th>  <td>-2.31</td>\n",
       "</tr>\n",
       "<tr>\n",
       "  <th>Prob(H) (two-sided):</th>    <td>0.01</td>  <th>  Kurtosis:          </th>  <td>12.21</td>\n",
       "</tr>\n",
       "</table><br/><br/>Warnings:<br/>[1] Covariance matrix calculated using the outer product of gradients (complex-step)."
      ],
      "text/plain": [
       "<class 'statsmodels.iolib.summary.Summary'>\n",
       "\"\"\"\n",
       "                                 Statespace Model Results                                 \n",
       "==========================================================================================\n",
       "Dep. Variable:                                  y   No. Observations:                  176\n",
       "Model:             SARIMAX(1, 1, 0)x(1, 1, 0, 52)   Log Likelihood                -629.925\n",
       "Date:                            Tue, 10 Dec 2019   AIC                           1289.851\n",
       "Time:                                    20:21:31   BIC                           1323.578\n",
       "Sample:                                         0   HQIC                          1303.248\n",
       "                                            - 176                                         \n",
       "Covariance Type:                              opg                                         \n",
       "==============================================================================\n",
       "                 coef    std err          z      P>|z|      [0.025      0.975]\n",
       "------------------------------------------------------------------------------\n",
       "intercept    -21.8110    420.961     -0.052      0.959    -846.879     803.257\n",
       "x1            -9.1339      5.066     -1.803      0.071     -19.062       0.795\n",
       "x2             9.2090      7.126      1.292      0.196      -4.757      23.175\n",
       "x3           -94.6458    162.680     -0.582      0.561    -413.493     224.201\n",
       "x4          -454.8144    227.180     -2.002      0.045    -900.079      -9.549\n",
       "x5           592.5350    156.113      3.796      0.000     286.560     898.510\n",
       "x6           120.6022    106.636      1.131      0.258     -88.401     329.606\n",
       "x7          -166.1451    100.558     -1.652      0.098    -363.236      30.945\n",
       "x8            -7.7099    120.970     -0.064      0.949    -244.807     229.388\n",
       "x9           157.4951    190.005      0.829      0.407    -214.908     529.898\n",
       "x10          244.2871    120.820      2.022      0.043       7.484     481.090\n",
       "x11          -90.9204     90.275     -1.007      0.314    -267.855      86.015\n",
       "ar.L1          0.1736      0.248      0.699      0.484      -0.313       0.660\n",
       "ar.S.L52       0.2601      0.199      1.309      0.191      -0.129       0.650\n",
       "sigma2      4.067e+06   1.04e+06      3.911      0.000    2.03e+06     6.1e+06\n",
       "===================================================================================\n",
       "Ljung-Box (Q):                       33.50   Jarque-Bera (JB):               309.51\n",
       "Prob(Q):                              0.76   Prob(JB):                         0.00\n",
       "Heteroskedasticity (H):               2.87   Skew:                            -2.31\n",
       "Prob(H) (two-sided):                  0.01   Kurtosis:                        12.21\n",
       "===================================================================================\n",
       "\n",
       "Warnings:\n",
       "[1] Covariance matrix calculated using the outer product of gradients (complex-step).\n",
       "\"\"\""
      ]
     },
     "execution_count": 121,
     "metadata": {},
     "output_type": "execute_result"
    }
   ],
   "source": [
    "model_fit.summary()"
   ]
  },
  {
   "cell_type": "code",
   "execution_count": 116,
   "metadata": {},
   "outputs": [
    {
     "data": {
      "text/plain": [
       "Text(0.5, 1.0, 'Total ILI + Features: 2014 - 2019')"
      ]
     },
     "execution_count": 116,
     "metadata": {},
     "output_type": "execute_result"
    },
    {
     "data": {
      "image/png": "[encoded data removed]",
      "text/plain": [
       "<Figure size 432x288 with 1 Axes>"
      ]
     },
     "metadata": {
      "needs_background": "light"
     },
     "output_type": "display_data"
    }
   ],
   "source": [
    "plt.plot(list_hospital, c='blue')\n",
    "plt.plot(list_tweets, c='green')\n",
    "plt.plot(list_aus, c='gray')\n",
    "plt.xlabel(\"Week\", labelpad=10)\n",
    "plt.ylabel(\"Total ILI\", labelpad=10)\n",
    "plt.title(\"Total ILI + Features: 2014 - 2019\", pad=15)"
   ]
  },
  {
   "cell_type": "code",
   "execution_count": null,
   "metadata": {},
   "outputs": [],
   "source": []
  }
 ],
 "metadata": {
  "kernelspec": {
   "display_name": "Python 3",
   "language": "python",
   "name": "python3"
  },
  "language_info": {
   "codemirror_mode": {
    "name": "ipython",
    "version": 3
   },
   "file_extension": ".py",
   "mimetype": "text/x-python",
   "name": "python",
   "nbconvert_exporter": "python",
   "pygments_lexer": "ipython3",
   "version": "3.7.4"
  }
 },
 "nbformat": 4,
 "nbformat_minor": 2
}
