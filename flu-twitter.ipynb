{
 "cells": [
  {
   "cell_type": "code",
   "execution_count": 1,
   "metadata": {},
   "outputs": [],
   "source": [
    "import tweepy\n",
    "import pandas as pd\n",
    "import gmaps\n",
    "import googlemaps\n",
    "from tqdm import tqdm"
   ]
  },
  {
   "cell_type": "code",
   "execution_count": 2,
   "metadata": {},
   "outputs": [],
   "source": [
    "consumer_key=\"\"\n",
    "consumer_secret=\"\"\n",
    "access_token=\"\"\n",
    "access_token_secret=\"\""
   ]
  },
  {
   "cell_type": "code",
   "execution_count": 3,
   "metadata": {},
   "outputs": [],
   "source": [
    "auth = tweepy.OAuthHandler(consumer_key, consumer_secret)\n",
    "auth.set_access_token(access_token, access_token_secret)\n",
    "api = tweepy.API(auth,wait_on_rate_limit=True)"
   ]
  },
  {
   "cell_type": "code",
   "execution_count": 16,
   "metadata": {},
   "outputs": [],
   "source": [
    "tweets = tweepy.Cursor(api.search, q=\"flu -filter:retweets\", lang=\"en\", result_type=\"recent\").items()"
   ]
  },
  {
   "cell_type": "code",
   "execution_count": 17,
   "metadata": {},
   "outputs": [],
   "source": [
    "tweets_list = []\n",
    "for tweet in tweets:\n",
    "    tweets_list.append([tweet.id, tweet.coordinates, tweet.user.location])"
   ]
  },
  {
   "cell_type": "code",
   "execution_count": 18,
   "metadata": {},
   "outputs": [],
   "source": [
    "df = pd.DataFrame(data=tweets_list, \n",
    "                  columns=['id', \"coordinates\", \"location\"])"
   ]
  },
  {
   "cell_type": "code",
   "execution_count": 19,
   "metadata": {},
   "outputs": [
    {
     "data": {
      "text/html": [
       "<div>\n",
       "<style scoped>\n",
       "    .dataframe tbody tr th:only-of-type {\n",
       "        vertical-align: middle;\n",
       "    }\n",
       "\n",
       "    .dataframe tbody tr th {\n",
       "        vertical-align: top;\n",
       "    }\n",
       "\n",
       "    .dataframe thead th {\n",
       "        text-align: right;\n",
       "    }\n",
       "</style>\n",
       "<table border=\"1\" class=\"dataframe\">\n",
       "  <thead>\n",
       "    <tr style=\"text-align: right;\">\n",
       "      <th></th>\n",
       "      <th>id</th>\n",
       "      <th>coordinates</th>\n",
       "      <th>location</th>\n",
       "    </tr>\n",
       "  </thead>\n",
       "  <tbody>\n",
       "    <tr>\n",
       "      <td>0</td>\n",
       "      <td>1190873754814926848</td>\n",
       "      <td>None</td>\n",
       "      <td>Hacienda Heights, CA</td>\n",
       "    </tr>\n",
       "    <tr>\n",
       "      <td>1</td>\n",
       "      <td>1190873452204437505</td>\n",
       "      <td>None</td>\n",
       "      <td>The Copper Beeches, UK</td>\n",
       "    </tr>\n",
       "    <tr>\n",
       "      <td>2</td>\n",
       "      <td>1190873402195595264</td>\n",
       "      <td>None</td>\n",
       "      <td></td>\n",
       "    </tr>\n",
       "    <tr>\n",
       "      <td>3</td>\n",
       "      <td>1190873210675453952</td>\n",
       "      <td>None</td>\n",
       "      <td>Washington D.C. area</td>\n",
       "    </tr>\n",
       "    <tr>\n",
       "      <td>4</td>\n",
       "      <td>1190872907129462784</td>\n",
       "      <td>None</td>\n",
       "      <td>Wisconsin, USA</td>\n",
       "    </tr>\n",
       "    <tr>\n",
       "      <td>...</td>\n",
       "      <td>...</td>\n",
       "      <td>...</td>\n",
       "      <td>...</td>\n",
       "    </tr>\n",
       "    <tr>\n",
       "      <td>65162</td>\n",
       "      <td>1187663410638573574</td>\n",
       "      <td>None</td>\n",
       "      <td></td>\n",
       "    </tr>\n",
       "    <tr>\n",
       "      <td>65163</td>\n",
       "      <td>1187663396835119104</td>\n",
       "      <td>None</td>\n",
       "      <td></td>\n",
       "    </tr>\n",
       "    <tr>\n",
       "      <td>65164</td>\n",
       "      <td>1187662848073158658</td>\n",
       "      <td>None</td>\n",
       "      <td>Washington, USA</td>\n",
       "    </tr>\n",
       "    <tr>\n",
       "      <td>65165</td>\n",
       "      <td>1187662215937171456</td>\n",
       "      <td>None</td>\n",
       "      <td>The Borders</td>\n",
       "    </tr>\n",
       "    <tr>\n",
       "      <td>65166</td>\n",
       "      <td>1187662109980741632</td>\n",
       "      <td>None</td>\n",
       "      <td></td>\n",
       "    </tr>\n",
       "  </tbody>\n",
       "</table>\n",
       "<p>65167 rows × 3 columns</p>\n",
       "</div>"
      ],
      "text/plain": [
       "                        id coordinates                location\n",
       "0      1190873754814926848        None    Hacienda Heights, CA\n",
       "1      1190873452204437505        None  The Copper Beeches, UK\n",
       "2      1190873402195595264        None                        \n",
       "3      1190873210675453952        None    Washington D.C. area\n",
       "4      1190872907129462784        None          Wisconsin, USA\n",
       "...                    ...         ...                     ...\n",
       "65162  1187663410638573574        None                        \n",
       "65163  1187663396835119104        None                        \n",
       "65164  1187662848073158658        None         Washington, USA\n",
       "65165  1187662215937171456        None             The Borders\n",
       "65166  1187662109980741632        None                        \n",
       "\n",
       "[65167 rows x 3 columns]"
      ]
     },
     "execution_count": 19,
     "metadata": {},
     "output_type": "execute_result"
    }
   ],
   "source": [
    "df"
   ]
  },
  {
   "cell_type": "code",
   "execution_count": 20,
   "metadata": {},
   "outputs": [],
   "source": [
    "gmaps_client = googlemaps.Client(key=\"\")"
   ]
  },
  {
   "cell_type": "code",
   "execution_count": 21,
   "metadata": {},
   "outputs": [],
   "source": [
    "def in_usa(address_components):\n",
    "    for component in address_components:\n",
    "        if \"country\" in component[\"types\"]:\n",
    "            short_lower = component[\"short_name\"].lower()\n",
    "            if short_lower in [\"us\", \"usa\"]:\n",
    "                return True\n",
    "    return False"
   ]
  },
  {
   "cell_type": "code",
   "execution_count": 22,
   "metadata": {},
   "outputs": [
    {
     "name": "stderr",
     "output_type": "stream",
     "text": [
      "100%|██████████████████████████████████████████████████████████████████████████| 65167/65167 [3:27:45<00:00,  5.23it/s]\n"
     ]
    }
   ],
   "source": [
    "coordinates = []\n",
    "for i in tqdm(range(len(df.location))):\n",
    "    x = df.location[i]\n",
    "    if not x:\n",
    "        continue\n",
    "    geocode_result = gmaps_client.geocode(x)\n",
    "    if geocode_result:\n",
    "        address_components = geocode_result[0][\"address_components\"]\n",
    "        usa_location = in_usa(address_components)\n",
    "        if usa_location:\n",
    "            lat = geocode_result[0][\"geometry\"][\"location\"][\"lat\"]\n",
    "            lon = geocode_result[0][\"geometry\"][\"location\"][\"lng\"]\n",
    "            coordinates.append([lat, lon])"
   ]
  },
  {
   "cell_type": "code",
   "execution_count": 23,
   "metadata": {},
   "outputs": [
    {
     "name": "stdout",
     "output_type": "stream",
     "text": [
      "26795\n"
     ]
    }
   ],
   "source": [
    "print(len(coordinates))"
   ]
  },
  {
   "cell_type": "code",
   "execution_count": 24,
   "metadata": {},
   "outputs": [],
   "source": [
    "coordinates = pd.DataFrame(coordinates, columns=[\"latitude\", \"longitude\"])"
   ]
  },
  {
   "cell_type": "code",
   "execution_count": 3,
   "metadata": {},
   "outputs": [],
   "source": [
    "coordinates = pd.read_csv(\"coordinates.csv\")[[\"latitude\", \"longitude\"]]"
   ]
  },
  {
   "cell_type": "code",
   "execution_count": 4,
   "metadata": {},
   "outputs": [],
   "source": [
    "gmaps.configure(api_key=\"\") # Fill in with your API key"
   ]
  },
  {
   "cell_type": "code",
   "execution_count": 6,
   "metadata": {},
   "outputs": [
    {
     "data": {
      "application/vnd.jupyter.widget-view+json": {
       "model_id": "63da784e95ec42d7a0d68f762cd66667",
       "version_major": 2,
       "version_minor": 0
      },
      "text/plain": [
       "Figure(layout=FigureLayout(height='1000px', width='1000px'))"
      ]
     },
     "metadata": {},
     "output_type": "display_data"
    }
   ],
   "source": [
    "heatmap_layer = gmaps.heatmap_layer(coordinates)\n",
    "heatmap_layer.max_intensity = 100\n",
    "heatmap_layer.point_radius = 10\n",
    "\n",
    "figure_layout = {\n",
    "    'width': '1000px',\n",
    "    'height': '1000px'\n",
    "}\n",
    "fig = gmaps.figure(map_type=\"HYBRID\", layout=figure_layout, center=[37.0902, -110.7129], zoom_level=3.6)\n",
    "fig.add_layer(heatmap_layer)\n",
    "fig"
   ]
  },
  {
   "cell_type": "code",
   "execution_count": 26,
   "metadata": {},
   "outputs": [],
   "source": [
    "coordinates.to_csv(\"coordinates.csv\")"
   ]
  },
  {
   "cell_type": "code",
   "execution_count": null,
   "metadata": {},
   "outputs": [
    {
     "name": "stdout",
     "output_type": "stream",
     "text": [
      "Checkpoint 1\n"
     ]
    }
   ],
   "source": [
    "print(\"Checkpoint 1\")\n",
    "scatter = gmaps.symbol_layer(\n",
    "    coordinates, fill_color='red', stroke_color='green', scale=2\n",
    ")\n",
    "\n",
    "figure_layout = {\n",
    "    'width': '1000px',\n",
    "    'height': '1000px'\n",
    "}\n",
    "\n",
    "print(\"Checkpoint 2\")\n",
    "fig = gmaps.figure(layout=figure_layout, center=[37.0902, -110.7129], zoom_level=3.6)\n",
    "print(\"Checkpoint 3\")\n",
    "fig.add_layer(scatter)\n",
    "fig"
   ]
  },
  {
   "cell_type": "code",
   "execution_count": null,
   "metadata": {},
   "outputs": [],
   "source": []
  }
 ],
 "metadata": {
  "kernelspec": {
   "display_name": "Python 3",
   "language": "python",
   "name": "python3"
  },
  "language_info": {
   "codemirror_mode": {
    "name": "ipython",
    "version": 3
   },
   "file_extension": ".py",
   "mimetype": "text/x-python",
   "name": "python",
   "nbconvert_exporter": "python",
   "pygments_lexer": "ipython3",
   "version": "3.7.4"
  }
 },
 "nbformat": 4,
 "nbformat_minor": 2
}
